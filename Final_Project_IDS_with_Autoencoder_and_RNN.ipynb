{
  "metadata": {
    "kernelspec": {
      "name": "python3",
      "display_name": "Python 3"
    },
    "language_info": {
      "name": "python",
      "version": "3.10.12",
      "mimetype": "text/x-python",
      "codemirror_mode": {
        "name": "ipython",
        "version": 3
      },
      "pygments_lexer": "ipython3",
      "nbconvert_exporter": "python",
      "file_extension": ".py"
    },
    "kaggle": {
      "accelerator": "nvidiaTeslaT4",
      "dataSources": [
        {
          "sourceId": 6376134,
          "sourceType": "datasetVersion",
          "datasetId": 3674161
        },
        {
          "sourceId": 10842433,
          "sourceType": "datasetVersion",
          "datasetId": 6733479
        },
        {
          "sourceId": 10842458,
          "sourceType": "datasetVersion",
          "datasetId": 6733495
        }
      ],
      "dockerImageVersionId": 30840,
      "isInternetEnabled": true,
      "language": "python",
      "sourceType": "notebook",
      "isGpuEnabled": true
    },
    "colab": {
      "name": "Final Project - IDS with Autoencoder and RNN",
      "provenance": [],
      "machine_shape": "hm",
      "gpuType": "T4",
      "toc_visible": true,
      "include_colab_link": true
    },
    "accelerator": "GPU",
    "widgets": {
      "application/vnd.jupyter.widget-state+json": {
        "8d651351bc104b1080e705680e5a816b": {
          "model_module": "@jupyter-widgets/controls",
          "model_name": "VBoxModel",
          "model_module_version": "1.5.0",
          "state": {
            "_dom_classes": [],
            "_model_module": "@jupyter-widgets/controls",
            "_model_module_version": "1.5.0",
            "_model_name": "VBoxModel",
            "_view_count": null,
            "_view_module": "@jupyter-widgets/controls",
            "_view_module_version": "1.5.0",
            "_view_name": "VBoxView",
            "box_style": "",
            "children": [
              "IPY_MODEL_a850c9119a55411281b7c8fea5403cc9"
            ],
            "layout": "IPY_MODEL_5764d80098df4fe7a73a07c88118c919"
          }
        },
        "fd1dc8dbdf484df9befa226077e4600b": {
          "model_module": "@jupyter-widgets/controls",
          "model_name": "HTMLModel",
          "model_module_version": "1.5.0",
          "state": {
            "_dom_classes": [],
            "_model_module": "@jupyter-widgets/controls",
            "_model_module_version": "1.5.0",
            "_model_name": "HTMLModel",
            "_view_count": null,
            "_view_module": "@jupyter-widgets/controls",
            "_view_module_version": "1.5.0",
            "_view_name": "HTMLView",
            "description": "",
            "description_tooltip": null,
            "layout": "IPY_MODEL_e4435e93469a42abbce417823ad9c53f",
            "placeholder": "​",
            "style": "IPY_MODEL_404b3c5a9920426784029baefd0baccb",
            "value": "<center> <img\nsrc=https://www.kaggle.com/static/images/site-logo.png\nalt='Kaggle'> <br> Create an API token from <a\nhref=\"https://www.kaggle.com/settings/account\" target=\"_blank\">your Kaggle\nsettings page</a> and paste it below along with your Kaggle username. <br> </center>"
          }
        },
        "736722561a934289a41a4aee07f69dae": {
          "model_module": "@jupyter-widgets/controls",
          "model_name": "TextModel",
          "model_module_version": "1.5.0",
          "state": {
            "_dom_classes": [],
            "_model_module": "@jupyter-widgets/controls",
            "_model_module_version": "1.5.0",
            "_model_name": "TextModel",
            "_view_count": null,
            "_view_module": "@jupyter-widgets/controls",
            "_view_module_version": "1.5.0",
            "_view_name": "TextView",
            "continuous_update": true,
            "description": "Username:",
            "description_tooltip": null,
            "disabled": false,
            "layout": "IPY_MODEL_8cc8085e9d0d493db5f0f2881d3444d3",
            "placeholder": "​",
            "style": "IPY_MODEL_18b31fcda7ae4204a3b18d88e108fe9d",
            "value": "fikrimulyanasetiawan"
          }
        },
        "d4701bad3f1345eda259177040616905": {
          "model_module": "@jupyter-widgets/controls",
          "model_name": "PasswordModel",
          "model_module_version": "1.5.0",
          "state": {
            "_dom_classes": [],
            "_model_module": "@jupyter-widgets/controls",
            "_model_module_version": "1.5.0",
            "_model_name": "PasswordModel",
            "_view_count": null,
            "_view_module": "@jupyter-widgets/controls",
            "_view_module_version": "1.5.0",
            "_view_name": "PasswordView",
            "continuous_update": true,
            "description": "Token:",
            "description_tooltip": null,
            "disabled": false,
            "layout": "IPY_MODEL_1739564b2eda41e08f668253c2cb2adb",
            "placeholder": "​",
            "style": "IPY_MODEL_968c330954c24eff80b437dec5597e9f",
            "value": ""
          }
        },
        "e607683649194898967809530fcff955": {
          "model_module": "@jupyter-widgets/controls",
          "model_name": "ButtonModel",
          "model_module_version": "1.5.0",
          "state": {
            "_dom_classes": [],
            "_model_module": "@jupyter-widgets/controls",
            "_model_module_version": "1.5.0",
            "_model_name": "ButtonModel",
            "_view_count": null,
            "_view_module": "@jupyter-widgets/controls",
            "_view_module_version": "1.5.0",
            "_view_name": "ButtonView",
            "button_style": "",
            "description": "Login",
            "disabled": false,
            "icon": "",
            "layout": "IPY_MODEL_d65e204984b74b09ab58908ec318c093",
            "style": "IPY_MODEL_99eefc5f337a43bdb7284d20a30f663e",
            "tooltip": ""
          }
        },
        "11705174ccec44f1a58d5bb128486c56": {
          "model_module": "@jupyter-widgets/controls",
          "model_name": "HTMLModel",
          "model_module_version": "1.5.0",
          "state": {
            "_dom_classes": [],
            "_model_module": "@jupyter-widgets/controls",
            "_model_module_version": "1.5.0",
            "_model_name": "HTMLModel",
            "_view_count": null,
            "_view_module": "@jupyter-widgets/controls",
            "_view_module_version": "1.5.0",
            "_view_name": "HTMLView",
            "description": "",
            "description_tooltip": null,
            "layout": "IPY_MODEL_5cd622ff992f4168b6a5e43591239e9a",
            "placeholder": "​",
            "style": "IPY_MODEL_d3dbfe0598244225bb2bcd4713210476",
            "value": "\n<b>Thank You</b></center>"
          }
        },
        "5764d80098df4fe7a73a07c88118c919": {
          "model_module": "@jupyter-widgets/base",
          "model_name": "LayoutModel",
          "model_module_version": "1.2.0",
          "state": {
            "_model_module": "@jupyter-widgets/base",
            "_model_module_version": "1.2.0",
            "_model_name": "LayoutModel",
            "_view_count": null,
            "_view_module": "@jupyter-widgets/base",
            "_view_module_version": "1.2.0",
            "_view_name": "LayoutView",
            "align_content": null,
            "align_items": "center",
            "align_self": null,
            "border": null,
            "bottom": null,
            "display": "flex",
            "flex": null,
            "flex_flow": "column",
            "grid_area": null,
            "grid_auto_columns": null,
            "grid_auto_flow": null,
            "grid_auto_rows": null,
            "grid_column": null,
            "grid_gap": null,
            "grid_row": null,
            "grid_template_areas": null,
            "grid_template_columns": null,
            "grid_template_rows": null,
            "height": null,
            "justify_content": null,
            "justify_items": null,
            "left": null,
            "margin": null,
            "max_height": null,
            "max_width": null,
            "min_height": null,
            "min_width": null,
            "object_fit": null,
            "object_position": null,
            "order": null,
            "overflow": null,
            "overflow_x": null,
            "overflow_y": null,
            "padding": null,
            "right": null,
            "top": null,
            "visibility": null,
            "width": "50%"
          }
        },
        "e4435e93469a42abbce417823ad9c53f": {
          "model_module": "@jupyter-widgets/base",
          "model_name": "LayoutModel",
          "model_module_version": "1.2.0",
          "state": {
            "_model_module": "@jupyter-widgets/base",
            "_model_module_version": "1.2.0",
            "_model_name": "LayoutModel",
            "_view_count": null,
            "_view_module": "@jupyter-widgets/base",
            "_view_module_version": "1.2.0",
            "_view_name": "LayoutView",
            "align_content": null,
            "align_items": null,
            "align_self": null,
            "border": null,
            "bottom": null,
            "display": null,
            "flex": null,
            "flex_flow": null,
            "grid_area": null,
            "grid_auto_columns": null,
            "grid_auto_flow": null,
            "grid_auto_rows": null,
            "grid_column": null,
            "grid_gap": null,
            "grid_row": null,
            "grid_template_areas": null,
            "grid_template_columns": null,
            "grid_template_rows": null,
            "height": null,
            "justify_content": null,
            "justify_items": null,
            "left": null,
            "margin": null,
            "max_height": null,
            "max_width": null,
            "min_height": null,
            "min_width": null,
            "object_fit": null,
            "object_position": null,
            "order": null,
            "overflow": null,
            "overflow_x": null,
            "overflow_y": null,
            "padding": null,
            "right": null,
            "top": null,
            "visibility": null,
            "width": null
          }
        },
        "404b3c5a9920426784029baefd0baccb": {
          "model_module": "@jupyter-widgets/controls",
          "model_name": "DescriptionStyleModel",
          "model_module_version": "1.5.0",
          "state": {
            "_model_module": "@jupyter-widgets/controls",
            "_model_module_version": "1.5.0",
            "_model_name": "DescriptionStyleModel",
            "_view_count": null,
            "_view_module": "@jupyter-widgets/base",
            "_view_module_version": "1.2.0",
            "_view_name": "StyleView",
            "description_width": ""
          }
        },
        "8cc8085e9d0d493db5f0f2881d3444d3": {
          "model_module": "@jupyter-widgets/base",
          "model_name": "LayoutModel",
          "model_module_version": "1.2.0",
          "state": {
            "_model_module": "@jupyter-widgets/base",
            "_model_module_version": "1.2.0",
            "_model_name": "LayoutModel",
            "_view_count": null,
            "_view_module": "@jupyter-widgets/base",
            "_view_module_version": "1.2.0",
            "_view_name": "LayoutView",
            "align_content": null,
            "align_items": null,
            "align_self": null,
            "border": null,
            "bottom": null,
            "display": null,
            "flex": null,
            "flex_flow": null,
            "grid_area": null,
            "grid_auto_columns": null,
            "grid_auto_flow": null,
            "grid_auto_rows": null,
            "grid_column": null,
            "grid_gap": null,
            "grid_row": null,
            "grid_template_areas": null,
            "grid_template_columns": null,
            "grid_template_rows": null,
            "height": null,
            "justify_content": null,
            "justify_items": null,
            "left": null,
            "margin": null,
            "max_height": null,
            "max_width": null,
            "min_height": null,
            "min_width": null,
            "object_fit": null,
            "object_position": null,
            "order": null,
            "overflow": null,
            "overflow_x": null,
            "overflow_y": null,
            "padding": null,
            "right": null,
            "top": null,
            "visibility": null,
            "width": null
          }
        },
        "18b31fcda7ae4204a3b18d88e108fe9d": {
          "model_module": "@jupyter-widgets/controls",
          "model_name": "DescriptionStyleModel",
          "model_module_version": "1.5.0",
          "state": {
            "_model_module": "@jupyter-widgets/controls",
            "_model_module_version": "1.5.0",
            "_model_name": "DescriptionStyleModel",
            "_view_count": null,
            "_view_module": "@jupyter-widgets/base",
            "_view_module_version": "1.2.0",
            "_view_name": "StyleView",
            "description_width": ""
          }
        },
        "1739564b2eda41e08f668253c2cb2adb": {
          "model_module": "@jupyter-widgets/base",
          "model_name": "LayoutModel",
          "model_module_version": "1.2.0",
          "state": {
            "_model_module": "@jupyter-widgets/base",
            "_model_module_version": "1.2.0",
            "_model_name": "LayoutModel",
            "_view_count": null,
            "_view_module": "@jupyter-widgets/base",
            "_view_module_version": "1.2.0",
            "_view_name": "LayoutView",
            "align_content": null,
            "align_items": null,
            "align_self": null,
            "border": null,
            "bottom": null,
            "display": null,
            "flex": null,
            "flex_flow": null,
            "grid_area": null,
            "grid_auto_columns": null,
            "grid_auto_flow": null,
            "grid_auto_rows": null,
            "grid_column": null,
            "grid_gap": null,
            "grid_row": null,
            "grid_template_areas": null,
            "grid_template_columns": null,
            "grid_template_rows": null,
            "height": null,
            "justify_content": null,
            "justify_items": null,
            "left": null,
            "margin": null,
            "max_height": null,
            "max_width": null,
            "min_height": null,
            "min_width": null,
            "object_fit": null,
            "object_position": null,
            "order": null,
            "overflow": null,
            "overflow_x": null,
            "overflow_y": null,
            "padding": null,
            "right": null,
            "top": null,
            "visibility": null,
            "width": null
          }
        },
        "968c330954c24eff80b437dec5597e9f": {
          "model_module": "@jupyter-widgets/controls",
          "model_name": "DescriptionStyleModel",
          "model_module_version": "1.5.0",
          "state": {
            "_model_module": "@jupyter-widgets/controls",
            "_model_module_version": "1.5.0",
            "_model_name": "DescriptionStyleModel",
            "_view_count": null,
            "_view_module": "@jupyter-widgets/base",
            "_view_module_version": "1.2.0",
            "_view_name": "StyleView",
            "description_width": ""
          }
        },
        "d65e204984b74b09ab58908ec318c093": {
          "model_module": "@jupyter-widgets/base",
          "model_name": "LayoutModel",
          "model_module_version": "1.2.0",
          "state": {
            "_model_module": "@jupyter-widgets/base",
            "_model_module_version": "1.2.0",
            "_model_name": "LayoutModel",
            "_view_count": null,
            "_view_module": "@jupyter-widgets/base",
            "_view_module_version": "1.2.0",
            "_view_name": "LayoutView",
            "align_content": null,
            "align_items": null,
            "align_self": null,
            "border": null,
            "bottom": null,
            "display": null,
            "flex": null,
            "flex_flow": null,
            "grid_area": null,
            "grid_auto_columns": null,
            "grid_auto_flow": null,
            "grid_auto_rows": null,
            "grid_column": null,
            "grid_gap": null,
            "grid_row": null,
            "grid_template_areas": null,
            "grid_template_columns": null,
            "grid_template_rows": null,
            "height": null,
            "justify_content": null,
            "justify_items": null,
            "left": null,
            "margin": null,
            "max_height": null,
            "max_width": null,
            "min_height": null,
            "min_width": null,
            "object_fit": null,
            "object_position": null,
            "order": null,
            "overflow": null,
            "overflow_x": null,
            "overflow_y": null,
            "padding": null,
            "right": null,
            "top": null,
            "visibility": null,
            "width": null
          }
        },
        "99eefc5f337a43bdb7284d20a30f663e": {
          "model_module": "@jupyter-widgets/controls",
          "model_name": "ButtonStyleModel",
          "model_module_version": "1.5.0",
          "state": {
            "_model_module": "@jupyter-widgets/controls",
            "_model_module_version": "1.5.0",
            "_model_name": "ButtonStyleModel",
            "_view_count": null,
            "_view_module": "@jupyter-widgets/base",
            "_view_module_version": "1.2.0",
            "_view_name": "StyleView",
            "button_color": null,
            "font_weight": ""
          }
        },
        "5cd622ff992f4168b6a5e43591239e9a": {
          "model_module": "@jupyter-widgets/base",
          "model_name": "LayoutModel",
          "model_module_version": "1.2.0",
          "state": {
            "_model_module": "@jupyter-widgets/base",
            "_model_module_version": "1.2.0",
            "_model_name": "LayoutModel",
            "_view_count": null,
            "_view_module": "@jupyter-widgets/base",
            "_view_module_version": "1.2.0",
            "_view_name": "LayoutView",
            "align_content": null,
            "align_items": null,
            "align_self": null,
            "border": null,
            "bottom": null,
            "display": null,
            "flex": null,
            "flex_flow": null,
            "grid_area": null,
            "grid_auto_columns": null,
            "grid_auto_flow": null,
            "grid_auto_rows": null,
            "grid_column": null,
            "grid_gap": null,
            "grid_row": null,
            "grid_template_areas": null,
            "grid_template_columns": null,
            "grid_template_rows": null,
            "height": null,
            "justify_content": null,
            "justify_items": null,
            "left": null,
            "margin": null,
            "max_height": null,
            "max_width": null,
            "min_height": null,
            "min_width": null,
            "object_fit": null,
            "object_position": null,
            "order": null,
            "overflow": null,
            "overflow_x": null,
            "overflow_y": null,
            "padding": null,
            "right": null,
            "top": null,
            "visibility": null,
            "width": null
          }
        },
        "d3dbfe0598244225bb2bcd4713210476": {
          "model_module": "@jupyter-widgets/controls",
          "model_name": "DescriptionStyleModel",
          "model_module_version": "1.5.0",
          "state": {
            "_model_module": "@jupyter-widgets/controls",
            "_model_module_version": "1.5.0",
            "_model_name": "DescriptionStyleModel",
            "_view_count": null,
            "_view_module": "@jupyter-widgets/base",
            "_view_module_version": "1.2.0",
            "_view_name": "StyleView",
            "description_width": ""
          }
        },
        "83f3263cb67744048531f5de5ac741ab": {
          "model_module": "@jupyter-widgets/controls",
          "model_name": "LabelModel",
          "model_module_version": "1.5.0",
          "state": {
            "_dom_classes": [],
            "_model_module": "@jupyter-widgets/controls",
            "_model_module_version": "1.5.0",
            "_model_name": "LabelModel",
            "_view_count": null,
            "_view_module": "@jupyter-widgets/controls",
            "_view_module_version": "1.5.0",
            "_view_name": "LabelView",
            "description": "",
            "description_tooltip": null,
            "layout": "IPY_MODEL_e3b7331141664b939698dfa53135040d",
            "placeholder": "​",
            "style": "IPY_MODEL_4155b3c6f3264a76a80feb3f158a5e05",
            "value": "Connecting..."
          }
        },
        "e3b7331141664b939698dfa53135040d": {
          "model_module": "@jupyter-widgets/base",
          "model_name": "LayoutModel",
          "model_module_version": "1.2.0",
          "state": {
            "_model_module": "@jupyter-widgets/base",
            "_model_module_version": "1.2.0",
            "_model_name": "LayoutModel",
            "_view_count": null,
            "_view_module": "@jupyter-widgets/base",
            "_view_module_version": "1.2.0",
            "_view_name": "LayoutView",
            "align_content": null,
            "align_items": null,
            "align_self": null,
            "border": null,
            "bottom": null,
            "display": null,
            "flex": null,
            "flex_flow": null,
            "grid_area": null,
            "grid_auto_columns": null,
            "grid_auto_flow": null,
            "grid_auto_rows": null,
            "grid_column": null,
            "grid_gap": null,
            "grid_row": null,
            "grid_template_areas": null,
            "grid_template_columns": null,
            "grid_template_rows": null,
            "height": null,
            "justify_content": null,
            "justify_items": null,
            "left": null,
            "margin": null,
            "max_height": null,
            "max_width": null,
            "min_height": null,
            "min_width": null,
            "object_fit": null,
            "object_position": null,
            "order": null,
            "overflow": null,
            "overflow_x": null,
            "overflow_y": null,
            "padding": null,
            "right": null,
            "top": null,
            "visibility": null,
            "width": null
          }
        },
        "4155b3c6f3264a76a80feb3f158a5e05": {
          "model_module": "@jupyter-widgets/controls",
          "model_name": "DescriptionStyleModel",
          "model_module_version": "1.5.0",
          "state": {
            "_model_module": "@jupyter-widgets/controls",
            "_model_module_version": "1.5.0",
            "_model_name": "DescriptionStyleModel",
            "_view_count": null,
            "_view_module": "@jupyter-widgets/base",
            "_view_module_version": "1.2.0",
            "_view_name": "StyleView",
            "description_width": ""
          }
        },
        "a850c9119a55411281b7c8fea5403cc9": {
          "model_module": "@jupyter-widgets/controls",
          "model_name": "LabelModel",
          "model_module_version": "1.5.0",
          "state": {
            "_dom_classes": [],
            "_model_module": "@jupyter-widgets/controls",
            "_model_module_version": "1.5.0",
            "_model_name": "LabelModel",
            "_view_count": null,
            "_view_module": "@jupyter-widgets/controls",
            "_view_module_version": "1.5.0",
            "_view_name": "LabelView",
            "description": "",
            "description_tooltip": null,
            "layout": "IPY_MODEL_2a04995335604e25b927b960441a3cd6",
            "placeholder": "​",
            "style": "IPY_MODEL_72231db7c76e4111b5f5357269706102",
            "value": "Kaggle credentials successfully validated."
          }
        },
        "2a04995335604e25b927b960441a3cd6": {
          "model_module": "@jupyter-widgets/base",
          "model_name": "LayoutModel",
          "model_module_version": "1.2.0",
          "state": {
            "_model_module": "@jupyter-widgets/base",
            "_model_module_version": "1.2.0",
            "_model_name": "LayoutModel",
            "_view_count": null,
            "_view_module": "@jupyter-widgets/base",
            "_view_module_version": "1.2.0",
            "_view_name": "LayoutView",
            "align_content": null,
            "align_items": null,
            "align_self": null,
            "border": null,
            "bottom": null,
            "display": null,
            "flex": null,
            "flex_flow": null,
            "grid_area": null,
            "grid_auto_columns": null,
            "grid_auto_flow": null,
            "grid_auto_rows": null,
            "grid_column": null,
            "grid_gap": null,
            "grid_row": null,
            "grid_template_areas": null,
            "grid_template_columns": null,
            "grid_template_rows": null,
            "height": null,
            "justify_content": null,
            "justify_items": null,
            "left": null,
            "margin": null,
            "max_height": null,
            "max_width": null,
            "min_height": null,
            "min_width": null,
            "object_fit": null,
            "object_position": null,
            "order": null,
            "overflow": null,
            "overflow_x": null,
            "overflow_y": null,
            "padding": null,
            "right": null,
            "top": null,
            "visibility": null,
            "width": null
          }
        },
        "72231db7c76e4111b5f5357269706102": {
          "model_module": "@jupyter-widgets/controls",
          "model_name": "DescriptionStyleModel",
          "model_module_version": "1.5.0",
          "state": {
            "_model_module": "@jupyter-widgets/controls",
            "_model_module_version": "1.5.0",
            "_model_name": "DescriptionStyleModel",
            "_view_count": null,
            "_view_module": "@jupyter-widgets/base",
            "_view_module_version": "1.2.0",
            "_view_name": "StyleView",
            "description_width": ""
          }
        }
      }
    }
  },
  "nbformat_minor": 0,
  "nbformat": 4,
  "cells": [
    {
      "cell_type": "markdown",
      "metadata": {
        "id": "view-in-github",
        "colab_type": "text"
      },
      "source": [
        "<a href=\"https://colab.research.google.com/github/fikrinotes/LSTM-IDS/blob/main/Final_Project_IDS_with_Autoencoder_and_RNN.ipynb\" target=\"_parent\"><img src=\"https://colab.research.google.com/assets/colab-badge.svg\" alt=\"Open In Colab\"/></a>"
      ]
    },
    {
      "source": [
        "# IMPORTANT: SOME KAGGLE DATA SOURCES ARE PRIVATE\n",
        "# RUN THIS CELL IN ORDER TO IMPORT YOUR KAGGLE DATA SOURCES.\n",
        "import kagglehub\n",
        "kagglehub.login()\n"
      ],
      "metadata": {
        "id": "9XCMNofFIzcm",
        "colab": {
          "base_uri": "https://localhost:8080/",
          "height": 84,
          "referenced_widgets": [
            "8d651351bc104b1080e705680e5a816b",
            "fd1dc8dbdf484df9befa226077e4600b",
            "736722561a934289a41a4aee07f69dae",
            "d4701bad3f1345eda259177040616905",
            "e607683649194898967809530fcff955",
            "11705174ccec44f1a58d5bb128486c56",
            "5764d80098df4fe7a73a07c88118c919",
            "e4435e93469a42abbce417823ad9c53f",
            "404b3c5a9920426784029baefd0baccb",
            "8cc8085e9d0d493db5f0f2881d3444d3",
            "18b31fcda7ae4204a3b18d88e108fe9d",
            "1739564b2eda41e08f668253c2cb2adb",
            "968c330954c24eff80b437dec5597e9f",
            "d65e204984b74b09ab58908ec318c093",
            "99eefc5f337a43bdb7284d20a30f663e",
            "5cd622ff992f4168b6a5e43591239e9a",
            "d3dbfe0598244225bb2bcd4713210476",
            "83f3263cb67744048531f5de5ac741ab",
            "e3b7331141664b939698dfa53135040d",
            "4155b3c6f3264a76a80feb3f158a5e05",
            "a850c9119a55411281b7c8fea5403cc9",
            "2a04995335604e25b927b960441a3cd6",
            "72231db7c76e4111b5f5357269706102"
          ]
        },
        "outputId": "a745b25f-26d2-47db-905e-af20c3d76882"
      },
      "cell_type": "code",
      "outputs": [
        {
          "output_type": "display_data",
          "data": {
            "text/plain": [
              "VBox(children=(HTML(value='<center> <img\\nsrc=https://www.kaggle.com/static/images/site-logo.png\\nalt=\\'Kaggle…"
            ],
            "application/vnd.jupyter.widget-view+json": {
              "version_major": 2,
              "version_minor": 0,
              "model_id": "8d651351bc104b1080e705680e5a816b"
            }
          },
          "metadata": {}
        },
        {
          "output_type": "stream",
          "name": "stdout",
          "text": [
            "Kaggle credentials set.\n",
            "Kaggle credentials successfully validated.\n"
          ]
        }
      ],
      "execution_count": 1
    },
    {
      "source": [
        "# IMPORTANT: RUN THIS CELL IN ORDER TO IMPORT YOUR KAGGLE DATA SOURCES,\n",
        "# THEN FEEL FREE TO DELETE THIS CELL.\n",
        "# NOTE: THIS NOTEBOOK ENVIRONMENT DIFFERS FROM KAGGLE'S PYTHON\n",
        "# ENVIRONMENT SO THERE MAY BE MISSING LIBRARIES USED BY YOUR\n",
        "# NOTEBOOK.\n",
        "\n",
        "dataset_path = kagglehub.dataset_download('chethuhn/network-intrusion-dataset')\n",
        "model_path = kagglehub.dataset_download('fikrimulyanasetiawan/rnn-model')\n",
        "encoder_path = kagglehub.dataset_download('fikrimulyanasetiawan/encoder')\n",
        "\n",
        "print('Data source import complete. \\n')\n",
        "print(\"Information about your data sources:\")\n",
        "print(f\"Dataset path: {dataset_path}\")\n",
        "print(f\"Model path: {model_path}\")\n",
        "print(f\"Encoder path: {encoder_path}\")\n"
      ],
      "metadata": {
        "id": "rb6aowwhIzcp",
        "colab": {
          "base_uri": "https://localhost:8080/"
        },
        "outputId": "49faef20-5660-47f5-ea2f-1aeeb528b4ca"
      },
      "cell_type": "code",
      "outputs": [
        {
          "output_type": "stream",
          "name": "stdout",
          "text": [
            "Downloading from https://www.kaggle.com/api/v1/datasets/download/fikrimulyanasetiawan/rnn-model?dataset_version_number=1...\n"
          ]
        },
        {
          "output_type": "stream",
          "name": "stderr",
          "text": [
            "100%|██████████| 5.05M/5.05M [00:00<00:00, 57.8MB/s]"
          ]
        },
        {
          "output_type": "stream",
          "name": "stdout",
          "text": [
            "Extracting files...\n"
          ]
        },
        {
          "output_type": "stream",
          "name": "stderr",
          "text": [
            "\n"
          ]
        },
        {
          "output_type": "stream",
          "name": "stdout",
          "text": [
            "Downloading from https://www.kaggle.com/api/v1/datasets/download/fikrimulyanasetiawan/encoder?dataset_version_number=1...\n"
          ]
        },
        {
          "output_type": "stream",
          "name": "stderr",
          "text": [
            "100%|██████████| 233k/233k [00:00<00:00, 84.0MB/s]"
          ]
        },
        {
          "output_type": "stream",
          "name": "stdout",
          "text": [
            "Extracting files...\n",
            "Data source import complete. \n",
            "\n",
            "Information about your data sources:\n",
            "Dataset path: /kaggle/input/network-intrusion-dataset\n",
            "Model path: /root/.cache/kagglehub/datasets/fikrimulyanasetiawan/rnn-model/versions/1\n",
            "Encoder path: /root/.cache/kagglehub/datasets/fikrimulyanasetiawan/encoder/versions/1\n"
          ]
        },
        {
          "output_type": "stream",
          "name": "stderr",
          "text": [
            "\n"
          ]
        }
      ],
      "execution_count": 3
    },
    {
      "cell_type": "markdown",
      "source": [
        "# Intrusion Detection System"
      ],
      "metadata": {
        "id": "SbXVED8lIzcq"
      }
    },
    {
      "cell_type": "markdown",
      "source": [
        "## Import Library"
      ],
      "metadata": {
        "id": "A31FOKywIzcs"
      }
    },
    {
      "cell_type": "code",
      "source": [
        "# Import library yang diperlukan\n",
        "import pandas as pd\n",
        "import numpy as np\n",
        "import os\n",
        "from sklearn.model_selection import train_test_split, TimeSeriesSplit\n",
        "from sklearn.preprocessing import StandardScaler, LabelEncoder, MinMaxScaler\n",
        "from sklearn.impute import SimpleImputer\n",
        "import tensorflow as tf\n",
        "from tensorflow.keras import layers, Model\n",
        "import matplotlib.pyplot as plt\n",
        "from sklearn.metrics import classification_report, confusion_matrix\n",
        "import seaborn as sns\n"
      ],
      "metadata": {
        "trusted": true,
        "id": "-AdAG5TOIzct"
      },
      "outputs": [],
      "execution_count": 4
    },
    {
      "cell_type": "markdown",
      "source": [
        "## Preprocessing Data"
      ],
      "metadata": {
        "execution": {
          "iopub.status.busy": "2025-03-15T08:03:57.690893Z",
          "iopub.execute_input": "2025-03-15T08:03:57.691434Z",
          "iopub.status.idle": "2025-03-15T08:03:57.694929Z",
          "shell.execute_reply.started": "2025-03-15T08:03:57.691406Z",
          "shell.execute_reply": "2025-03-15T08:03:57.69418Z"
        },
        "id": "HJhHWwfYIzcu"
      }
    },
    {
      "cell_type": "markdown",
      "source": [
        "### Load Data"
      ],
      "metadata": {
        "id": "XGxuqkVPSlWf"
      }
    },
    {
      "cell_type": "code",
      "source": [
        "# Fungsi untuk membaca dan preprocessing setiap file\n",
        "def read_and_clean_file(file_path):\n",
        "    print(f\"Membaca file: {file_path}\")\n",
        "    df = pd.read_csv(file_path, low_memory=False, sep=\",\")\n",
        "\n",
        "    # Bersihkan nama kolom dari whitespace\n",
        "    df.columns = df.columns.str.strip()\n",
        "\n",
        "    # Hapus kolom yang tidak diperlukan\n",
        "    redundant_column = ['Flow ID', 'Source IP', 'Source Port', 'Destination IP',\n",
        "                 'Destination Port', 'Protocol', 'Timestamp']\n",
        "    df = df.drop(redundant_column, axis=1, errors='ignore')\n",
        "\n",
        "    # drop baris yang tidak punya label\n",
        "    df.dropna(subset = ['Label'], inplace=True)\n",
        "\n",
        "    # Handling missing values dan infinite values\n",
        "    df = df.replace([np.inf, -np.inf], np.nan)\n",
        "\n",
        "    return df\n",
        "\n",
        "\n",
        "# Baca semua file CSV dari folder\n",
        "data1 = dataset_path + \"/Monday-WorkingHours.pcap_ISCX.csv\"\n",
        "data2 = dataset_path + \"/Tuesday-WorkingHours.pcap_ISCX.csv\"\n",
        "data3 = dataset_path + \"/Wednesday-workingHours.pcap_ISCX.csv\"\n",
        "data4 = dataset_path + \"/Thursday-WorkingHours-Morning-WebAttacks.pcap_ISCX.csv\"\n",
        "data5 = dataset_path + \"/Thursday-WorkingHours-Afternoon-Infilteration.pcap_ISCX.csv\"\n",
        "data6 = dataset_path + \"/Friday-WorkingHours-Morning.pcap_ISCX.csv\"\n",
        "data7 = dataset_path + \"/Friday-WorkingHours-Afternoon-PortScan.pcap_ISCX.csv\"\n",
        "data8 = dataset_path + \"/Friday-WorkingHours-Afternoon-DDos.pcap_ISCX.csv\"\n",
        "\n",
        "\n",
        "# Buat list semua dataset yang tersedia\n",
        "all_files = [data2, data3, data4, data5, data6, data7, data8]\n",
        "\n",
        "# Membaca file dan mengkonversi semua data file dari list \"all_files\" menjadi dataframe\n",
        "dataframes = []\n",
        "for file in all_files:\n",
        "    df = read_and_clean_file(file)\n",
        "    dataframes.append(df)\n",
        "    del df"
      ],
      "metadata": {
        "trusted": true,
        "execution": {
          "iopub.status.busy": "2025-06-05T12:31:25.991512Z",
          "iopub.execute_input": "2025-06-05T12:31:25.991777Z",
          "iopub.status.idle": "2025-06-05T12:31:32.443529Z",
          "shell.execute_reply.started": "2025-06-05T12:31:25.991754Z",
          "shell.execute_reply": "2025-06-05T12:31:32.44218Z"
        },
        "id": "G-P9CFSGIzcu",
        "colab": {
          "base_uri": "https://localhost:8080/"
        },
        "outputId": "844f7aa4-23ea-4e83-ce43-a3c4795a9b96"
      },
      "outputs": [
        {
          "output_type": "stream",
          "name": "stdout",
          "text": [
            "Membaca file: /kaggle/input/network-intrusion-dataset/Tuesday-WorkingHours.pcap_ISCX.csv\n",
            "Membaca file: /kaggle/input/network-intrusion-dataset/Wednesday-workingHours.pcap_ISCX.csv\n",
            "Membaca file: /kaggle/input/network-intrusion-dataset/Thursday-WorkingHours-Morning-WebAttacks.pcap_ISCX.csv\n",
            "Membaca file: /kaggle/input/network-intrusion-dataset/Thursday-WorkingHours-Afternoon-Infilteration.pcap_ISCX.csv\n",
            "Membaca file: /kaggle/input/network-intrusion-dataset/Friday-WorkingHours-Morning.pcap_ISCX.csv\n",
            "Membaca file: /kaggle/input/network-intrusion-dataset/Friday-WorkingHours-Afternoon-PortScan.pcap_ISCX.csv\n",
            "Membaca file: /kaggle/input/network-intrusion-dataset/Friday-WorkingHours-Afternoon-DDos.pcap_ISCX.csv\n"
          ]
        }
      ],
      "execution_count": 5
    },
    {
      "cell_type": "code",
      "source": [
        "# Menggabungkan semua dataframe\n",
        "print(\"Menggabungkan semua file...\")\n",
        "df = pd.concat(dataframes, ignore_index=True)\n",
        "try:\n",
        "    print(\"Semua file dataset berhasil digabungkan!\")\n",
        "except:\n",
        "    print(\"Error! file dataset tidak berhasil digabungkan\")"
      ],
      "metadata": {
        "trusted": true,
        "execution": {
          "iopub.status.busy": "2025-06-05T12:31:32.444096Z",
          "iopub.status.idle": "2025-06-05T12:31:32.444401Z",
          "shell.execute_reply": "2025-06-05T12:31:32.444288Z"
        },
        "id": "2dR4LqgxIzcw",
        "colab": {
          "base_uri": "https://localhost:8080/"
        },
        "outputId": "8eb1594c-7457-401b-cfb8-f47e8992f70a"
      },
      "outputs": [
        {
          "output_type": "stream",
          "name": "stdout",
          "text": [
            "Menggabungkan semua file...\n",
            "Semua file dataset berhasil digabungkan!\n"
          ]
        }
      ],
      "execution_count": 6
    },
    {
      "cell_type": "markdown",
      "source": [
        "### Pembersihan Data Duplikat"
      ],
      "metadata": {
        "id": "2Tjydl0FIzc0"
      }
    },
    {
      "cell_type": "code",
      "source": [
        "# ganti nama kolom dengan cara hapus whitespaces\n",
        "col_names = {col: col.strip() for col in df.columns}\n",
        "df.rename(columns = col_names, inplace = True)\n",
        "\n",
        "# informasi data duplikat\n",
        "dups = df[df.duplicated()]\n",
        "print(f'Banyak data duplikat : {len(dups)}')\n",
        "print(f'Banyak data sebelum duplikat : {df.shape[0]}')\n",
        "\n",
        "print(\"menghapus data duplikat...\")\n",
        "\n",
        "# Hapus data duplikat\n",
        "df.drop_duplicates(inplace = True)\n",
        "print(\"data duplikat selesai dihapus!\")\n",
        "df.shape\n",
        "print(f\"banyak data setelah data duplikat dihapus : {df.shape[0]}\")"
      ],
      "metadata": {
        "trusted": true,
        "id": "aTc5KAeHIzc1",
        "colab": {
          "base_uri": "https://localhost:8080/"
        },
        "outputId": "f4f9ddf6-20f9-4f0e-aff7-153108b77c27"
      },
      "outputs": [
        {
          "output_type": "stream",
          "name": "stdout",
          "text": [
            "Banyak data duplikat : 524101\n",
            "Banyak data sebelum duplikat : 2300825\n",
            "menghapus data duplikat...\n",
            "data duplikat selesai dihapus!\n",
            "banyak data setelah data duplikat dihapus : 1776724\n"
          ]
        }
      ],
      "execution_count": 7
    },
    {
      "cell_type": "markdown",
      "source": [
        "### Persiapan Label Kelas untuk Klasifikasi Biner"
      ],
      "metadata": {
        "id": "QXrQ-lRWUAan"
      }
    },
    {
      "cell_type": "code",
      "source": [
        "# konversi semua label selain BENIGN jadi ATTACK\n",
        "df[\"Label\"] = df[\"Label\"].where(df[\"Label\"] == \"BENIGN\", \"ATTACK\")\n",
        "print(\"Informasi Kelas : \")\n",
        "df[\"Label\"].unique()"
      ],
      "metadata": {
        "trusted": true,
        "id": "2BQYHVp6Izc2",
        "colab": {
          "base_uri": "https://localhost:8080/"
        },
        "outputId": "894f395c-5a87-43db-c95e-9fcc942cb078"
      },
      "outputs": [
        {
          "output_type": "stream",
          "name": "stdout",
          "text": [
            "Informasi Kelas : \n"
          ]
        },
        {
          "output_type": "execute_result",
          "data": {
            "text/plain": [
              "array(['BENIGN', 'ATTACK'], dtype=object)"
            ]
          },
          "metadata": {},
          "execution_count": 8
        }
      ],
      "execution_count": 8
    },
    {
      "cell_type": "markdown",
      "source": [
        "## Informasi Umum Dataset"
      ],
      "metadata": {
        "id": "0OLQFu6TIzc1"
      }
    },
    {
      "cell_type": "code",
      "source": [
        "# Menampilkan informasi dataset\n",
        "print(\"\\nInformasi Dataset:\")\n",
        "print(f\"\\nJumlah total data: {len(df)}\")\n",
        "print(f\"Jumlah fitur : {len(df.columns)}\")\n",
        "print(\"\\nDistribusi Label sebelum preprocessing:\")\n",
        "\n",
        "# tabel distribusi label\n",
        "def create_distribution_table(df):\n",
        "    label_dist = pd.DataFrame(df['Label'].value_counts())\n",
        "    label_dist['percentage'] = df['Label'].value_counts()/len(df)\n",
        "    return label_dist\n",
        "\n",
        "create_distribution_table(df)"
      ],
      "metadata": {
        "trusted": true,
        "id": "zlc3i5stIzc2",
        "colab": {
          "base_uri": "https://localhost:8080/",
          "height": 265
        },
        "outputId": "fa213998-6572-4c72-9031-db1f24cc6f3d"
      },
      "outputs": [
        {
          "output_type": "stream",
          "name": "stdout",
          "text": [
            "\n",
            "Informasi Dataset:\n",
            "\n",
            "Jumlah total data: 1776724\n",
            "Jumlah fitur : 78\n",
            "\n",
            "Distribusi Label sebelum preprocessing:\n"
          ]
        },
        {
          "output_type": "execute_result",
          "data": {
            "text/plain": [
              "          count  percentage\n",
              "Label                      \n",
              "BENIGN  1440219    0.810604\n",
              "ATTACK   336505    0.189396"
            ],
            "text/html": [
              "\n",
              "  <div id=\"df-f68b3e47-9942-462f-b202-efff995437c8\" class=\"colab-df-container\">\n",
              "    <div>\n",
              "<style scoped>\n",
              "    .dataframe tbody tr th:only-of-type {\n",
              "        vertical-align: middle;\n",
              "    }\n",
              "\n",
              "    .dataframe tbody tr th {\n",
              "        vertical-align: top;\n",
              "    }\n",
              "\n",
              "    .dataframe thead th {\n",
              "        text-align: right;\n",
              "    }\n",
              "</style>\n",
              "<table border=\"1\" class=\"dataframe\">\n",
              "  <thead>\n",
              "    <tr style=\"text-align: right;\">\n",
              "      <th></th>\n",
              "      <th>count</th>\n",
              "      <th>percentage</th>\n",
              "    </tr>\n",
              "    <tr>\n",
              "      <th>Label</th>\n",
              "      <th></th>\n",
              "      <th></th>\n",
              "    </tr>\n",
              "  </thead>\n",
              "  <tbody>\n",
              "    <tr>\n",
              "      <th>BENIGN</th>\n",
              "      <td>1440219</td>\n",
              "      <td>0.810604</td>\n",
              "    </tr>\n",
              "    <tr>\n",
              "      <th>ATTACK</th>\n",
              "      <td>336505</td>\n",
              "      <td>0.189396</td>\n",
              "    </tr>\n",
              "  </tbody>\n",
              "</table>\n",
              "</div>\n",
              "    <div class=\"colab-df-buttons\">\n",
              "\n",
              "  <div class=\"colab-df-container\">\n",
              "    <button class=\"colab-df-convert\" onclick=\"convertToInteractive('df-f68b3e47-9942-462f-b202-efff995437c8')\"\n",
              "            title=\"Convert this dataframe to an interactive table.\"\n",
              "            style=\"display:none;\">\n",
              "\n",
              "  <svg xmlns=\"http://www.w3.org/2000/svg\" height=\"24px\" viewBox=\"0 -960 960 960\">\n",
              "    <path d=\"M120-120v-720h720v720H120Zm60-500h600v-160H180v160Zm220 220h160v-160H400v160Zm0 220h160v-160H400v160ZM180-400h160v-160H180v160Zm440 0h160v-160H620v160ZM180-180h160v-160H180v160Zm440 0h160v-160H620v160Z\"/>\n",
              "  </svg>\n",
              "    </button>\n",
              "\n",
              "  <style>\n",
              "    .colab-df-container {\n",
              "      display:flex;\n",
              "      gap: 12px;\n",
              "    }\n",
              "\n",
              "    .colab-df-convert {\n",
              "      background-color: #E8F0FE;\n",
              "      border: none;\n",
              "      border-radius: 50%;\n",
              "      cursor: pointer;\n",
              "      display: none;\n",
              "      fill: #1967D2;\n",
              "      height: 32px;\n",
              "      padding: 0 0 0 0;\n",
              "      width: 32px;\n",
              "    }\n",
              "\n",
              "    .colab-df-convert:hover {\n",
              "      background-color: #E2EBFA;\n",
              "      box-shadow: 0px 1px 2px rgba(60, 64, 67, 0.3), 0px 1px 3px 1px rgba(60, 64, 67, 0.15);\n",
              "      fill: #174EA6;\n",
              "    }\n",
              "\n",
              "    .colab-df-buttons div {\n",
              "      margin-bottom: 4px;\n",
              "    }\n",
              "\n",
              "    [theme=dark] .colab-df-convert {\n",
              "      background-color: #3B4455;\n",
              "      fill: #D2E3FC;\n",
              "    }\n",
              "\n",
              "    [theme=dark] .colab-df-convert:hover {\n",
              "      background-color: #434B5C;\n",
              "      box-shadow: 0px 1px 3px 1px rgba(0, 0, 0, 0.15);\n",
              "      filter: drop-shadow(0px 1px 2px rgba(0, 0, 0, 0.3));\n",
              "      fill: #FFFFFF;\n",
              "    }\n",
              "  </style>\n",
              "\n",
              "    <script>\n",
              "      const buttonEl =\n",
              "        document.querySelector('#df-f68b3e47-9942-462f-b202-efff995437c8 button.colab-df-convert');\n",
              "      buttonEl.style.display =\n",
              "        google.colab.kernel.accessAllowed ? 'block' : 'none';\n",
              "\n",
              "      async function convertToInteractive(key) {\n",
              "        const element = document.querySelector('#df-f68b3e47-9942-462f-b202-efff995437c8');\n",
              "        const dataTable =\n",
              "          await google.colab.kernel.invokeFunction('convertToInteractive',\n",
              "                                                    [key], {});\n",
              "        if (!dataTable) return;\n",
              "\n",
              "        const docLinkHtml = 'Like what you see? Visit the ' +\n",
              "          '<a target=\"_blank\" href=https://colab.research.google.com/notebooks/data_table.ipynb>data table notebook</a>'\n",
              "          + ' to learn more about interactive tables.';\n",
              "        element.innerHTML = '';\n",
              "        dataTable['output_type'] = 'display_data';\n",
              "        await google.colab.output.renderOutput(dataTable, element);\n",
              "        const docLink = document.createElement('div');\n",
              "        docLink.innerHTML = docLinkHtml;\n",
              "        element.appendChild(docLink);\n",
              "      }\n",
              "    </script>\n",
              "  </div>\n",
              "\n",
              "\n",
              "    <div id=\"df-b2fc8730-28fb-467f-b726-218e3ab07823\">\n",
              "      <button class=\"colab-df-quickchart\" onclick=\"quickchart('df-b2fc8730-28fb-467f-b726-218e3ab07823')\"\n",
              "                title=\"Suggest charts\"\n",
              "                style=\"display:none;\">\n",
              "\n",
              "<svg xmlns=\"http://www.w3.org/2000/svg\" height=\"24px\"viewBox=\"0 0 24 24\"\n",
              "     width=\"24px\">\n",
              "    <g>\n",
              "        <path d=\"M19 3H5c-1.1 0-2 .9-2 2v14c0 1.1.9 2 2 2h14c1.1 0 2-.9 2-2V5c0-1.1-.9-2-2-2zM9 17H7v-7h2v7zm4 0h-2V7h2v10zm4 0h-2v-4h2v4z\"/>\n",
              "    </g>\n",
              "</svg>\n",
              "      </button>\n",
              "\n",
              "<style>\n",
              "  .colab-df-quickchart {\n",
              "      --bg-color: #E8F0FE;\n",
              "      --fill-color: #1967D2;\n",
              "      --hover-bg-color: #E2EBFA;\n",
              "      --hover-fill-color: #174EA6;\n",
              "      --disabled-fill-color: #AAA;\n",
              "      --disabled-bg-color: #DDD;\n",
              "  }\n",
              "\n",
              "  [theme=dark] .colab-df-quickchart {\n",
              "      --bg-color: #3B4455;\n",
              "      --fill-color: #D2E3FC;\n",
              "      --hover-bg-color: #434B5C;\n",
              "      --hover-fill-color: #FFFFFF;\n",
              "      --disabled-bg-color: #3B4455;\n",
              "      --disabled-fill-color: #666;\n",
              "  }\n",
              "\n",
              "  .colab-df-quickchart {\n",
              "    background-color: var(--bg-color);\n",
              "    border: none;\n",
              "    border-radius: 50%;\n",
              "    cursor: pointer;\n",
              "    display: none;\n",
              "    fill: var(--fill-color);\n",
              "    height: 32px;\n",
              "    padding: 0;\n",
              "    width: 32px;\n",
              "  }\n",
              "\n",
              "  .colab-df-quickchart:hover {\n",
              "    background-color: var(--hover-bg-color);\n",
              "    box-shadow: 0 1px 2px rgba(60, 64, 67, 0.3), 0 1px 3px 1px rgba(60, 64, 67, 0.15);\n",
              "    fill: var(--button-hover-fill-color);\n",
              "  }\n",
              "\n",
              "  .colab-df-quickchart-complete:disabled,\n",
              "  .colab-df-quickchart-complete:disabled:hover {\n",
              "    background-color: var(--disabled-bg-color);\n",
              "    fill: var(--disabled-fill-color);\n",
              "    box-shadow: none;\n",
              "  }\n",
              "\n",
              "  .colab-df-spinner {\n",
              "    border: 2px solid var(--fill-color);\n",
              "    border-color: transparent;\n",
              "    border-bottom-color: var(--fill-color);\n",
              "    animation:\n",
              "      spin 1s steps(1) infinite;\n",
              "  }\n",
              "\n",
              "  @keyframes spin {\n",
              "    0% {\n",
              "      border-color: transparent;\n",
              "      border-bottom-color: var(--fill-color);\n",
              "      border-left-color: var(--fill-color);\n",
              "    }\n",
              "    20% {\n",
              "      border-color: transparent;\n",
              "      border-left-color: var(--fill-color);\n",
              "      border-top-color: var(--fill-color);\n",
              "    }\n",
              "    30% {\n",
              "      border-color: transparent;\n",
              "      border-left-color: var(--fill-color);\n",
              "      border-top-color: var(--fill-color);\n",
              "      border-right-color: var(--fill-color);\n",
              "    }\n",
              "    40% {\n",
              "      border-color: transparent;\n",
              "      border-right-color: var(--fill-color);\n",
              "      border-top-color: var(--fill-color);\n",
              "    }\n",
              "    60% {\n",
              "      border-color: transparent;\n",
              "      border-right-color: var(--fill-color);\n",
              "    }\n",
              "    80% {\n",
              "      border-color: transparent;\n",
              "      border-right-color: var(--fill-color);\n",
              "      border-bottom-color: var(--fill-color);\n",
              "    }\n",
              "    90% {\n",
              "      border-color: transparent;\n",
              "      border-bottom-color: var(--fill-color);\n",
              "    }\n",
              "  }\n",
              "</style>\n",
              "\n",
              "      <script>\n",
              "        async function quickchart(key) {\n",
              "          const quickchartButtonEl =\n",
              "            document.querySelector('#' + key + ' button');\n",
              "          quickchartButtonEl.disabled = true;  // To prevent multiple clicks.\n",
              "          quickchartButtonEl.classList.add('colab-df-spinner');\n",
              "          try {\n",
              "            const charts = await google.colab.kernel.invokeFunction(\n",
              "                'suggestCharts', [key], {});\n",
              "          } catch (error) {\n",
              "            console.error('Error during call to suggestCharts:', error);\n",
              "          }\n",
              "          quickchartButtonEl.classList.remove('colab-df-spinner');\n",
              "          quickchartButtonEl.classList.add('colab-df-quickchart-complete');\n",
              "        }\n",
              "        (() => {\n",
              "          let quickchartButtonEl =\n",
              "            document.querySelector('#df-b2fc8730-28fb-467f-b726-218e3ab07823 button');\n",
              "          quickchartButtonEl.style.display =\n",
              "            google.colab.kernel.accessAllowed ? 'block' : 'none';\n",
              "        })();\n",
              "      </script>\n",
              "    </div>\n",
              "\n",
              "    </div>\n",
              "  </div>\n"
            ],
            "application/vnd.google.colaboratory.intrinsic+json": {
              "type": "dataframe",
              "summary": "{\n  \"name\": \"create_distribution_table(df)\",\n  \"rows\": 2,\n  \"fields\": [\n    {\n      \"column\": \"Label\",\n      \"properties\": {\n        \"dtype\": \"string\",\n        \"num_unique_values\": 2,\n        \"samples\": [\n          \"ATTACK\",\n          \"BENIGN\"\n        ],\n        \"semantic_type\": \"\",\n        \"description\": \"\"\n      }\n    },\n    {\n      \"column\": \"count\",\n      \"properties\": {\n        \"dtype\": \"number\",\n        \"std\": 780443,\n        \"min\": 336505,\n        \"max\": 1440219,\n        \"num_unique_values\": 2,\n        \"samples\": [\n          336505,\n          1440219\n        ],\n        \"semantic_type\": \"\",\n        \"description\": \"\"\n      }\n    },\n    {\n      \"column\": \"percentage\",\n      \"properties\": {\n        \"dtype\": \"number\",\n        \"std\": 0.43925992663493546,\n        \"min\": 0.18939632717293176,\n        \"max\": 0.8106036728270682,\n        \"num_unique_values\": 2,\n        \"samples\": [\n          0.18939632717293176,\n          0.8106036728270682\n        ],\n        \"semantic_type\": \"\",\n        \"description\": \"\"\n      }\n    }\n  ]\n}"
            }
          },
          "metadata": {},
          "execution_count": 9
        }
      ],
      "execution_count": 9
    },
    {
      "cell_type": "code",
      "source": [
        "df"
      ],
      "metadata": {
        "trusted": true,
        "id": "iOSrfGf2Izc2",
        "colab": {
          "base_uri": "https://localhost:8080/",
          "height": 495
        },
        "outputId": "440ef3fa-4fbb-44cd-de34-dacce7c49e0f"
      },
      "outputs": [
        {
          "output_type": "execute_result",
          "data": {
            "text/plain": [
              "         Flow Duration  Total Fwd Packets  Total Backward Packets  \\\n",
              "0                  640                  7                       4   \n",
              "1                  900                  9                       4   \n",
              "2                 1205                  7                       4   \n",
              "3                  511                  7                       4   \n",
              "4                  773                  9                       4   \n",
              "...                ...                ...                     ...   \n",
              "2300812              4                  2                       0   \n",
              "2300814             22                  1                       1   \n",
              "2300816             45                  1                       1   \n",
              "2300823             48                  2                       0   \n",
              "2300824             68                  1                       1   \n",
              "\n",
              "         Total Length of Fwd Packets  Total Length of Bwd Packets  \\\n",
              "0                                440                          358   \n",
              "1                                600                         2944   \n",
              "2                               2776                         2830   \n",
              "3                                452                          370   \n",
              "4                                612                         2944   \n",
              "...                              ...                          ...   \n",
              "2300812                            0                            0   \n",
              "2300814                            0                            0   \n",
              "2300816                            0                            0   \n",
              "2300823                           12                            0   \n",
              "2300824                            6                            6   \n",
              "\n",
              "         Fwd Packet Length Max  Fwd Packet Length Min  Fwd Packet Length Mean  \\\n",
              "0                          220                      0               62.857143   \n",
              "1                          300                      0               66.666667   \n",
              "2                         1388                      0              396.571429   \n",
              "3                          226                      0               64.571429   \n",
              "4                          306                      0               68.000000   \n",
              "...                        ...                    ...                     ...   \n",
              "2300812                      0                      0                0.000000   \n",
              "2300814                      0                      0                0.000000   \n",
              "2300816                      0                      0                0.000000   \n",
              "2300823                      6                      6                6.000000   \n",
              "2300824                      6                      6                6.000000   \n",
              "\n",
              "         Fwd Packet Length Std  Bwd Packet Length Max  ...  \\\n",
              "0                   107.349008                    179  ...   \n",
              "1                   132.287566                   1472  ...   \n",
              "2                   677.274651                   1415  ...   \n",
              "3                   110.276708                    185  ...   \n",
              "4                   134.933317                   1472  ...   \n",
              "...                        ...                    ...  ...   \n",
              "2300812               0.000000                      0  ...   \n",
              "2300814               0.000000                      0  ...   \n",
              "2300816               0.000000                      0  ...   \n",
              "2300823               0.000000                      0  ...   \n",
              "2300824               0.000000                      6  ...   \n",
              "\n",
              "         min_seg_size_forward  Active Mean  Active Std  Active Max  \\\n",
              "0                          20          0.0         0.0           0   \n",
              "1                          20          0.0         0.0           0   \n",
              "2                          20          0.0         0.0           0   \n",
              "3                          20          0.0         0.0           0   \n",
              "4                          20          0.0         0.0           0   \n",
              "...                       ...          ...         ...         ...   \n",
              "2300812                    32          0.0         0.0           0   \n",
              "2300814                    32          0.0         0.0           0   \n",
              "2300816                    32          0.0         0.0           0   \n",
              "2300823                    20          0.0         0.0           0   \n",
              "2300824                    20          0.0         0.0           0   \n",
              "\n",
              "         Active Min  Idle Mean  Idle Std  Idle Max  Idle Min   Label  \n",
              "0                 0        0.0       0.0         0         0  BENIGN  \n",
              "1                 0        0.0       0.0         0         0  BENIGN  \n",
              "2                 0        0.0       0.0         0         0  BENIGN  \n",
              "3                 0        0.0       0.0         0         0  BENIGN  \n",
              "4                 0        0.0       0.0         0         0  BENIGN  \n",
              "...             ...        ...       ...       ...       ...     ...  \n",
              "2300812           0        0.0       0.0         0         0  BENIGN  \n",
              "2300814           0        0.0       0.0         0         0  BENIGN  \n",
              "2300816           0        0.0       0.0         0         0  BENIGN  \n",
              "2300823           0        0.0       0.0         0         0  BENIGN  \n",
              "2300824           0        0.0       0.0         0         0  BENIGN  \n",
              "\n",
              "[1776724 rows x 78 columns]"
            ],
            "text/html": [
              "\n",
              "  <div id=\"df-59d1aff6-342f-443e-b910-5e97229e40c0\" class=\"colab-df-container\">\n",
              "    <div>\n",
              "<style scoped>\n",
              "    .dataframe tbody tr th:only-of-type {\n",
              "        vertical-align: middle;\n",
              "    }\n",
              "\n",
              "    .dataframe tbody tr th {\n",
              "        vertical-align: top;\n",
              "    }\n",
              "\n",
              "    .dataframe thead th {\n",
              "        text-align: right;\n",
              "    }\n",
              "</style>\n",
              "<table border=\"1\" class=\"dataframe\">\n",
              "  <thead>\n",
              "    <tr style=\"text-align: right;\">\n",
              "      <th></th>\n",
              "      <th>Flow Duration</th>\n",
              "      <th>Total Fwd Packets</th>\n",
              "      <th>Total Backward Packets</th>\n",
              "      <th>Total Length of Fwd Packets</th>\n",
              "      <th>Total Length of Bwd Packets</th>\n",
              "      <th>Fwd Packet Length Max</th>\n",
              "      <th>Fwd Packet Length Min</th>\n",
              "      <th>Fwd Packet Length Mean</th>\n",
              "      <th>Fwd Packet Length Std</th>\n",
              "      <th>Bwd Packet Length Max</th>\n",
              "      <th>...</th>\n",
              "      <th>min_seg_size_forward</th>\n",
              "      <th>Active Mean</th>\n",
              "      <th>Active Std</th>\n",
              "      <th>Active Max</th>\n",
              "      <th>Active Min</th>\n",
              "      <th>Idle Mean</th>\n",
              "      <th>Idle Std</th>\n",
              "      <th>Idle Max</th>\n",
              "      <th>Idle Min</th>\n",
              "      <th>Label</th>\n",
              "    </tr>\n",
              "  </thead>\n",
              "  <tbody>\n",
              "    <tr>\n",
              "      <th>0</th>\n",
              "      <td>640</td>\n",
              "      <td>7</td>\n",
              "      <td>4</td>\n",
              "      <td>440</td>\n",
              "      <td>358</td>\n",
              "      <td>220</td>\n",
              "      <td>0</td>\n",
              "      <td>62.857143</td>\n",
              "      <td>107.349008</td>\n",
              "      <td>179</td>\n",
              "      <td>...</td>\n",
              "      <td>20</td>\n",
              "      <td>0.0</td>\n",
              "      <td>0.0</td>\n",
              "      <td>0</td>\n",
              "      <td>0</td>\n",
              "      <td>0.0</td>\n",
              "      <td>0.0</td>\n",
              "      <td>0</td>\n",
              "      <td>0</td>\n",
              "      <td>BENIGN</td>\n",
              "    </tr>\n",
              "    <tr>\n",
              "      <th>1</th>\n",
              "      <td>900</td>\n",
              "      <td>9</td>\n",
              "      <td>4</td>\n",
              "      <td>600</td>\n",
              "      <td>2944</td>\n",
              "      <td>300</td>\n",
              "      <td>0</td>\n",
              "      <td>66.666667</td>\n",
              "      <td>132.287566</td>\n",
              "      <td>1472</td>\n",
              "      <td>...</td>\n",
              "      <td>20</td>\n",
              "      <td>0.0</td>\n",
              "      <td>0.0</td>\n",
              "      <td>0</td>\n",
              "      <td>0</td>\n",
              "      <td>0.0</td>\n",
              "      <td>0.0</td>\n",
              "      <td>0</td>\n",
              "      <td>0</td>\n",
              "      <td>BENIGN</td>\n",
              "    </tr>\n",
              "    <tr>\n",
              "      <th>2</th>\n",
              "      <td>1205</td>\n",
              "      <td>7</td>\n",
              "      <td>4</td>\n",
              "      <td>2776</td>\n",
              "      <td>2830</td>\n",
              "      <td>1388</td>\n",
              "      <td>0</td>\n",
              "      <td>396.571429</td>\n",
              "      <td>677.274651</td>\n",
              "      <td>1415</td>\n",
              "      <td>...</td>\n",
              "      <td>20</td>\n",
              "      <td>0.0</td>\n",
              "      <td>0.0</td>\n",
              "      <td>0</td>\n",
              "      <td>0</td>\n",
              "      <td>0.0</td>\n",
              "      <td>0.0</td>\n",
              "      <td>0</td>\n",
              "      <td>0</td>\n",
              "      <td>BENIGN</td>\n",
              "    </tr>\n",
              "    <tr>\n",
              "      <th>3</th>\n",
              "      <td>511</td>\n",
              "      <td>7</td>\n",
              "      <td>4</td>\n",
              "      <td>452</td>\n",
              "      <td>370</td>\n",
              "      <td>226</td>\n",
              "      <td>0</td>\n",
              "      <td>64.571429</td>\n",
              "      <td>110.276708</td>\n",
              "      <td>185</td>\n",
              "      <td>...</td>\n",
              "      <td>20</td>\n",
              "      <td>0.0</td>\n",
              "      <td>0.0</td>\n",
              "      <td>0</td>\n",
              "      <td>0</td>\n",
              "      <td>0.0</td>\n",
              "      <td>0.0</td>\n",
              "      <td>0</td>\n",
              "      <td>0</td>\n",
              "      <td>BENIGN</td>\n",
              "    </tr>\n",
              "    <tr>\n",
              "      <th>4</th>\n",
              "      <td>773</td>\n",
              "      <td>9</td>\n",
              "      <td>4</td>\n",
              "      <td>612</td>\n",
              "      <td>2944</td>\n",
              "      <td>306</td>\n",
              "      <td>0</td>\n",
              "      <td>68.000000</td>\n",
              "      <td>134.933317</td>\n",
              "      <td>1472</td>\n",
              "      <td>...</td>\n",
              "      <td>20</td>\n",
              "      <td>0.0</td>\n",
              "      <td>0.0</td>\n",
              "      <td>0</td>\n",
              "      <td>0</td>\n",
              "      <td>0.0</td>\n",
              "      <td>0.0</td>\n",
              "      <td>0</td>\n",
              "      <td>0</td>\n",
              "      <td>BENIGN</td>\n",
              "    </tr>\n",
              "    <tr>\n",
              "      <th>...</th>\n",
              "      <td>...</td>\n",
              "      <td>...</td>\n",
              "      <td>...</td>\n",
              "      <td>...</td>\n",
              "      <td>...</td>\n",
              "      <td>...</td>\n",
              "      <td>...</td>\n",
              "      <td>...</td>\n",
              "      <td>...</td>\n",
              "      <td>...</td>\n",
              "      <td>...</td>\n",
              "      <td>...</td>\n",
              "      <td>...</td>\n",
              "      <td>...</td>\n",
              "      <td>...</td>\n",
              "      <td>...</td>\n",
              "      <td>...</td>\n",
              "      <td>...</td>\n",
              "      <td>...</td>\n",
              "      <td>...</td>\n",
              "      <td>...</td>\n",
              "    </tr>\n",
              "    <tr>\n",
              "      <th>2300812</th>\n",
              "      <td>4</td>\n",
              "      <td>2</td>\n",
              "      <td>0</td>\n",
              "      <td>0</td>\n",
              "      <td>0</td>\n",
              "      <td>0</td>\n",
              "      <td>0</td>\n",
              "      <td>0.000000</td>\n",
              "      <td>0.000000</td>\n",
              "      <td>0</td>\n",
              "      <td>...</td>\n",
              "      <td>32</td>\n",
              "      <td>0.0</td>\n",
              "      <td>0.0</td>\n",
              "      <td>0</td>\n",
              "      <td>0</td>\n",
              "      <td>0.0</td>\n",
              "      <td>0.0</td>\n",
              "      <td>0</td>\n",
              "      <td>0</td>\n",
              "      <td>BENIGN</td>\n",
              "    </tr>\n",
              "    <tr>\n",
              "      <th>2300814</th>\n",
              "      <td>22</td>\n",
              "      <td>1</td>\n",
              "      <td>1</td>\n",
              "      <td>0</td>\n",
              "      <td>0</td>\n",
              "      <td>0</td>\n",
              "      <td>0</td>\n",
              "      <td>0.000000</td>\n",
              "      <td>0.000000</td>\n",
              "      <td>0</td>\n",
              "      <td>...</td>\n",
              "      <td>32</td>\n",
              "      <td>0.0</td>\n",
              "      <td>0.0</td>\n",
              "      <td>0</td>\n",
              "      <td>0</td>\n",
              "      <td>0.0</td>\n",
              "      <td>0.0</td>\n",
              "      <td>0</td>\n",
              "      <td>0</td>\n",
              "      <td>BENIGN</td>\n",
              "    </tr>\n",
              "    <tr>\n",
              "      <th>2300816</th>\n",
              "      <td>45</td>\n",
              "      <td>1</td>\n",
              "      <td>1</td>\n",
              "      <td>0</td>\n",
              "      <td>0</td>\n",
              "      <td>0</td>\n",
              "      <td>0</td>\n",
              "      <td>0.000000</td>\n",
              "      <td>0.000000</td>\n",
              "      <td>0</td>\n",
              "      <td>...</td>\n",
              "      <td>32</td>\n",
              "      <td>0.0</td>\n",
              "      <td>0.0</td>\n",
              "      <td>0</td>\n",
              "      <td>0</td>\n",
              "      <td>0.0</td>\n",
              "      <td>0.0</td>\n",
              "      <td>0</td>\n",
              "      <td>0</td>\n",
              "      <td>BENIGN</td>\n",
              "    </tr>\n",
              "    <tr>\n",
              "      <th>2300823</th>\n",
              "      <td>48</td>\n",
              "      <td>2</td>\n",
              "      <td>0</td>\n",
              "      <td>12</td>\n",
              "      <td>0</td>\n",
              "      <td>6</td>\n",
              "      <td>6</td>\n",
              "      <td>6.000000</td>\n",
              "      <td>0.000000</td>\n",
              "      <td>0</td>\n",
              "      <td>...</td>\n",
              "      <td>20</td>\n",
              "      <td>0.0</td>\n",
              "      <td>0.0</td>\n",
              "      <td>0</td>\n",
              "      <td>0</td>\n",
              "      <td>0.0</td>\n",
              "      <td>0.0</td>\n",
              "      <td>0</td>\n",
              "      <td>0</td>\n",
              "      <td>BENIGN</td>\n",
              "    </tr>\n",
              "    <tr>\n",
              "      <th>2300824</th>\n",
              "      <td>68</td>\n",
              "      <td>1</td>\n",
              "      <td>1</td>\n",
              "      <td>6</td>\n",
              "      <td>6</td>\n",
              "      <td>6</td>\n",
              "      <td>6</td>\n",
              "      <td>6.000000</td>\n",
              "      <td>0.000000</td>\n",
              "      <td>6</td>\n",
              "      <td>...</td>\n",
              "      <td>20</td>\n",
              "      <td>0.0</td>\n",
              "      <td>0.0</td>\n",
              "      <td>0</td>\n",
              "      <td>0</td>\n",
              "      <td>0.0</td>\n",
              "      <td>0.0</td>\n",
              "      <td>0</td>\n",
              "      <td>0</td>\n",
              "      <td>BENIGN</td>\n",
              "    </tr>\n",
              "  </tbody>\n",
              "</table>\n",
              "<p>1776724 rows × 78 columns</p>\n",
              "</div>\n",
              "    <div class=\"colab-df-buttons\">\n",
              "\n",
              "  <div class=\"colab-df-container\">\n",
              "    <button class=\"colab-df-convert\" onclick=\"convertToInteractive('df-59d1aff6-342f-443e-b910-5e97229e40c0')\"\n",
              "            title=\"Convert this dataframe to an interactive table.\"\n",
              "            style=\"display:none;\">\n",
              "\n",
              "  <svg xmlns=\"http://www.w3.org/2000/svg\" height=\"24px\" viewBox=\"0 -960 960 960\">\n",
              "    <path d=\"M120-120v-720h720v720H120Zm60-500h600v-160H180v160Zm220 220h160v-160H400v160Zm0 220h160v-160H400v160ZM180-400h160v-160H180v160Zm440 0h160v-160H620v160ZM180-180h160v-160H180v160Zm440 0h160v-160H620v160Z\"/>\n",
              "  </svg>\n",
              "    </button>\n",
              "\n",
              "  <style>\n",
              "    .colab-df-container {\n",
              "      display:flex;\n",
              "      gap: 12px;\n",
              "    }\n",
              "\n",
              "    .colab-df-convert {\n",
              "      background-color: #E8F0FE;\n",
              "      border: none;\n",
              "      border-radius: 50%;\n",
              "      cursor: pointer;\n",
              "      display: none;\n",
              "      fill: #1967D2;\n",
              "      height: 32px;\n",
              "      padding: 0 0 0 0;\n",
              "      width: 32px;\n",
              "    }\n",
              "\n",
              "    .colab-df-convert:hover {\n",
              "      background-color: #E2EBFA;\n",
              "      box-shadow: 0px 1px 2px rgba(60, 64, 67, 0.3), 0px 1px 3px 1px rgba(60, 64, 67, 0.15);\n",
              "      fill: #174EA6;\n",
              "    }\n",
              "\n",
              "    .colab-df-buttons div {\n",
              "      margin-bottom: 4px;\n",
              "    }\n",
              "\n",
              "    [theme=dark] .colab-df-convert {\n",
              "      background-color: #3B4455;\n",
              "      fill: #D2E3FC;\n",
              "    }\n",
              "\n",
              "    [theme=dark] .colab-df-convert:hover {\n",
              "      background-color: #434B5C;\n",
              "      box-shadow: 0px 1px 3px 1px rgba(0, 0, 0, 0.15);\n",
              "      filter: drop-shadow(0px 1px 2px rgba(0, 0, 0, 0.3));\n",
              "      fill: #FFFFFF;\n",
              "    }\n",
              "  </style>\n",
              "\n",
              "    <script>\n",
              "      const buttonEl =\n",
              "        document.querySelector('#df-59d1aff6-342f-443e-b910-5e97229e40c0 button.colab-df-convert');\n",
              "      buttonEl.style.display =\n",
              "        google.colab.kernel.accessAllowed ? 'block' : 'none';\n",
              "\n",
              "      async function convertToInteractive(key) {\n",
              "        const element = document.querySelector('#df-59d1aff6-342f-443e-b910-5e97229e40c0');\n",
              "        const dataTable =\n",
              "          await google.colab.kernel.invokeFunction('convertToInteractive',\n",
              "                                                    [key], {});\n",
              "        if (!dataTable) return;\n",
              "\n",
              "        const docLinkHtml = 'Like what you see? Visit the ' +\n",
              "          '<a target=\"_blank\" href=https://colab.research.google.com/notebooks/data_table.ipynb>data table notebook</a>'\n",
              "          + ' to learn more about interactive tables.';\n",
              "        element.innerHTML = '';\n",
              "        dataTable['output_type'] = 'display_data';\n",
              "        await google.colab.output.renderOutput(dataTable, element);\n",
              "        const docLink = document.createElement('div');\n",
              "        docLink.innerHTML = docLinkHtml;\n",
              "        element.appendChild(docLink);\n",
              "      }\n",
              "    </script>\n",
              "  </div>\n",
              "\n",
              "\n",
              "    <div id=\"df-15df5969-d29f-43b2-9d3d-b979ccb6cd59\">\n",
              "      <button class=\"colab-df-quickchart\" onclick=\"quickchart('df-15df5969-d29f-43b2-9d3d-b979ccb6cd59')\"\n",
              "                title=\"Suggest charts\"\n",
              "                style=\"display:none;\">\n",
              "\n",
              "<svg xmlns=\"http://www.w3.org/2000/svg\" height=\"24px\"viewBox=\"0 0 24 24\"\n",
              "     width=\"24px\">\n",
              "    <g>\n",
              "        <path d=\"M19 3H5c-1.1 0-2 .9-2 2v14c0 1.1.9 2 2 2h14c1.1 0 2-.9 2-2V5c0-1.1-.9-2-2-2zM9 17H7v-7h2v7zm4 0h-2V7h2v10zm4 0h-2v-4h2v4z\"/>\n",
              "    </g>\n",
              "</svg>\n",
              "      </button>\n",
              "\n",
              "<style>\n",
              "  .colab-df-quickchart {\n",
              "      --bg-color: #E8F0FE;\n",
              "      --fill-color: #1967D2;\n",
              "      --hover-bg-color: #E2EBFA;\n",
              "      --hover-fill-color: #174EA6;\n",
              "      --disabled-fill-color: #AAA;\n",
              "      --disabled-bg-color: #DDD;\n",
              "  }\n",
              "\n",
              "  [theme=dark] .colab-df-quickchart {\n",
              "      --bg-color: #3B4455;\n",
              "      --fill-color: #D2E3FC;\n",
              "      --hover-bg-color: #434B5C;\n",
              "      --hover-fill-color: #FFFFFF;\n",
              "      --disabled-bg-color: #3B4455;\n",
              "      --disabled-fill-color: #666;\n",
              "  }\n",
              "\n",
              "  .colab-df-quickchart {\n",
              "    background-color: var(--bg-color);\n",
              "    border: none;\n",
              "    border-radius: 50%;\n",
              "    cursor: pointer;\n",
              "    display: none;\n",
              "    fill: var(--fill-color);\n",
              "    height: 32px;\n",
              "    padding: 0;\n",
              "    width: 32px;\n",
              "  }\n",
              "\n",
              "  .colab-df-quickchart:hover {\n",
              "    background-color: var(--hover-bg-color);\n",
              "    box-shadow: 0 1px 2px rgba(60, 64, 67, 0.3), 0 1px 3px 1px rgba(60, 64, 67, 0.15);\n",
              "    fill: var(--button-hover-fill-color);\n",
              "  }\n",
              "\n",
              "  .colab-df-quickchart-complete:disabled,\n",
              "  .colab-df-quickchart-complete:disabled:hover {\n",
              "    background-color: var(--disabled-bg-color);\n",
              "    fill: var(--disabled-fill-color);\n",
              "    box-shadow: none;\n",
              "  }\n",
              "\n",
              "  .colab-df-spinner {\n",
              "    border: 2px solid var(--fill-color);\n",
              "    border-color: transparent;\n",
              "    border-bottom-color: var(--fill-color);\n",
              "    animation:\n",
              "      spin 1s steps(1) infinite;\n",
              "  }\n",
              "\n",
              "  @keyframes spin {\n",
              "    0% {\n",
              "      border-color: transparent;\n",
              "      border-bottom-color: var(--fill-color);\n",
              "      border-left-color: var(--fill-color);\n",
              "    }\n",
              "    20% {\n",
              "      border-color: transparent;\n",
              "      border-left-color: var(--fill-color);\n",
              "      border-top-color: var(--fill-color);\n",
              "    }\n",
              "    30% {\n",
              "      border-color: transparent;\n",
              "      border-left-color: var(--fill-color);\n",
              "      border-top-color: var(--fill-color);\n",
              "      border-right-color: var(--fill-color);\n",
              "    }\n",
              "    40% {\n",
              "      border-color: transparent;\n",
              "      border-right-color: var(--fill-color);\n",
              "      border-top-color: var(--fill-color);\n",
              "    }\n",
              "    60% {\n",
              "      border-color: transparent;\n",
              "      border-right-color: var(--fill-color);\n",
              "    }\n",
              "    80% {\n",
              "      border-color: transparent;\n",
              "      border-right-color: var(--fill-color);\n",
              "      border-bottom-color: var(--fill-color);\n",
              "    }\n",
              "    90% {\n",
              "      border-color: transparent;\n",
              "      border-bottom-color: var(--fill-color);\n",
              "    }\n",
              "  }\n",
              "</style>\n",
              "\n",
              "      <script>\n",
              "        async function quickchart(key) {\n",
              "          const quickchartButtonEl =\n",
              "            document.querySelector('#' + key + ' button');\n",
              "          quickchartButtonEl.disabled = true;  // To prevent multiple clicks.\n",
              "          quickchartButtonEl.classList.add('colab-df-spinner');\n",
              "          try {\n",
              "            const charts = await google.colab.kernel.invokeFunction(\n",
              "                'suggestCharts', [key], {});\n",
              "          } catch (error) {\n",
              "            console.error('Error during call to suggestCharts:', error);\n",
              "          }\n",
              "          quickchartButtonEl.classList.remove('colab-df-spinner');\n",
              "          quickchartButtonEl.classList.add('colab-df-quickchart-complete');\n",
              "        }\n",
              "        (() => {\n",
              "          let quickchartButtonEl =\n",
              "            document.querySelector('#df-15df5969-d29f-43b2-9d3d-b979ccb6cd59 button');\n",
              "          quickchartButtonEl.style.display =\n",
              "            google.colab.kernel.accessAllowed ? 'block' : 'none';\n",
              "        })();\n",
              "      </script>\n",
              "    </div>\n",
              "\n",
              "  <div id=\"id_a24372c3-1033-431a-b3c1-e0697faa9727\">\n",
              "    <style>\n",
              "      .colab-df-generate {\n",
              "        background-color: #E8F0FE;\n",
              "        border: none;\n",
              "        border-radius: 50%;\n",
              "        cursor: pointer;\n",
              "        display: none;\n",
              "        fill: #1967D2;\n",
              "        height: 32px;\n",
              "        padding: 0 0 0 0;\n",
              "        width: 32px;\n",
              "      }\n",
              "\n",
              "      .colab-df-generate:hover {\n",
              "        background-color: #E2EBFA;\n",
              "        box-shadow: 0px 1px 2px rgba(60, 64, 67, 0.3), 0px 1px 3px 1px rgba(60, 64, 67, 0.15);\n",
              "        fill: #174EA6;\n",
              "      }\n",
              "\n",
              "      [theme=dark] .colab-df-generate {\n",
              "        background-color: #3B4455;\n",
              "        fill: #D2E3FC;\n",
              "      }\n",
              "\n",
              "      [theme=dark] .colab-df-generate:hover {\n",
              "        background-color: #434B5C;\n",
              "        box-shadow: 0px 1px 3px 1px rgba(0, 0, 0, 0.15);\n",
              "        filter: drop-shadow(0px 1px 2px rgba(0, 0, 0, 0.3));\n",
              "        fill: #FFFFFF;\n",
              "      }\n",
              "    </style>\n",
              "    <button class=\"colab-df-generate\" onclick=\"generateWithVariable('df')\"\n",
              "            title=\"Generate code using this dataframe.\"\n",
              "            style=\"display:none;\">\n",
              "\n",
              "  <svg xmlns=\"http://www.w3.org/2000/svg\" height=\"24px\"viewBox=\"0 0 24 24\"\n",
              "       width=\"24px\">\n",
              "    <path d=\"M7,19H8.4L18.45,9,17,7.55,7,17.6ZM5,21V16.75L18.45,3.32a2,2,0,0,1,2.83,0l1.4,1.43a1.91,1.91,0,0,1,.58,1.4,1.91,1.91,0,0,1-.58,1.4L9.25,21ZM18.45,9,17,7.55Zm-12,3A5.31,5.31,0,0,0,4.9,8.1,5.31,5.31,0,0,0,1,6.5,5.31,5.31,0,0,0,4.9,4.9,5.31,5.31,0,0,0,6.5,1,5.31,5.31,0,0,0,8.1,4.9,5.31,5.31,0,0,0,12,6.5,5.46,5.46,0,0,0,6.5,12Z\"/>\n",
              "  </svg>\n",
              "    </button>\n",
              "    <script>\n",
              "      (() => {\n",
              "      const buttonEl =\n",
              "        document.querySelector('#id_a24372c3-1033-431a-b3c1-e0697faa9727 button.colab-df-generate');\n",
              "      buttonEl.style.display =\n",
              "        google.colab.kernel.accessAllowed ? 'block' : 'none';\n",
              "\n",
              "      buttonEl.onclick = () => {\n",
              "        google.colab.notebook.generateWithVariable('df');\n",
              "      }\n",
              "      })();\n",
              "    </script>\n",
              "  </div>\n",
              "\n",
              "    </div>\n",
              "  </div>\n"
            ],
            "application/vnd.google.colaboratory.intrinsic+json": {
              "type": "dataframe",
              "variable_name": "df"
            }
          },
          "metadata": {},
          "execution_count": 10
        }
      ],
      "execution_count": 10
    },
    {
      "cell_type": "code",
      "source": [
        "# Menampilkan informasi dataset\n",
        "print(\"\\nInformasi Dataset:\")\n",
        "print(f\"\\nJumlah total data: {len(df)}\")\n",
        "print(f\"Jumlah fitur : {len(df.columns)}\")\n",
        "print(\"\\nDistribusi Label setelah preprocessing:\")\n",
        "\n",
        "create_distribution_table(df)"
      ],
      "metadata": {
        "trusted": true,
        "id": "n2dcuIXQIzc2",
        "colab": {
          "base_uri": "https://localhost:8080/",
          "height": 265
        },
        "outputId": "ecfc3a20-1c91-48da-a2e0-a99fefdba7f9"
      },
      "outputs": [
        {
          "output_type": "stream",
          "name": "stdout",
          "text": [
            "\n",
            "Informasi Dataset:\n",
            "\n",
            "Jumlah total data: 1776724\n",
            "Jumlah fitur : 78\n",
            "\n",
            "Distribusi Label setelah preprocessing:\n"
          ]
        },
        {
          "output_type": "execute_result",
          "data": {
            "text/plain": [
              "          count  percentage\n",
              "Label                      \n",
              "BENIGN  1440219    0.810604\n",
              "ATTACK   336505    0.189396"
            ],
            "text/html": [
              "\n",
              "  <div id=\"df-862b205d-621c-4d18-9f3a-fe32fe3e5bc9\" class=\"colab-df-container\">\n",
              "    <div>\n",
              "<style scoped>\n",
              "    .dataframe tbody tr th:only-of-type {\n",
              "        vertical-align: middle;\n",
              "    }\n",
              "\n",
              "    .dataframe tbody tr th {\n",
              "        vertical-align: top;\n",
              "    }\n",
              "\n",
              "    .dataframe thead th {\n",
              "        text-align: right;\n",
              "    }\n",
              "</style>\n",
              "<table border=\"1\" class=\"dataframe\">\n",
              "  <thead>\n",
              "    <tr style=\"text-align: right;\">\n",
              "      <th></th>\n",
              "      <th>count</th>\n",
              "      <th>percentage</th>\n",
              "    </tr>\n",
              "    <tr>\n",
              "      <th>Label</th>\n",
              "      <th></th>\n",
              "      <th></th>\n",
              "    </tr>\n",
              "  </thead>\n",
              "  <tbody>\n",
              "    <tr>\n",
              "      <th>BENIGN</th>\n",
              "      <td>1440219</td>\n",
              "      <td>0.810604</td>\n",
              "    </tr>\n",
              "    <tr>\n",
              "      <th>ATTACK</th>\n",
              "      <td>336505</td>\n",
              "      <td>0.189396</td>\n",
              "    </tr>\n",
              "  </tbody>\n",
              "</table>\n",
              "</div>\n",
              "    <div class=\"colab-df-buttons\">\n",
              "\n",
              "  <div class=\"colab-df-container\">\n",
              "    <button class=\"colab-df-convert\" onclick=\"convertToInteractive('df-862b205d-621c-4d18-9f3a-fe32fe3e5bc9')\"\n",
              "            title=\"Convert this dataframe to an interactive table.\"\n",
              "            style=\"display:none;\">\n",
              "\n",
              "  <svg xmlns=\"http://www.w3.org/2000/svg\" height=\"24px\" viewBox=\"0 -960 960 960\">\n",
              "    <path d=\"M120-120v-720h720v720H120Zm60-500h600v-160H180v160Zm220 220h160v-160H400v160Zm0 220h160v-160H400v160ZM180-400h160v-160H180v160Zm440 0h160v-160H620v160ZM180-180h160v-160H180v160Zm440 0h160v-160H620v160Z\"/>\n",
              "  </svg>\n",
              "    </button>\n",
              "\n",
              "  <style>\n",
              "    .colab-df-container {\n",
              "      display:flex;\n",
              "      gap: 12px;\n",
              "    }\n",
              "\n",
              "    .colab-df-convert {\n",
              "      background-color: #E8F0FE;\n",
              "      border: none;\n",
              "      border-radius: 50%;\n",
              "      cursor: pointer;\n",
              "      display: none;\n",
              "      fill: #1967D2;\n",
              "      height: 32px;\n",
              "      padding: 0 0 0 0;\n",
              "      width: 32px;\n",
              "    }\n",
              "\n",
              "    .colab-df-convert:hover {\n",
              "      background-color: #E2EBFA;\n",
              "      box-shadow: 0px 1px 2px rgba(60, 64, 67, 0.3), 0px 1px 3px 1px rgba(60, 64, 67, 0.15);\n",
              "      fill: #174EA6;\n",
              "    }\n",
              "\n",
              "    .colab-df-buttons div {\n",
              "      margin-bottom: 4px;\n",
              "    }\n",
              "\n",
              "    [theme=dark] .colab-df-convert {\n",
              "      background-color: #3B4455;\n",
              "      fill: #D2E3FC;\n",
              "    }\n",
              "\n",
              "    [theme=dark] .colab-df-convert:hover {\n",
              "      background-color: #434B5C;\n",
              "      box-shadow: 0px 1px 3px 1px rgba(0, 0, 0, 0.15);\n",
              "      filter: drop-shadow(0px 1px 2px rgba(0, 0, 0, 0.3));\n",
              "      fill: #FFFFFF;\n",
              "    }\n",
              "  </style>\n",
              "\n",
              "    <script>\n",
              "      const buttonEl =\n",
              "        document.querySelector('#df-862b205d-621c-4d18-9f3a-fe32fe3e5bc9 button.colab-df-convert');\n",
              "      buttonEl.style.display =\n",
              "        google.colab.kernel.accessAllowed ? 'block' : 'none';\n",
              "\n",
              "      async function convertToInteractive(key) {\n",
              "        const element = document.querySelector('#df-862b205d-621c-4d18-9f3a-fe32fe3e5bc9');\n",
              "        const dataTable =\n",
              "          await google.colab.kernel.invokeFunction('convertToInteractive',\n",
              "                                                    [key], {});\n",
              "        if (!dataTable) return;\n",
              "\n",
              "        const docLinkHtml = 'Like what you see? Visit the ' +\n",
              "          '<a target=\"_blank\" href=https://colab.research.google.com/notebooks/data_table.ipynb>data table notebook</a>'\n",
              "          + ' to learn more about interactive tables.';\n",
              "        element.innerHTML = '';\n",
              "        dataTable['output_type'] = 'display_data';\n",
              "        await google.colab.output.renderOutput(dataTable, element);\n",
              "        const docLink = document.createElement('div');\n",
              "        docLink.innerHTML = docLinkHtml;\n",
              "        element.appendChild(docLink);\n",
              "      }\n",
              "    </script>\n",
              "  </div>\n",
              "\n",
              "\n",
              "    <div id=\"df-e1afa7ee-b47f-47b4-b26d-e9aa0b344d62\">\n",
              "      <button class=\"colab-df-quickchart\" onclick=\"quickchart('df-e1afa7ee-b47f-47b4-b26d-e9aa0b344d62')\"\n",
              "                title=\"Suggest charts\"\n",
              "                style=\"display:none;\">\n",
              "\n",
              "<svg xmlns=\"http://www.w3.org/2000/svg\" height=\"24px\"viewBox=\"0 0 24 24\"\n",
              "     width=\"24px\">\n",
              "    <g>\n",
              "        <path d=\"M19 3H5c-1.1 0-2 .9-2 2v14c0 1.1.9 2 2 2h14c1.1 0 2-.9 2-2V5c0-1.1-.9-2-2-2zM9 17H7v-7h2v7zm4 0h-2V7h2v10zm4 0h-2v-4h2v4z\"/>\n",
              "    </g>\n",
              "</svg>\n",
              "      </button>\n",
              "\n",
              "<style>\n",
              "  .colab-df-quickchart {\n",
              "      --bg-color: #E8F0FE;\n",
              "      --fill-color: #1967D2;\n",
              "      --hover-bg-color: #E2EBFA;\n",
              "      --hover-fill-color: #174EA6;\n",
              "      --disabled-fill-color: #AAA;\n",
              "      --disabled-bg-color: #DDD;\n",
              "  }\n",
              "\n",
              "  [theme=dark] .colab-df-quickchart {\n",
              "      --bg-color: #3B4455;\n",
              "      --fill-color: #D2E3FC;\n",
              "      --hover-bg-color: #434B5C;\n",
              "      --hover-fill-color: #FFFFFF;\n",
              "      --disabled-bg-color: #3B4455;\n",
              "      --disabled-fill-color: #666;\n",
              "  }\n",
              "\n",
              "  .colab-df-quickchart {\n",
              "    background-color: var(--bg-color);\n",
              "    border: none;\n",
              "    border-radius: 50%;\n",
              "    cursor: pointer;\n",
              "    display: none;\n",
              "    fill: var(--fill-color);\n",
              "    height: 32px;\n",
              "    padding: 0;\n",
              "    width: 32px;\n",
              "  }\n",
              "\n",
              "  .colab-df-quickchart:hover {\n",
              "    background-color: var(--hover-bg-color);\n",
              "    box-shadow: 0 1px 2px rgba(60, 64, 67, 0.3), 0 1px 3px 1px rgba(60, 64, 67, 0.15);\n",
              "    fill: var(--button-hover-fill-color);\n",
              "  }\n",
              "\n",
              "  .colab-df-quickchart-complete:disabled,\n",
              "  .colab-df-quickchart-complete:disabled:hover {\n",
              "    background-color: var(--disabled-bg-color);\n",
              "    fill: var(--disabled-fill-color);\n",
              "    box-shadow: none;\n",
              "  }\n",
              "\n",
              "  .colab-df-spinner {\n",
              "    border: 2px solid var(--fill-color);\n",
              "    border-color: transparent;\n",
              "    border-bottom-color: var(--fill-color);\n",
              "    animation:\n",
              "      spin 1s steps(1) infinite;\n",
              "  }\n",
              "\n",
              "  @keyframes spin {\n",
              "    0% {\n",
              "      border-color: transparent;\n",
              "      border-bottom-color: var(--fill-color);\n",
              "      border-left-color: var(--fill-color);\n",
              "    }\n",
              "    20% {\n",
              "      border-color: transparent;\n",
              "      border-left-color: var(--fill-color);\n",
              "      border-top-color: var(--fill-color);\n",
              "    }\n",
              "    30% {\n",
              "      border-color: transparent;\n",
              "      border-left-color: var(--fill-color);\n",
              "      border-top-color: var(--fill-color);\n",
              "      border-right-color: var(--fill-color);\n",
              "    }\n",
              "    40% {\n",
              "      border-color: transparent;\n",
              "      border-right-color: var(--fill-color);\n",
              "      border-top-color: var(--fill-color);\n",
              "    }\n",
              "    60% {\n",
              "      border-color: transparent;\n",
              "      border-right-color: var(--fill-color);\n",
              "    }\n",
              "    80% {\n",
              "      border-color: transparent;\n",
              "      border-right-color: var(--fill-color);\n",
              "      border-bottom-color: var(--fill-color);\n",
              "    }\n",
              "    90% {\n",
              "      border-color: transparent;\n",
              "      border-bottom-color: var(--fill-color);\n",
              "    }\n",
              "  }\n",
              "</style>\n",
              "\n",
              "      <script>\n",
              "        async function quickchart(key) {\n",
              "          const quickchartButtonEl =\n",
              "            document.querySelector('#' + key + ' button');\n",
              "          quickchartButtonEl.disabled = true;  // To prevent multiple clicks.\n",
              "          quickchartButtonEl.classList.add('colab-df-spinner');\n",
              "          try {\n",
              "            const charts = await google.colab.kernel.invokeFunction(\n",
              "                'suggestCharts', [key], {});\n",
              "          } catch (error) {\n",
              "            console.error('Error during call to suggestCharts:', error);\n",
              "          }\n",
              "          quickchartButtonEl.classList.remove('colab-df-spinner');\n",
              "          quickchartButtonEl.classList.add('colab-df-quickchart-complete');\n",
              "        }\n",
              "        (() => {\n",
              "          let quickchartButtonEl =\n",
              "            document.querySelector('#df-e1afa7ee-b47f-47b4-b26d-e9aa0b344d62 button');\n",
              "          quickchartButtonEl.style.display =\n",
              "            google.colab.kernel.accessAllowed ? 'block' : 'none';\n",
              "        })();\n",
              "      </script>\n",
              "    </div>\n",
              "\n",
              "    </div>\n",
              "  </div>\n"
            ],
            "application/vnd.google.colaboratory.intrinsic+json": {
              "type": "dataframe",
              "summary": "{\n  \"name\": \"create_distribution_table(df)\",\n  \"rows\": 2,\n  \"fields\": [\n    {\n      \"column\": \"Label\",\n      \"properties\": {\n        \"dtype\": \"string\",\n        \"num_unique_values\": 2,\n        \"samples\": [\n          \"ATTACK\",\n          \"BENIGN\"\n        ],\n        \"semantic_type\": \"\",\n        \"description\": \"\"\n      }\n    },\n    {\n      \"column\": \"count\",\n      \"properties\": {\n        \"dtype\": \"number\",\n        \"std\": 780443,\n        \"min\": 336505,\n        \"max\": 1440219,\n        \"num_unique_values\": 2,\n        \"samples\": [\n          336505,\n          1440219\n        ],\n        \"semantic_type\": \"\",\n        \"description\": \"\"\n      }\n    },\n    {\n      \"column\": \"percentage\",\n      \"properties\": {\n        \"dtype\": \"number\",\n        \"std\": 0.43925992663493546,\n        \"min\": 0.18939632717293176,\n        \"max\": 0.8106036728270682,\n        \"num_unique_values\": 2,\n        \"samples\": [\n          0.18939632717293176,\n          0.8106036728270682\n        ],\n        \"semantic_type\": \"\",\n        \"description\": \"\"\n      }\n    }\n  ]\n}"
            }
          },
          "metadata": {},
          "execution_count": 11
        }
      ],
      "execution_count": 11
    },
    {
      "cell_type": "markdown",
      "source": [
        "## Pemisahan Data Fitur (X) dan Ouput (y)"
      ],
      "metadata": {
        "id": "FiWBz4KAIzc3"
      }
    },
    {
      "cell_type": "code",
      "source": [
        "numerical_columns = df.select_dtypes(include=[np.number]).columns\n",
        "X = df[numerical_columns]\n",
        "y = df[\"Label\"]\n",
        "print(f\"jumlah fitur : {len(X.columns)}\")\n",
        "print(f\"jumlah label : {len(y.unique())}\")"
      ],
      "metadata": {
        "trusted": true,
        "id": "y7NMjQlhIzc3",
        "colab": {
          "base_uri": "https://localhost:8080/"
        },
        "outputId": "5c2594bb-69ef-428b-c65d-06e3c8fe40b1"
      },
      "outputs": [
        {
          "output_type": "stream",
          "name": "stdout",
          "text": [
            "jumlah fitur : 77\n",
            "jumlah label : 2\n"
          ]
        }
      ],
      "execution_count": 12
    },
    {
      "cell_type": "markdown",
      "source": [
        "## Training-Test Split"
      ],
      "metadata": {
        "id": "mKsCxhm6Izc3"
      }
    },
    {
      "cell_type": "code",
      "source": [
        "tss = TimeSeriesSplit(n_splits=7)\n",
        "print(tss)"
      ],
      "metadata": {
        "trusted": true,
        "id": "AID6zrKGIzc4",
        "colab": {
          "base_uri": "https://localhost:8080/"
        },
        "outputId": "9fb7fd58-2ad4-4f08-f9ca-316f1c675907"
      },
      "outputs": [
        {
          "output_type": "stream",
          "name": "stdout",
          "text": [
            "TimeSeriesSplit(gap=0, max_train_size=None, n_splits=7, test_size=None)\n"
          ]
        }
      ],
      "execution_count": 13
    },
    {
      "cell_type": "code",
      "source": [
        "#X = np.array([[1, 2], [3, 4], [1, 2], [3, 4], [1, 2], [3, 4]])\n",
        "train_index, test_index = [], []\n",
        "for i, (train_interval, test_interval) in enumerate(tss.split(X)):\n",
        "    print(f\"fold {i}:\")\n",
        "    print(f\"  Train: index : from {train_interval.min()} up to {train_interval.max()}\")\n",
        "    print(f\"  Test:  index=from {test_interval.min()} up to {test_interval.max()}\")\n",
        "    print(f\"  Jumlah kelas pada training set : {y.iloc[train_interval].nunique()}\")\n",
        "    print(f\"  Jumlah kelas pada testing set : {y.iloc[test_interval].nunique()}\")\n",
        "    train_index, test_index = train_interval, test_interval\n"
      ],
      "metadata": {
        "trusted": true,
        "id": "JZNJJldeIzc4",
        "colab": {
          "base_uri": "https://localhost:8080/"
        },
        "outputId": "8568530b-2e8f-4921-97f7-259c82c5f798"
      },
      "outputs": [
        {
          "output_type": "stream",
          "name": "stdout",
          "text": [
            "fold 0:\n",
            "  Train: index : from 0 up to 222093\n",
            "  Test:  index=from 222094 up to 444183\n",
            "  Jumlah kelas pada training set : 2\n",
            "  Jumlah kelas pada testing set : 2\n",
            "fold 1:\n",
            "  Train: index : from 0 up to 444183\n",
            "  Test:  index=from 444184 up to 666273\n",
            "  Jumlah kelas pada training set : 2\n",
            "  Jumlah kelas pada testing set : 2\n",
            "fold 2:\n",
            "  Train: index : from 0 up to 666273\n",
            "  Test:  index=from 666274 up to 888363\n",
            "  Jumlah kelas pada training set : 2\n",
            "  Jumlah kelas pada testing set : 2\n",
            "fold 3:\n",
            "  Train: index : from 0 up to 888363\n",
            "  Test:  index=from 888364 up to 1110453\n",
            "  Jumlah kelas pada training set : 2\n",
            "  Jumlah kelas pada testing set : 2\n",
            "fold 4:\n",
            "  Train: index : from 0 up to 1110453\n",
            "  Test:  index=from 1110454 up to 1332543\n",
            "  Jumlah kelas pada training set : 2\n",
            "  Jumlah kelas pada testing set : 2\n",
            "fold 5:\n",
            "  Train: index : from 0 up to 1332543\n",
            "  Test:  index=from 1332544 up to 1554633\n",
            "  Jumlah kelas pada training set : 2\n",
            "  Jumlah kelas pada testing set : 2\n",
            "fold 6:\n",
            "  Train: index : from 0 up to 1554633\n",
            "  Test:  index=from 1554634 up to 1776723\n",
            "  Jumlah kelas pada training set : 2\n",
            "  Jumlah kelas pada testing set : 2\n"
          ]
        }
      ],
      "execution_count": 14
    },
    {
      "cell_type": "code",
      "source": [
        "# Split dataset dengan stratifikasi\n",
        "X_train, X_test = X.iloc[train_index], X.iloc[test_index]\n",
        "y_train, y_test  = y.iloc[train_index], y.iloc[test_index]"
      ],
      "metadata": {
        "trusted": true,
        "id": "J8PDNvSgIzc5"
      },
      "outputs": [],
      "execution_count": 15
    },
    {
      "cell_type": "code",
      "source": [
        "y_test.value_counts()"
      ],
      "metadata": {
        "trusted": true,
        "id": "7yNX5DojIzc5",
        "colab": {
          "base_uri": "https://localhost:8080/",
          "height": 178
        },
        "outputId": "3fd54105-3842-45c4-d5ee-680faa723039"
      },
      "outputs": [
        {
          "output_type": "execute_result",
          "data": {
            "text/plain": [
              "Label\n",
              "ATTACK    128162\n",
              "BENIGN     93928\n",
              "Name: count, dtype: int64"
            ],
            "text/html": [
              "<div>\n",
              "<style scoped>\n",
              "    .dataframe tbody tr th:only-of-type {\n",
              "        vertical-align: middle;\n",
              "    }\n",
              "\n",
              "    .dataframe tbody tr th {\n",
              "        vertical-align: top;\n",
              "    }\n",
              "\n",
              "    .dataframe thead th {\n",
              "        text-align: right;\n",
              "    }\n",
              "</style>\n",
              "<table border=\"1\" class=\"dataframe\">\n",
              "  <thead>\n",
              "    <tr style=\"text-align: right;\">\n",
              "      <th></th>\n",
              "      <th>count</th>\n",
              "    </tr>\n",
              "    <tr>\n",
              "      <th>Label</th>\n",
              "      <th></th>\n",
              "    </tr>\n",
              "  </thead>\n",
              "  <tbody>\n",
              "    <tr>\n",
              "      <th>ATTACK</th>\n",
              "      <td>128162</td>\n",
              "    </tr>\n",
              "    <tr>\n",
              "      <th>BENIGN</th>\n",
              "      <td>93928</td>\n",
              "    </tr>\n",
              "  </tbody>\n",
              "</table>\n",
              "</div><br><label><b>dtype:</b> int64</label>"
            ]
          },
          "metadata": {},
          "execution_count": 16
        }
      ],
      "execution_count": 16
    },
    {
      "cell_type": "code",
      "source": [
        "y_train.value_counts()"
      ],
      "metadata": {
        "trusted": true,
        "id": "UfQ_8WIjIzc5",
        "colab": {
          "base_uri": "https://localhost:8080/",
          "height": 178
        },
        "outputId": "a581833b-a202-4175-ea89-1f51233ebf9c"
      },
      "outputs": [
        {
          "output_type": "execute_result",
          "data": {
            "text/plain": [
              "Label\n",
              "BENIGN    1346291\n",
              "ATTACK     208343\n",
              "Name: count, dtype: int64"
            ],
            "text/html": [
              "<div>\n",
              "<style scoped>\n",
              "    .dataframe tbody tr th:only-of-type {\n",
              "        vertical-align: middle;\n",
              "    }\n",
              "\n",
              "    .dataframe tbody tr th {\n",
              "        vertical-align: top;\n",
              "    }\n",
              "\n",
              "    .dataframe thead th {\n",
              "        text-align: right;\n",
              "    }\n",
              "</style>\n",
              "<table border=\"1\" class=\"dataframe\">\n",
              "  <thead>\n",
              "    <tr style=\"text-align: right;\">\n",
              "      <th></th>\n",
              "      <th>count</th>\n",
              "    </tr>\n",
              "    <tr>\n",
              "      <th>Label</th>\n",
              "      <th></th>\n",
              "    </tr>\n",
              "  </thead>\n",
              "  <tbody>\n",
              "    <tr>\n",
              "      <th>BENIGN</th>\n",
              "      <td>1346291</td>\n",
              "    </tr>\n",
              "    <tr>\n",
              "      <th>ATTACK</th>\n",
              "      <td>208343</td>\n",
              "    </tr>\n",
              "  </tbody>\n",
              "</table>\n",
              "</div><br><label><b>dtype:</b> int64</label>"
            ]
          },
          "metadata": {},
          "execution_count": 17
        }
      ],
      "execution_count": 17
    },
    {
      "cell_type": "markdown",
      "source": [
        "## Transformasi Data"
      ],
      "metadata": {
        "id": "LHnJZdvkIzc6"
      }
    },
    {
      "cell_type": "code",
      "source": [
        "# imputer\n",
        "imputer = SimpleImputer(missing_values=np.nan, strategy='mean', copy=False)\n",
        "print(\"fitting imputer...\")\n",
        "imputer.fit(X_train)\n",
        "print(\"selesai!\")\n",
        "\n",
        "# scaler\n",
        "scaler = StandardScaler(copy=False)\n",
        "print(\"\\nfitting scaler...\")\n",
        "scaler.fit(X_train)\n",
        "print(\"selesai!\")\n",
        "\n",
        "# label encoder (le)\n",
        "le = LabelEncoder()\n",
        "print(\"\\nfitting label encoder...\")\n",
        "le.fit(y_train.astype(str))\n",
        "print(\"selesai!\")"
      ],
      "metadata": {
        "trusted": true,
        "id": "f5DM-4KaIzdC",
        "colab": {
          "base_uri": "https://localhost:8080/"
        },
        "outputId": "9c8db0fe-1325-439d-8fb3-359a05422edd"
      },
      "outputs": [
        {
          "output_type": "stream",
          "name": "stdout",
          "text": [
            "fitting imputer...\n",
            "selesai!\n",
            "\n",
            "fitting scaler...\n",
            "selesai!\n",
            "\n",
            "fitting label encoder...\n",
            "selesai!\n"
          ]
        }
      ],
      "execution_count": 18
    },
    {
      "cell_type": "code",
      "source": [
        "for i, label in enumerate(le.classes_):\n",
        "    print(f\"i : {i} , label : {label}\")"
      ],
      "metadata": {
        "trusted": true,
        "id": "O_cGSTHLIzdE",
        "colab": {
          "base_uri": "https://localhost:8080/"
        },
        "outputId": "8b407231-1d79-488d-b2cc-ef6bac7cb903"
      },
      "outputs": [
        {
          "output_type": "stream",
          "name": "stdout",
          "text": [
            "i : 0 , label : ATTACK\n",
            "i : 1 , label : BENIGN\n"
          ]
        }
      ],
      "execution_count": 19
    },
    {
      "cell_type": "code",
      "source": [
        "# Menampilkan informasi kelas\n",
        "print(\"\\nKelas yang terdeteksi:\")\n",
        "for i, label in enumerate(le.classes_):\n",
        "    count = (df[\"Label\"] == i).sum()\n",
        "    print(f\"{label}: {count} samples (encoded as {i})\")\n"
      ],
      "metadata": {
        "trusted": true,
        "id": "EKtJFw_WIzdE",
        "colab": {
          "base_uri": "https://localhost:8080/"
        },
        "outputId": "6f4d0093-fb6a-4788-883f-8d001814ec35"
      },
      "outputs": [
        {
          "output_type": "stream",
          "name": "stdout",
          "text": [
            "\n",
            "Kelas yang terdeteksi:\n",
            "ATTACK: 0 samples (encoded as 0)\n",
            "BENIGN: 0 samples (encoded as 1)\n"
          ]
        }
      ],
      "execution_count": 20
    },
    {
      "cell_type": "code",
      "source": [
        "df[\"Label\"].value_counts()"
      ],
      "metadata": {
        "trusted": true,
        "id": "vTnZdm1XIzdC",
        "colab": {
          "base_uri": "https://localhost:8080/",
          "height": 178
        },
        "outputId": "057f4329-18b0-4de3-9640-c13562ef0faa"
      },
      "outputs": [
        {
          "output_type": "execute_result",
          "data": {
            "text/plain": [
              "Label\n",
              "BENIGN    1440219\n",
              "ATTACK     336505\n",
              "Name: count, dtype: int64"
            ],
            "text/html": [
              "<div>\n",
              "<style scoped>\n",
              "    .dataframe tbody tr th:only-of-type {\n",
              "        vertical-align: middle;\n",
              "    }\n",
              "\n",
              "    .dataframe tbody tr th {\n",
              "        vertical-align: top;\n",
              "    }\n",
              "\n",
              "    .dataframe thead th {\n",
              "        text-align: right;\n",
              "    }\n",
              "</style>\n",
              "<table border=\"1\" class=\"dataframe\">\n",
              "  <thead>\n",
              "    <tr style=\"text-align: right;\">\n",
              "      <th></th>\n",
              "      <th>count</th>\n",
              "    </tr>\n",
              "    <tr>\n",
              "      <th>Label</th>\n",
              "      <th></th>\n",
              "    </tr>\n",
              "  </thead>\n",
              "  <tbody>\n",
              "    <tr>\n",
              "      <th>BENIGN</th>\n",
              "      <td>1440219</td>\n",
              "    </tr>\n",
              "    <tr>\n",
              "      <th>ATTACK</th>\n",
              "      <td>336505</td>\n",
              "    </tr>\n",
              "  </tbody>\n",
              "</table>\n",
              "</div><br><label><b>dtype:</b> int64</label>"
            ]
          },
          "metadata": {},
          "execution_count": 21
        }
      ],
      "execution_count": 21
    },
    {
      "cell_type": "code",
      "source": [
        "def transform_data(X, y, scaler, imputer, le):\n",
        "    # Handling missing values untuk dataset training\n",
        "    print(\"\\nMenangani missing values...\")\n",
        "    X = imputer.transform(X)\n",
        "    print(\"selesai!\")\n",
        "\n",
        "    # Normalisasi Data\n",
        "    print(\"\\nMelakukan normalisasi data...\")\n",
        "    X = scaler.transform(X)\n",
        "    print(\"selesai!\")\n",
        "\n",
        "    # Pelabelan Kelas\n",
        "    num_classes = len(le.classes_)\n",
        "    print(\"\\nMelakukan one-hot encoding...\")\n",
        "    y = le.transform(y)\n",
        "    print(\"selesai!\")\n",
        "\n",
        "    return X, y"
      ],
      "metadata": {
        "trusted": true,
        "id": "A6vQ_vQbIzdC"
      },
      "outputs": [],
      "execution_count": 22
    },
    {
      "cell_type": "code",
      "source": [
        "## Transformasi Data Training\n",
        "X_train, y_train = transform_data(X_train, y_train, scaler, imputer, le)\n",
        "\n",
        "# Transformmasi data testing\n",
        "X_test, y_test = transform_data(X_test, y_test, scaler, imputer, le)"
      ],
      "metadata": {
        "trusted": true,
        "id": "8BwGxLuvIzdD",
        "colab": {
          "base_uri": "https://localhost:8080/"
        },
        "outputId": "4c1d1b36-1283-4233-c99d-bfed9db4e8a5"
      },
      "outputs": [
        {
          "output_type": "stream",
          "name": "stdout",
          "text": [
            "\n",
            "Menangani missing values...\n",
            "selesai!\n",
            "\n",
            "Melakukan normalisasi data...\n"
          ]
        },
        {
          "output_type": "stream",
          "name": "stderr",
          "text": [
            "/usr/local/lib/python3.11/dist-packages/sklearn/utils/validation.py:2739: UserWarning: X does not have valid feature names, but StandardScaler was fitted with feature names\n",
            "  warnings.warn(\n"
          ]
        },
        {
          "output_type": "stream",
          "name": "stdout",
          "text": [
            "selesai!\n",
            "\n",
            "Melakukan one-hot encoding...\n",
            "selesai!\n",
            "\n",
            "Menangani missing values...\n",
            "selesai!\n",
            "\n",
            "Melakukan normalisasi data...\n",
            "selesai!\n",
            "\n",
            "Melakukan one-hot encoding...\n",
            "selesai!\n"
          ]
        },
        {
          "output_type": "stream",
          "name": "stderr",
          "text": [
            "/usr/local/lib/python3.11/dist-packages/sklearn/utils/validation.py:2739: UserWarning: X does not have valid feature names, but StandardScaler was fitted with feature names\n",
            "  warnings.warn(\n"
          ]
        }
      ],
      "execution_count": 23
    },
    {
      "cell_type": "markdown",
      "source": [
        "## Feature Selection"
      ],
      "metadata": {
        "id": "GHDtns0BVSHD"
      }
    },
    {
      "cell_type": "code",
      "source": [
        "# prompt: lakukan feature selection menggunakan anova f-test\n",
        "\n",
        "from sklearn.feature_selection import SelectKBest, f_classif\n",
        "\n",
        "# Lakukan feature selection menggunakan ANOVA F-test\n",
        "# Pilih k fitur terbaik, misalnya k=15\n",
        "k = 15\n",
        "selector = SelectKBest(score_func=f_classif, k=k)\n",
        "X_train_selected = selector.fit_transform(X_train, y_train)\n",
        "\n",
        "# Dapatkan nama fitur yang terpilih\n",
        "selected_features_indices = selector.get_support(indices=True)\n",
        "selected_feature_names = X.columns[selected_features_indices]\n",
        "\n",
        "print(f\"\\nFitur yang terpilih menggunakan ANOVA F-test (k={k}):\")\n",
        "selected_feature_names"
      ],
      "metadata": {
        "colab": {
          "base_uri": "https://localhost:8080/"
        },
        "id": "Ap1AxZuQVW-7",
        "outputId": "2d6ec7ff-2bb0-41cb-bb2d-cb4ba9e155ae"
      },
      "execution_count": 25,
      "outputs": [
        {
          "output_type": "stream",
          "name": "stdout",
          "text": [
            "\n",
            "Fitur yang terpilih menggunakan ANOVA F-test (k=15):\n"
          ]
        },
        {
          "output_type": "stream",
          "name": "stderr",
          "text": [
            "/usr/local/lib/python3.11/dist-packages/sklearn/feature_selection/_univariate_selection.py:111: UserWarning: Features [30 32 55 56 57 58 59 60] are constant.\n",
            "  warnings.warn(\"Features %s are constant.\" % constant_features_idx, UserWarning)\n",
            "/usr/local/lib/python3.11/dist-packages/sklearn/feature_selection/_univariate_selection.py:112: RuntimeWarning: invalid value encountered in divide\n",
            "  f = msb / msw\n"
          ]
        },
        {
          "output_type": "execute_result",
          "data": {
            "text/plain": [
              "Index(['Bwd Packet Length Max', 'Bwd Packet Length Mean',\n",
              "       'Bwd Packet Length Std', 'Flow IAT Max', 'Fwd IAT Std', 'Fwd IAT Max',\n",
              "       'Max Packet Length', 'Packet Length Mean', 'Packet Length Std',\n",
              "       'Packet Length Variance', 'Average Packet Size', 'Avg Bwd Segment Size',\n",
              "       'Idle Mean', 'Idle Max', 'Idle Min'],\n",
              "      dtype='object')"
            ]
          },
          "metadata": {},
          "execution_count": 25
        }
      ]
    },
    {
      "cell_type": "code",
      "source": [
        "# Select feature untuk data testing juga\n",
        "X_test_selected = selector.transform(X_test)"
      ],
      "metadata": {
        "id": "5S3u7iMg_hz4"
      },
      "execution_count": 26,
      "outputs": []
    },
    {
      "cell_type": "markdown",
      "source": [
        "## Konstruksi Model Autoencoder (*Batal*)"
      ],
      "metadata": {
        "id": "9JC-Y5RFIzdF"
      }
    },
    {
      "cell_type": "code",
      "source": [
        "# # Membuat Autoencoder\n",
        "# input_dim = X_train.shape[1]\n",
        "# encoding_dim = 40  # Meningkatkan dimensi encoding karena data lebih kompleks. saran : 64\n",
        "\n",
        "# # Encoder\n",
        "# input_layer = layers.Input(shape=(input_dim,))\n",
        "\n",
        "# encoded = layers.Dense(256, activation='relu')(input_layer)\n",
        "# encoded = layers.BatchNormalization()(encoded)\n",
        "# encoded = layers.Dropout(0.2)(encoded)\n",
        "\n",
        "# encoded = layers.Dense(128, activation='relu')(encoded)\n",
        "# encoded = layers.BatchNormalization()(encoded)\n",
        "# encoded = layers.Dropout(0.2)(encoded)\n",
        "\n",
        "# encoded = layers.Dense(64, activation='relu')(encoded)\n",
        "# encoded = layers.BatchNormalization()(encoded)\n",
        "# encoded = layers.Dropout(0.2)(encoded)\n",
        "\n",
        "# # Bottleneck\n",
        "# encoded = layers.Dense(encoding_dim, activation='linear')(encoded)\n",
        "\n",
        "# # Decoder\n",
        "# decoded = layers.Dense(64, activation='leaky_relu')(encoded) # coba leaky_relu\n",
        "# decoded = layers.BatchNormalization()(decoded)\n",
        "# decoded = layers.Dropout(0.2)(decoded)\n",
        "\n",
        "# decoded = layers.Dense(128, activation='leaky_relu')(decoded)\n",
        "# decoded = layers.BatchNormalization()(decoded)\n",
        "# decoded = layers.Dropout(0.2)(decoded)\n",
        "\n",
        "# decoded = layers.Dense(256, activation='leaky_relu')(decoded)\n",
        "# decoded = layers.BatchNormalization()(decoded)\n",
        "# decoded = layers.Dropout(0.2)(decoded)\n",
        "\n",
        "# decoded = layers.Dense(input_dim, activation='linear')(decoded)\n",
        "\n",
        "# # Model Autoencoder\n",
        "# autoencoder = Model(input_layer, decoded)\n",
        "# encoder = Model(input_layer, encoded)\n",
        "\n",
        "# # Compile dengan learning rate yang sesuai\n",
        "# optimizer = tf.keras.optimizers.Adam(learning_rate=0.0001)\n",
        "# autoencoder.compile(optimizer=optimizer, loss='mse')"
      ],
      "metadata": {
        "trusted": true,
        "id": "L4_fw-SiIzdG"
      },
      "outputs": [],
      "execution_count": 27
    },
    {
      "cell_type": "code",
      "source": [
        "\n",
        "# # Training Autoencoder dengan early stopping\n",
        "# early_stopping = tf.keras.callbacks.EarlyStopping(\n",
        "#     monitor='val_loss',\n",
        "#     patience=5,\n",
        "#     restore_best_weights=True\n",
        "# )\n",
        "\n",
        "# print(\"\\nTraining Autoencoder...\")\n",
        "# # history_autoencoder = autoencoder.fit(X_train, X_train,\n",
        "# #                                     epochs=50,\n",
        "# #                                     batch_size=512,  # Meningkatkan batch size\n",
        "# #                                     shuffle=True,\n",
        "# #                                     validation_split=0.2,\n",
        "# #                                     callbacks=[early_stopping])\n",
        "# history_autoencoder = autoencoder.fit(X_train, X_train,\n",
        "#                                     epochs=200,\n",
        "#                                     batch_size=256,\n",
        "#                                     validation_data=(X_test, X_test))\n"
      ],
      "metadata": {
        "trusted": true,
        "id": "jj9OJJW0IzdG"
      },
      "outputs": [],
      "execution_count": 28
    },
    {
      "cell_type": "code",
      "source": [
        "# # Mendapatkan encoded features\n",
        "# X_train_encoded = encoder.predict(X_train)"
      ],
      "metadata": {
        "trusted": true,
        "id": "mR3ldNNnIzdG"
      },
      "outputs": [],
      "execution_count": 29
    },
    {
      "cell_type": "code",
      "source": [
        "# plt.plot(history_autoencoder.history['loss'], label='Training Loss')\n",
        "# plt.plot(history_autoencoder.history['val_loss'], label='Validation Loss')\n",
        "# plt.title('Autoencoder Training History')\n",
        "# plt.xlabel('Epoch')\n",
        "# plt.ylabel('Loss')\n",
        "# plt.legend()\n",
        "# plt.savefig(\"ae_plot_history\")"
      ],
      "metadata": {
        "trusted": true,
        "id": "KwqMf5PfIzdH"
      },
      "outputs": [],
      "execution_count": 30
    },
    {
      "cell_type": "code",
      "source": [
        "# from tensorflow.keras.utils import plot_model\n",
        "# plot_model(autoencoder, to_file='model.png')"
      ],
      "metadata": {
        "trusted": true,
        "id": "vl3Hoo6VIzdH"
      },
      "outputs": [],
      "execution_count": 31
    },
    {
      "cell_type": "code",
      "source": [
        "# autoencoder.summary()"
      ],
      "metadata": {
        "trusted": true,
        "id": "qwwwczs7IzdH"
      },
      "outputs": [],
      "execution_count": 32
    },
    {
      "cell_type": "markdown",
      "source": [
        "## Konstruksi Model LSTM"
      ],
      "metadata": {
        "id": "tb98GUScIzdH"
      }
    },
    {
      "cell_type": "code",
      "source": [
        "num_features = X_train_selected.shape[1]\n",
        "num_classes = len(le.classes_)"
      ],
      "metadata": {
        "id": "fYhN7RkHL2hJ"
      },
      "execution_count": 33,
      "outputs": []
    },
    {
      "cell_type": "code",
      "source": [
        "def create_sequences(data, targets, timesteps):\n",
        "    X, y = [], []\n",
        "    for i in range(len(data) - timesteps):\n",
        "        X.append(data[i:i+timesteps])  # Ambil blok sekuensial\n",
        "        y.append(targets[i+timesteps]) # Target berikutnya\n",
        "    return np.array(X), np.array(y)\n",
        "\n",
        "# Pilih jumlah timestep (contoh: 10 langkah waktu)\n",
        "timesteps = 10\n",
        "\n",
        "# Buat sequence untuk training dan testing\n",
        "X_train_seq, y_train_seq = create_sequences(X_train_selected, y_train, timesteps)\n",
        "X_test_seq, y_test_seq = create_sequences(X_test_selected, y_test, timesteps)"
      ],
      "metadata": {
        "id": "XiXRFuf5K6vB"
      },
      "execution_count": 34,
      "outputs": []
    },
    {
      "cell_type": "code",
      "source": [
        "print(\"Shape Training Data:\")\n",
        "print(\"X_train_seq:\", X_train_seq.shape)  # (samples, timesteps, 15)\n",
        "print(\"y_train_seq:\", y_train_seq.shape)  # (samples,)\n",
        "\n",
        "print(\"\\nShape Testing Data:\")\n",
        "print(\"X_test_seq:\", X_test_seq.shape)    # (samples, timesteps, 15)\n",
        "print(\"y_test_seq:\", y_test_seq.shape)    # (samples,)"
      ],
      "metadata": {
        "colab": {
          "base_uri": "https://localhost:8080/"
        },
        "id": "q5TPOQOuLJsJ",
        "outputId": "acc4d0bd-10f4-462b-fbf7-959ea797639e"
      },
      "execution_count": 35,
      "outputs": [
        {
          "output_type": "stream",
          "name": "stdout",
          "text": [
            "Shape Training Data:\n",
            "X_train_seq: (1554624, 10, 15)\n",
            "y_train_seq: (1554624,)\n",
            "\n",
            "Shape Testing Data:\n",
            "X_test_seq: (222080, 10, 15)\n",
            "y_test_seq: (222080,)\n"
          ]
        }
      ]
    },
    {
      "cell_type": "code",
      "source": [
        "# Membuat model LSTM untuk multi-kelas dengan data dari Autoencoder\n",
        "rnn_model = tf.keras.Sequential([\n",
        "    layers.Input(shape=(timesteps, num_features)),\n",
        "\n",
        "    layers.LSTM(256, return_sequences=True),\n",
        "    layers.BatchNormalization(),\n",
        "    layers.Dropout(0.3),\n",
        "\n",
        "    layers.LSTM(128),\n",
        "    layers.BatchNormalization(),\n",
        "    layers.Dropout(0.3),\n",
        "\n",
        "    layers.Dense(64, activation='relu'),\n",
        "    layers.Dense(1, activation='sigmoid')  # Output layer untuk multi-kelas, gunakan num_classes utk jumlah neuron\n",
        "]) # jika cuma 2 kelas (seperti deteksi anomali, cukup 1 neuron pada layer output)\n",
        "\n",
        "# Compile RNN\n",
        "optimizer = tf.keras.optimizers.Adam(learning_rate=0.0001)\n",
        "rnn_model.compile(optimizer=optimizer,\n",
        "                 loss='binary_crossentropy',\n",
        "                 metrics=['accuracy'])\n",
        "\n",
        "# Training RNN dengan early stopping\n",
        "early_stopping_rnn = tf.keras.callbacks.EarlyStopping(\n",
        "    monitor='val_accuracy',\n",
        "    patience=5,\n",
        "    restore_best_weights=True\n",
        ")\n",
        "\n",
        "print(\"\\nTraining RNN...\")\n",
        "# history_rnn = rnn_model.fit(X_train, y_train,\n",
        "#                            epochs=100,\n",
        "#                            batch_size=512,\n",
        "#                            validation_data=(X_test, y_test),\n",
        "#                            callbacks=[early_stopping_rnn])\n",
        "history_rnn = rnn_model.fit(X_train_seq, y_train_seq,\n",
        "                           epochs=100,\n",
        "                           batch_size=256,\n",
        "                           validation_data=(X_test_seq, y_test_seq)\n",
        "                           )\n"
      ],
      "metadata": {
        "trusted": true,
        "execution": {
          "iopub.status.busy": "2025-06-05T08:44:35.146128Z",
          "iopub.execute_input": "2025-06-05T08:44:35.146564Z",
          "iopub.status.idle": "2025-06-05T10:45:07.856767Z",
          "shell.execute_reply.started": "2025-06-05T08:44:35.146527Z",
          "shell.execute_reply": "2025-06-05T10:45:07.852644Z"
        },
        "id": "KLeFkMWlIzdI",
        "colab": {
          "base_uri": "https://localhost:8080/"
        },
        "outputId": "c9af1876-4dc3-4bd0-c997-8d74d5bcaedc"
      },
      "outputs": [
        {
          "output_type": "stream",
          "name": "stdout",
          "text": [
            "\n",
            "Training RNN...\n",
            "Epoch 1/100\n",
            "\u001b[1m6073/6073\u001b[0m \u001b[32m━━━━━━━━━━━━━━━━━━━━\u001b[0m\u001b[37m\u001b[0m \u001b[1m59s\u001b[0m 9ms/step - accuracy: 0.9659 - loss: 0.1303 - val_accuracy: 0.8304 - val_loss: 0.4401\n",
            "Epoch 2/100\n",
            "\u001b[1m6073/6073\u001b[0m \u001b[32m━━━━━━━━━━━━━━━━━━━━\u001b[0m\u001b[37m\u001b[0m \u001b[1m53s\u001b[0m 9ms/step - accuracy: 0.9704 - loss: 0.1117 - val_accuracy: 0.8412 - val_loss: 0.4518\n",
            "Epoch 3/100\n",
            "\u001b[1m6073/6073\u001b[0m \u001b[32m━━━━━━━━━━━━━━━━━━━━\u001b[0m\u001b[37m\u001b[0m \u001b[1m53s\u001b[0m 9ms/step - accuracy: 0.9710 - loss: 0.1083 - val_accuracy: 0.8369 - val_loss: 0.4630\n",
            "Epoch 4/100\n",
            "\u001b[1m6073/6073\u001b[0m \u001b[32m━━━━━━━━━━━━━━━━━━━━\u001b[0m\u001b[37m\u001b[0m \u001b[1m54s\u001b[0m 9ms/step - accuracy: 0.9712 - loss: 0.1071 - val_accuracy: 0.8612 - val_loss: 0.4501\n",
            "Epoch 5/100\n",
            "\u001b[1m6073/6073\u001b[0m \u001b[32m━━━━━━━━━━━━━━━━━━━━\u001b[0m\u001b[37m\u001b[0m \u001b[1m53s\u001b[0m 9ms/step - accuracy: 0.9716 - loss: 0.1052 - val_accuracy: 0.8448 - val_loss: 0.4568\n",
            "Epoch 6/100\n",
            "\u001b[1m6073/6073\u001b[0m \u001b[32m━━━━━━━━━━━━━━━━━━━━\u001b[0m\u001b[37m\u001b[0m \u001b[1m53s\u001b[0m 9ms/step - accuracy: 0.9718 - loss: 0.1037 - val_accuracy: 0.8532 - val_loss: 0.4984\n",
            "Epoch 7/100\n",
            "\u001b[1m6073/6073\u001b[0m \u001b[32m━━━━━━━━━━━━━━━━━━━━\u001b[0m\u001b[37m\u001b[0m \u001b[1m54s\u001b[0m 9ms/step - accuracy: 0.9721 - loss: 0.1027 - val_accuracy: 0.8469 - val_loss: 0.4891\n",
            "Epoch 8/100\n",
            "\u001b[1m6073/6073\u001b[0m \u001b[32m━━━━━━━━━━━━━━━━━━━━\u001b[0m\u001b[37m\u001b[0m \u001b[1m53s\u001b[0m 9ms/step - accuracy: 0.9721 - loss: 0.1023 - val_accuracy: 0.8334 - val_loss: 0.5118\n",
            "Epoch 9/100\n",
            "\u001b[1m6073/6073\u001b[0m \u001b[32m━━━━━━━━━━━━━━━━━━━━\u001b[0m\u001b[37m\u001b[0m \u001b[1m53s\u001b[0m 9ms/step - accuracy: 0.9720 - loss: 0.1021 - val_accuracy: 0.8447 - val_loss: 0.5263\n",
            "Epoch 10/100\n",
            "\u001b[1m6073/6073\u001b[0m \u001b[32m━━━━━━━━━━━━━━━━━━━━\u001b[0m\u001b[37m\u001b[0m \u001b[1m54s\u001b[0m 9ms/step - accuracy: 0.9723 - loss: 0.1004 - val_accuracy: 0.8585 - val_loss: 0.4362\n",
            "Epoch 11/100\n",
            "\u001b[1m6073/6073\u001b[0m \u001b[32m━━━━━━━━━━━━━━━━━━━━\u001b[0m\u001b[37m\u001b[0m \u001b[1m54s\u001b[0m 9ms/step - accuracy: 0.9724 - loss: 0.0995 - val_accuracy: 0.8491 - val_loss: 0.5230\n",
            "Epoch 12/100\n",
            "\u001b[1m6073/6073\u001b[0m \u001b[32m━━━━━━━━━━━━━━━━━━━━\u001b[0m\u001b[37m\u001b[0m \u001b[1m54s\u001b[0m 9ms/step - accuracy: 0.9724 - loss: 0.0993 - val_accuracy: 0.8216 - val_loss: 0.5394\n",
            "Epoch 13/100\n",
            "\u001b[1m6073/6073\u001b[0m \u001b[32m━━━━━━━━━━━━━━━━━━━━\u001b[0m\u001b[37m\u001b[0m \u001b[1m54s\u001b[0m 9ms/step - accuracy: 0.9727 - loss: 0.0982 - val_accuracy: 0.8150 - val_loss: 0.5454\n",
            "Epoch 14/100\n",
            "\u001b[1m6073/6073\u001b[0m \u001b[32m━━━━━━━━━━━━━━━━━━━━\u001b[0m\u001b[37m\u001b[0m \u001b[1m53s\u001b[0m 9ms/step - accuracy: 0.9730 - loss: 0.0971 - val_accuracy: 0.8444 - val_loss: 0.4833\n",
            "Epoch 15/100\n",
            "\u001b[1m6073/6073\u001b[0m \u001b[32m━━━━━━━━━━━━━━━━━━━━\u001b[0m\u001b[37m\u001b[0m \u001b[1m53s\u001b[0m 9ms/step - accuracy: 0.9732 - loss: 0.0968 - val_accuracy: 0.8543 - val_loss: 0.4737\n",
            "Epoch 16/100\n",
            "\u001b[1m6073/6073\u001b[0m \u001b[32m━━━━━━━━━━━━━━━━━━━━\u001b[0m\u001b[37m\u001b[0m \u001b[1m53s\u001b[0m 9ms/step - accuracy: 0.9732 - loss: 0.0961 - val_accuracy: 0.8385 - val_loss: 0.5208\n",
            "Epoch 17/100\n",
            "\u001b[1m6073/6073\u001b[0m \u001b[32m━━━━━━━━━━━━━━━━━━━━\u001b[0m\u001b[37m\u001b[0m \u001b[1m53s\u001b[0m 9ms/step - accuracy: 0.9732 - loss: 0.0959 - val_accuracy: 0.8562 - val_loss: 0.4572\n",
            "Epoch 18/100\n",
            "\u001b[1m6073/6073\u001b[0m \u001b[32m━━━━━━━━━━━━━━━━━━━━\u001b[0m\u001b[37m\u001b[0m \u001b[1m52s\u001b[0m 8ms/step - accuracy: 0.9734 - loss: 0.0957 - val_accuracy: 0.8608 - val_loss: 0.4845\n",
            "Epoch 19/100\n",
            "\u001b[1m6073/6073\u001b[0m \u001b[32m━━━━━━━━━━━━━━━━━━━━\u001b[0m\u001b[37m\u001b[0m \u001b[1m52s\u001b[0m 9ms/step - accuracy: 0.9734 - loss: 0.0951 - val_accuracy: 0.8267 - val_loss: 0.5186\n",
            "Epoch 20/100\n",
            "\u001b[1m6073/6073\u001b[0m \u001b[32m━━━━━━━━━━━━━━━━━━━━\u001b[0m\u001b[37m\u001b[0m \u001b[1m54s\u001b[0m 9ms/step - accuracy: 0.9737 - loss: 0.0945 - val_accuracy: 0.8343 - val_loss: 0.5199\n",
            "Epoch 21/100\n",
            "\u001b[1m6073/6073\u001b[0m \u001b[32m━━━━━━━━━━━━━━━━━━━━\u001b[0m\u001b[37m\u001b[0m \u001b[1m54s\u001b[0m 9ms/step - accuracy: 0.9738 - loss: 0.0941 - val_accuracy: 0.8490 - val_loss: 0.4668\n",
            "Epoch 22/100\n",
            "\u001b[1m6073/6073\u001b[0m \u001b[32m━━━━━━━━━━━━━━━━━━━━\u001b[0m\u001b[37m\u001b[0m \u001b[1m52s\u001b[0m 8ms/step - accuracy: 0.9741 - loss: 0.0933 - val_accuracy: 0.8084 - val_loss: 0.5853\n",
            "Epoch 23/100\n",
            "\u001b[1m6073/6073\u001b[0m \u001b[32m━━━━━━━━━━━━━━━━━━━━\u001b[0m\u001b[37m\u001b[0m \u001b[1m53s\u001b[0m 9ms/step - accuracy: 0.9743 - loss: 0.0932 - val_accuracy: 0.8492 - val_loss: 0.5555\n",
            "Epoch 24/100\n",
            "\u001b[1m6073/6073\u001b[0m \u001b[32m━━━━━━━━━━━━━━━━━━━━\u001b[0m\u001b[37m\u001b[0m \u001b[1m53s\u001b[0m 9ms/step - accuracy: 0.9742 - loss: 0.0932 - val_accuracy: 0.8479 - val_loss: 0.5239\n",
            "Epoch 25/100\n",
            "\u001b[1m6073/6073\u001b[0m \u001b[32m━━━━━━━━━━━━━━━━━━━━\u001b[0m\u001b[37m\u001b[0m \u001b[1m54s\u001b[0m 9ms/step - accuracy: 0.9745 - loss: 0.0922 - val_accuracy: 0.8457 - val_loss: 0.6476\n",
            "Epoch 26/100\n",
            "\u001b[1m6073/6073\u001b[0m \u001b[32m━━━━━━━━━━━━━━━━━━━━\u001b[0m\u001b[37m\u001b[0m \u001b[1m53s\u001b[0m 9ms/step - accuracy: 0.9744 - loss: 0.0927 - val_accuracy: 0.8336 - val_loss: 0.6075\n",
            "Epoch 27/100\n",
            "\u001b[1m6073/6073\u001b[0m \u001b[32m━━━━━━━━━━━━━━━━━━━━\u001b[0m\u001b[37m\u001b[0m \u001b[1m54s\u001b[0m 9ms/step - accuracy: 0.9749 - loss: 0.0914 - val_accuracy: 0.8514 - val_loss: 0.5729\n",
            "Epoch 28/100\n",
            "\u001b[1m6073/6073\u001b[0m \u001b[32m━━━━━━━━━━━━━━━━━━━━\u001b[0m\u001b[37m\u001b[0m \u001b[1m53s\u001b[0m 9ms/step - accuracy: 0.9751 - loss: 0.0906 - val_accuracy: 0.8393 - val_loss: 0.5568\n",
            "Epoch 29/100\n",
            "\u001b[1m6073/6073\u001b[0m \u001b[32m━━━━━━━━━━━━━━━━━━━━\u001b[0m\u001b[37m\u001b[0m \u001b[1m53s\u001b[0m 9ms/step - accuracy: 0.9748 - loss: 0.0911 - val_accuracy: 0.8329 - val_loss: 0.5814\n",
            "Epoch 30/100\n",
            "\u001b[1m6073/6073\u001b[0m \u001b[32m━━━━━━━━━━━━━━━━━━━━\u001b[0m\u001b[37m\u001b[0m \u001b[1m53s\u001b[0m 9ms/step - accuracy: 0.9753 - loss: 0.0906 - val_accuracy: 0.8316 - val_loss: 0.6389\n",
            "Epoch 31/100\n",
            "\u001b[1m6073/6073\u001b[0m \u001b[32m━━━━━━━━━━━━━━━━━━━━\u001b[0m\u001b[37m\u001b[0m \u001b[1m52s\u001b[0m 9ms/step - accuracy: 0.9757 - loss: 0.0892 - val_accuracy: 0.8611 - val_loss: 0.5700\n",
            "Epoch 32/100\n",
            "\u001b[1m6073/6073\u001b[0m \u001b[32m━━━━━━━━━━━━━━━━━━━━\u001b[0m\u001b[37m\u001b[0m \u001b[1m53s\u001b[0m 9ms/step - accuracy: 0.9755 - loss: 0.0895 - val_accuracy: 0.8517 - val_loss: 0.5398\n",
            "Epoch 33/100\n",
            "\u001b[1m6073/6073\u001b[0m \u001b[32m━━━━━━━━━━━━━━━━━━━━\u001b[0m\u001b[37m\u001b[0m \u001b[1m52s\u001b[0m 9ms/step - accuracy: 0.9759 - loss: 0.0886 - val_accuracy: 0.8531 - val_loss: 0.6403\n",
            "Epoch 34/100\n",
            "\u001b[1m6073/6073\u001b[0m \u001b[32m━━━━━━━━━━━━━━━━━━━━\u001b[0m\u001b[37m\u001b[0m \u001b[1m52s\u001b[0m 9ms/step - accuracy: 0.9759 - loss: 0.0883 - val_accuracy: 0.8489 - val_loss: 0.5985\n",
            "Epoch 35/100\n",
            "\u001b[1m6073/6073\u001b[0m \u001b[32m━━━━━━━━━━━━━━━━━━━━\u001b[0m\u001b[37m\u001b[0m \u001b[1m54s\u001b[0m 9ms/step - accuracy: 0.9760 - loss: 0.0877 - val_accuracy: 0.8619 - val_loss: 0.6822\n",
            "Epoch 36/100\n",
            "\u001b[1m6073/6073\u001b[0m \u001b[32m━━━━━━━━━━━━━━━━━━━━\u001b[0m\u001b[37m\u001b[0m \u001b[1m53s\u001b[0m 9ms/step - accuracy: 0.9759 - loss: 0.0883 - val_accuracy: 0.8657 - val_loss: 0.6172\n",
            "Epoch 37/100\n",
            "\u001b[1m6073/6073\u001b[0m \u001b[32m━━━━━━━━━━━━━━━━━━━━\u001b[0m\u001b[37m\u001b[0m \u001b[1m54s\u001b[0m 9ms/step - accuracy: 0.9762 - loss: 0.0877 - val_accuracy: 0.8523 - val_loss: 0.6174\n",
            "Epoch 38/100\n",
            "\u001b[1m6073/6073\u001b[0m \u001b[32m━━━━━━━━━━━━━━━━━━━━\u001b[0m\u001b[37m\u001b[0m \u001b[1m54s\u001b[0m 9ms/step - accuracy: 0.9761 - loss: 0.0875 - val_accuracy: 0.8472 - val_loss: 0.5835\n",
            "Epoch 39/100\n",
            "\u001b[1m6073/6073\u001b[0m \u001b[32m━━━━━━━━━━━━━━━━━━━━\u001b[0m\u001b[37m\u001b[0m \u001b[1m53s\u001b[0m 9ms/step - accuracy: 0.9765 - loss: 0.0868 - val_accuracy: 0.8541 - val_loss: 0.5901\n",
            "Epoch 40/100\n",
            "\u001b[1m6073/6073\u001b[0m \u001b[32m━━━━━━━━━━━━━━━━━━━━\u001b[0m\u001b[37m\u001b[0m \u001b[1m54s\u001b[0m 9ms/step - accuracy: 0.9762 - loss: 0.0868 - val_accuracy: 0.8600 - val_loss: 0.5897\n",
            "Epoch 41/100\n",
            "\u001b[1m6073/6073\u001b[0m \u001b[32m━━━━━━━━━━━━━━━━━━━━\u001b[0m\u001b[37m\u001b[0m \u001b[1m54s\u001b[0m 9ms/step - accuracy: 0.9764 - loss: 0.0865 - val_accuracy: 0.8572 - val_loss: 0.5676\n",
            "Epoch 42/100\n",
            "\u001b[1m6073/6073\u001b[0m \u001b[32m━━━━━━━━━━━━━━━━━━━━\u001b[0m\u001b[37m\u001b[0m \u001b[1m53s\u001b[0m 9ms/step - accuracy: 0.9766 - loss: 0.0858 - val_accuracy: 0.8517 - val_loss: 0.5960\n",
            "Epoch 43/100\n",
            "\u001b[1m6073/6073\u001b[0m \u001b[32m━━━━━━━━━━━━━━━━━━━━\u001b[0m\u001b[37m\u001b[0m \u001b[1m54s\u001b[0m 9ms/step - accuracy: 0.9766 - loss: 0.0858 - val_accuracy: 0.8524 - val_loss: 0.6496\n",
            "Epoch 44/100\n",
            "\u001b[1m6073/6073\u001b[0m \u001b[32m━━━━━━━━━━━━━━━━━━━━\u001b[0m\u001b[37m\u001b[0m \u001b[1m53s\u001b[0m 9ms/step - accuracy: 0.9769 - loss: 0.0851 - val_accuracy: 0.8417 - val_loss: 0.6221\n",
            "Epoch 45/100\n",
            "\u001b[1m6073/6073\u001b[0m \u001b[32m━━━━━━━━━━━━━━━━━━━━\u001b[0m\u001b[37m\u001b[0m \u001b[1m54s\u001b[0m 9ms/step - accuracy: 0.9768 - loss: 0.0852 - val_accuracy: 0.8438 - val_loss: 0.6148\n",
            "Epoch 46/100\n",
            "\u001b[1m6073/6073\u001b[0m \u001b[32m━━━━━━━━━━━━━━━━━━━━\u001b[0m\u001b[37m\u001b[0m \u001b[1m54s\u001b[0m 9ms/step - accuracy: 0.9766 - loss: 0.0856 - val_accuracy: 0.8477 - val_loss: 0.6083\n",
            "Epoch 47/100\n",
            "\u001b[1m6073/6073\u001b[0m \u001b[32m━━━━━━━━━━━━━━━━━━━━\u001b[0m\u001b[37m\u001b[0m \u001b[1m53s\u001b[0m 9ms/step - accuracy: 0.9768 - loss: 0.0847 - val_accuracy: 0.8489 - val_loss: 0.6574\n",
            "Epoch 48/100\n",
            "\u001b[1m6073/6073\u001b[0m \u001b[32m━━━━━━━━━━━━━━━━━━━━\u001b[0m\u001b[37m\u001b[0m \u001b[1m53s\u001b[0m 9ms/step - accuracy: 0.9769 - loss: 0.0845 - val_accuracy: 0.8479 - val_loss: 0.5843\n",
            "Epoch 49/100\n",
            "\u001b[1m6073/6073\u001b[0m \u001b[32m━━━━━━━━━━━━━━━━━━━━\u001b[0m\u001b[37m\u001b[0m \u001b[1m54s\u001b[0m 9ms/step - accuracy: 0.9772 - loss: 0.0838 - val_accuracy: 0.8485 - val_loss: 0.5801\n",
            "Epoch 50/100\n",
            "\u001b[1m6073/6073\u001b[0m \u001b[32m━━━━━━━━━━━━━━━━━━━━\u001b[0m\u001b[37m\u001b[0m \u001b[1m54s\u001b[0m 9ms/step - accuracy: 0.9771 - loss: 0.0842 - val_accuracy: 0.8440 - val_loss: 0.5929\n",
            "Epoch 51/100\n",
            "\u001b[1m6073/6073\u001b[0m \u001b[32m━━━━━━━━━━━━━━━━━━━━\u001b[0m\u001b[37m\u001b[0m \u001b[1m52s\u001b[0m 9ms/step - accuracy: 0.9772 - loss: 0.0837 - val_accuracy: 0.8474 - val_loss: 0.5253\n",
            "Epoch 52/100\n",
            "\u001b[1m6073/6073\u001b[0m \u001b[32m━━━━━━━━━━━━━━━━━━━━\u001b[0m\u001b[37m\u001b[0m \u001b[1m53s\u001b[0m 9ms/step - accuracy: 0.9771 - loss: 0.0839 - val_accuracy: 0.8444 - val_loss: 0.6135\n",
            "Epoch 53/100\n",
            "\u001b[1m6073/6073\u001b[0m \u001b[32m━━━━━━━━━━━━━━━━━━━━\u001b[0m\u001b[37m\u001b[0m \u001b[1m55s\u001b[0m 9ms/step - accuracy: 0.9773 - loss: 0.0830 - val_accuracy: 0.8385 - val_loss: 0.5890\n",
            "Epoch 54/100\n",
            "\u001b[1m6073/6073\u001b[0m \u001b[32m━━━━━━━━━━━━━━━━━━━━\u001b[0m\u001b[37m\u001b[0m \u001b[1m55s\u001b[0m 9ms/step - accuracy: 0.9772 - loss: 0.0834 - val_accuracy: 0.8479 - val_loss: 0.6450\n",
            "Epoch 55/100\n",
            "\u001b[1m6073/6073\u001b[0m \u001b[32m━━━━━━━━━━━━━━━━━━━━\u001b[0m\u001b[37m\u001b[0m \u001b[1m55s\u001b[0m 9ms/step - accuracy: 0.9775 - loss: 0.0823 - val_accuracy: 0.8447 - val_loss: 0.6016\n",
            "Epoch 56/100\n",
            "\u001b[1m6073/6073\u001b[0m \u001b[32m━━━━━━━━━━━━━━━━━━━━\u001b[0m\u001b[37m\u001b[0m \u001b[1m56s\u001b[0m 9ms/step - accuracy: 0.9775 - loss: 0.0823 - val_accuracy: 0.8358 - val_loss: 0.6207\n",
            "Epoch 57/100\n",
            "\u001b[1m6073/6073\u001b[0m \u001b[32m━━━━━━━━━━━━━━━━━━━━\u001b[0m\u001b[37m\u001b[0m \u001b[1m54s\u001b[0m 9ms/step - accuracy: 0.9777 - loss: 0.0820 - val_accuracy: 0.8502 - val_loss: 0.5734\n",
            "Epoch 58/100\n",
            "\u001b[1m6073/6073\u001b[0m \u001b[32m━━━━━━━━━━━━━━━━━━━━\u001b[0m\u001b[37m\u001b[0m \u001b[1m53s\u001b[0m 9ms/step - accuracy: 0.9775 - loss: 0.0819 - val_accuracy: 0.8403 - val_loss: 0.6139\n",
            "Epoch 59/100\n",
            "\u001b[1m6073/6073\u001b[0m \u001b[32m━━━━━━━━━━━━━━━━━━━━\u001b[0m\u001b[37m\u001b[0m \u001b[1m54s\u001b[0m 9ms/step - accuracy: 0.9776 - loss: 0.0820 - val_accuracy: 0.8413 - val_loss: 0.5765\n",
            "Epoch 60/100\n",
            "\u001b[1m6073/6073\u001b[0m \u001b[32m━━━━━━━━━━━━━━━━━━━━\u001b[0m\u001b[37m\u001b[0m \u001b[1m53s\u001b[0m 9ms/step - accuracy: 0.9777 - loss: 0.0814 - val_accuracy: 0.8318 - val_loss: 0.6643\n",
            "Epoch 61/100\n",
            "\u001b[1m6073/6073\u001b[0m \u001b[32m━━━━━━━━━━━━━━━━━━━━\u001b[0m\u001b[37m\u001b[0m \u001b[1m53s\u001b[0m 9ms/step - accuracy: 0.9780 - loss: 0.0807 - val_accuracy: 0.8365 - val_loss: 0.6430\n",
            "Epoch 62/100\n",
            "\u001b[1m6073/6073\u001b[0m \u001b[32m━━━━━━━━━━━━━━━━━━━━\u001b[0m\u001b[37m\u001b[0m \u001b[1m53s\u001b[0m 9ms/step - accuracy: 0.9779 - loss: 0.0809 - val_accuracy: 0.8521 - val_loss: 0.6104\n",
            "Epoch 63/100\n",
            "\u001b[1m6073/6073\u001b[0m \u001b[32m━━━━━━━━━━━━━━━━━━━━\u001b[0m\u001b[37m\u001b[0m \u001b[1m53s\u001b[0m 9ms/step - accuracy: 0.9778 - loss: 0.0811 - val_accuracy: 0.8526 - val_loss: 0.6049\n",
            "Epoch 64/100\n",
            "\u001b[1m6073/6073\u001b[0m \u001b[32m━━━━━━━━━━━━━━━━━━━━\u001b[0m\u001b[37m\u001b[0m \u001b[1m53s\u001b[0m 9ms/step - accuracy: 0.9779 - loss: 0.0805 - val_accuracy: 0.8497 - val_loss: 0.7558\n",
            "Epoch 65/100\n",
            "\u001b[1m6073/6073\u001b[0m \u001b[32m━━━━━━━━━━━━━━━━━━━━\u001b[0m\u001b[37m\u001b[0m \u001b[1m54s\u001b[0m 9ms/step - accuracy: 0.9781 - loss: 0.0802 - val_accuracy: 0.8443 - val_loss: 0.7156\n",
            "Epoch 66/100\n",
            "\u001b[1m6073/6073\u001b[0m \u001b[32m━━━━━━━━━━━━━━━━━━━━\u001b[0m\u001b[37m\u001b[0m \u001b[1m53s\u001b[0m 9ms/step - accuracy: 0.9780 - loss: 0.0800 - val_accuracy: 0.8408 - val_loss: 0.6289\n",
            "Epoch 67/100\n",
            "\u001b[1m6073/6073\u001b[0m \u001b[32m━━━━━━━━━━━━━━━━━━━━\u001b[0m\u001b[37m\u001b[0m \u001b[1m53s\u001b[0m 9ms/step - accuracy: 0.9783 - loss: 0.0792 - val_accuracy: 0.8415 - val_loss: 0.6967\n",
            "Epoch 68/100\n",
            "\u001b[1m6073/6073\u001b[0m \u001b[32m━━━━━━━━━━━━━━━━━━━━\u001b[0m\u001b[37m\u001b[0m \u001b[1m53s\u001b[0m 9ms/step - accuracy: 0.9782 - loss: 0.0794 - val_accuracy: 0.8453 - val_loss: 0.6066\n",
            "Epoch 69/100\n",
            "\u001b[1m6073/6073\u001b[0m \u001b[32m━━━━━━━━━━━━━━━━━━━━\u001b[0m\u001b[37m\u001b[0m \u001b[1m52s\u001b[0m 9ms/step - accuracy: 0.9782 - loss: 0.0799 - val_accuracy: 0.8466 - val_loss: 0.6794\n",
            "Epoch 70/100\n",
            "\u001b[1m6073/6073\u001b[0m \u001b[32m━━━━━━━━━━━━━━━━━━━━\u001b[0m\u001b[37m\u001b[0m \u001b[1m53s\u001b[0m 9ms/step - accuracy: 0.9783 - loss: 0.0791 - val_accuracy: 0.8390 - val_loss: 0.6385\n",
            "Epoch 71/100\n",
            "\u001b[1m6073/6073\u001b[0m \u001b[32m━━━━━━━━━━━━━━━━━━━━\u001b[0m\u001b[37m\u001b[0m \u001b[1m53s\u001b[0m 9ms/step - accuracy: 0.9784 - loss: 0.0786 - val_accuracy: 0.8310 - val_loss: 0.6572\n",
            "Epoch 72/100\n",
            "\u001b[1m6073/6073\u001b[0m \u001b[32m━━━━━━━━━━━━━━━━━━━━\u001b[0m\u001b[37m\u001b[0m \u001b[1m53s\u001b[0m 9ms/step - accuracy: 0.9781 - loss: 0.0794 - val_accuracy: 0.8377 - val_loss: 0.6976\n",
            "Epoch 73/100\n",
            "\u001b[1m6073/6073\u001b[0m \u001b[32m━━━━━━━━━━━━━━━━━━━━\u001b[0m\u001b[37m\u001b[0m \u001b[1m52s\u001b[0m 9ms/step - accuracy: 0.9783 - loss: 0.0791 - val_accuracy: 0.8379 - val_loss: 0.6486\n",
            "Epoch 74/100\n",
            "\u001b[1m6073/6073\u001b[0m \u001b[32m━━━━━━━━━━━━━━━━━━━━\u001b[0m\u001b[37m\u001b[0m \u001b[1m53s\u001b[0m 9ms/step - accuracy: 0.9782 - loss: 0.0789 - val_accuracy: 0.8389 - val_loss: 0.6925\n",
            "Epoch 75/100\n",
            "\u001b[1m6073/6073\u001b[0m \u001b[32m━━━━━━━━━━━━━━━━━━━━\u001b[0m\u001b[37m\u001b[0m \u001b[1m52s\u001b[0m 9ms/step - accuracy: 0.9784 - loss: 0.0783 - val_accuracy: 0.8423 - val_loss: 0.6516\n",
            "Epoch 76/100\n",
            "\u001b[1m6073/6073\u001b[0m \u001b[32m━━━━━━━━━━━━━━━━━━━━\u001b[0m\u001b[37m\u001b[0m \u001b[1m54s\u001b[0m 9ms/step - accuracy: 0.9784 - loss: 0.0784 - val_accuracy: 0.8281 - val_loss: 0.7649\n",
            "Epoch 77/100\n",
            "\u001b[1m6073/6073\u001b[0m \u001b[32m━━━━━━━━━━━━━━━━━━━━\u001b[0m\u001b[37m\u001b[0m \u001b[1m53s\u001b[0m 9ms/step - accuracy: 0.9784 - loss: 0.0782 - val_accuracy: 0.8359 - val_loss: 0.6781\n",
            "Epoch 78/100\n",
            "\u001b[1m6073/6073\u001b[0m \u001b[32m━━━━━━━━━━━━━━━━━━━━\u001b[0m\u001b[37m\u001b[0m \u001b[1m52s\u001b[0m 9ms/step - accuracy: 0.9786 - loss: 0.0777 - val_accuracy: 0.8411 - val_loss: 0.6463\n",
            "Epoch 79/100\n",
            "\u001b[1m6073/6073\u001b[0m \u001b[32m━━━━━━━━━━━━━━━━━━━━\u001b[0m\u001b[37m\u001b[0m \u001b[1m52s\u001b[0m 9ms/step - accuracy: 0.9785 - loss: 0.0778 - val_accuracy: 0.8441 - val_loss: 0.6895\n",
            "Epoch 80/100\n",
            "\u001b[1m6073/6073\u001b[0m \u001b[32m━━━━━━━━━━━━━━━━━━━━\u001b[0m\u001b[37m\u001b[0m \u001b[1m53s\u001b[0m 9ms/step - accuracy: 0.9786 - loss: 0.0777 - val_accuracy: 0.8367 - val_loss: 0.6513\n",
            "Epoch 81/100\n",
            "\u001b[1m6073/6073\u001b[0m \u001b[32m━━━━━━━━━━━━━━━━━━━━\u001b[0m\u001b[37m\u001b[0m \u001b[1m53s\u001b[0m 9ms/step - accuracy: 0.9788 - loss: 0.0770 - val_accuracy: 0.8426 - val_loss: 0.6562\n",
            "Epoch 82/100\n",
            "\u001b[1m6073/6073\u001b[0m \u001b[32m━━━━━━━━━━━━━━━━━━━━\u001b[0m\u001b[37m\u001b[0m \u001b[1m53s\u001b[0m 9ms/step - accuracy: 0.9786 - loss: 0.0773 - val_accuracy: 0.8399 - val_loss: 0.6232\n",
            "Epoch 83/100\n",
            "\u001b[1m6073/6073\u001b[0m \u001b[32m━━━━━━━━━━━━━━━━━━━━\u001b[0m\u001b[37m\u001b[0m \u001b[1m53s\u001b[0m 9ms/step - accuracy: 0.9789 - loss: 0.0761 - val_accuracy: 0.8256 - val_loss: 0.6850\n",
            "Epoch 84/100\n",
            "\u001b[1m6073/6073\u001b[0m \u001b[32m━━━━━━━━━━━━━━━━━━━━\u001b[0m\u001b[37m\u001b[0m \u001b[1m53s\u001b[0m 9ms/step - accuracy: 0.9789 - loss: 0.0766 - val_accuracy: 0.8320 - val_loss: 0.7361\n",
            "Epoch 85/100\n",
            "\u001b[1m6073/6073\u001b[0m \u001b[32m━━━━━━━━━━━━━━━━━━━━\u001b[0m\u001b[37m\u001b[0m \u001b[1m53s\u001b[0m 9ms/step - accuracy: 0.9788 - loss: 0.0768 - val_accuracy: 0.8257 - val_loss: 0.6474\n",
            "Epoch 86/100\n",
            "\u001b[1m6073/6073\u001b[0m \u001b[32m━━━━━━━━━━━━━━━━━━━━\u001b[0m\u001b[37m\u001b[0m \u001b[1m53s\u001b[0m 9ms/step - accuracy: 0.9787 - loss: 0.0773 - val_accuracy: 0.8304 - val_loss: 0.7785\n",
            "Epoch 87/100\n",
            "\u001b[1m6073/6073\u001b[0m \u001b[32m━━━━━━━━━━━━━━━━━━━━\u001b[0m\u001b[37m\u001b[0m \u001b[1m52s\u001b[0m 9ms/step - accuracy: 0.9791 - loss: 0.0760 - val_accuracy: 0.8328 - val_loss: 0.6688\n",
            "Epoch 88/100\n",
            "\u001b[1m6073/6073\u001b[0m \u001b[32m━━━━━━━━━━━━━━━━━━━━\u001b[0m\u001b[37m\u001b[0m \u001b[1m53s\u001b[0m 9ms/step - accuracy: 0.9789 - loss: 0.0763 - val_accuracy: 0.8208 - val_loss: 0.7389\n",
            "Epoch 89/100\n",
            "\u001b[1m6073/6073\u001b[0m \u001b[32m━━━━━━━━━━━━━━━━━━━━\u001b[0m\u001b[37m\u001b[0m \u001b[1m52s\u001b[0m 9ms/step - accuracy: 0.9787 - loss: 0.0766 - val_accuracy: 0.8032 - val_loss: 0.7258\n",
            "Epoch 90/100\n",
            "\u001b[1m6073/6073\u001b[0m \u001b[32m━━━━━━━━━━━━━━━━━━━━\u001b[0m\u001b[37m\u001b[0m \u001b[1m52s\u001b[0m 9ms/step - accuracy: 0.9789 - loss: 0.0762 - val_accuracy: 0.8313 - val_loss: 0.7462\n",
            "Epoch 91/100\n",
            "\u001b[1m6073/6073\u001b[0m \u001b[32m━━━━━━━━━━━━━━━━━━━━\u001b[0m\u001b[37m\u001b[0m \u001b[1m52s\u001b[0m 9ms/step - accuracy: 0.9790 - loss: 0.0754 - val_accuracy: 0.8127 - val_loss: 0.7690\n",
            "Epoch 92/100\n",
            "\u001b[1m6073/6073\u001b[0m \u001b[32m━━━━━━━━━━━━━━━━━━━━\u001b[0m\u001b[37m\u001b[0m \u001b[1m54s\u001b[0m 9ms/step - accuracy: 0.9790 - loss: 0.0760 - val_accuracy: 0.8169 - val_loss: 0.6579\n",
            "Epoch 93/100\n",
            "\u001b[1m6073/6073\u001b[0m \u001b[32m━━━━━━━━━━━━━━━━━━━━\u001b[0m\u001b[37m\u001b[0m \u001b[1m53s\u001b[0m 9ms/step - accuracy: 0.9792 - loss: 0.0747 - val_accuracy: 0.8323 - val_loss: 0.6992\n",
            "Epoch 94/100\n",
            "\u001b[1m6073/6073\u001b[0m \u001b[32m━━━━━━━━━━━━━━━━━━━━\u001b[0m\u001b[37m\u001b[0m \u001b[1m54s\u001b[0m 9ms/step - accuracy: 0.9790 - loss: 0.0753 - val_accuracy: 0.8242 - val_loss: 0.7816\n",
            "Epoch 95/100\n",
            "\u001b[1m6073/6073\u001b[0m \u001b[32m━━━━━━━━━━━━━━━━━━━━\u001b[0m\u001b[37m\u001b[0m \u001b[1m53s\u001b[0m 9ms/step - accuracy: 0.9791 - loss: 0.0752 - val_accuracy: 0.8296 - val_loss: 0.7502\n",
            "Epoch 96/100\n",
            "\u001b[1m6073/6073\u001b[0m \u001b[32m━━━━━━━━━━━━━━━━━━━━\u001b[0m\u001b[37m\u001b[0m \u001b[1m53s\u001b[0m 9ms/step - accuracy: 0.9792 - loss: 0.0748 - val_accuracy: 0.8350 - val_loss: 0.8177\n",
            "Epoch 97/100\n",
            "\u001b[1m6073/6073\u001b[0m \u001b[32m━━━━━━━━━━━━━━━━━━━━\u001b[0m\u001b[37m\u001b[0m \u001b[1m54s\u001b[0m 9ms/step - accuracy: 0.9791 - loss: 0.0748 - val_accuracy: 0.8331 - val_loss: 0.7264\n",
            "Epoch 98/100\n",
            "\u001b[1m6073/6073\u001b[0m \u001b[32m━━━━━━━━━━━━━━━━━━━━\u001b[0m\u001b[37m\u001b[0m \u001b[1m53s\u001b[0m 9ms/step - accuracy: 0.9793 - loss: 0.0743 - val_accuracy: 0.8287 - val_loss: 0.6725\n",
            "Epoch 99/100\n",
            "\u001b[1m6073/6073\u001b[0m \u001b[32m━━━━━━━━━━━━━━━━━━━━\u001b[0m\u001b[37m\u001b[0m \u001b[1m54s\u001b[0m 9ms/step - accuracy: 0.9793 - loss: 0.0745 - val_accuracy: 0.8268 - val_loss: 0.7880\n",
            "Epoch 100/100\n",
            "\u001b[1m6073/6073\u001b[0m \u001b[32m━━━━━━━━━━━━━━━━━━━━\u001b[0m\u001b[37m\u001b[0m \u001b[1m52s\u001b[0m 9ms/step - accuracy: 0.9792 - loss: 0.0743 - val_accuracy: 0.8237 - val_loss: 0.7051\n"
          ]
        }
      ],
      "execution_count": 37
    },
    {
      "cell_type": "code",
      "source": [
        "plt.plot(history_rnn.history['accuracy'], label='Training Accuracy')\n",
        "plt.plot(history_rnn.history['val_accuracy'], label='Validation Accuracy')\n",
        "plt.title('LSTM Training History')\n",
        "plt.xlabel('Epoch')\n",
        "plt.ylabel('Accuracy')\n",
        "plt.legend()\n",
        "plt.savefig(\"lstm_training_history\")"
      ],
      "metadata": {
        "trusted": true,
        "execution": {
          "iopub.status.busy": "2025-06-05T10:57:59.170654Z",
          "iopub.execute_input": "2025-06-05T10:57:59.170947Z",
          "iopub.status.idle": "2025-06-05T10:57:59.555481Z",
          "shell.execute_reply.started": "2025-06-05T10:57:59.170915Z",
          "shell.execute_reply": "2025-06-05T10:57:59.554555Z"
        },
        "id": "jyY2a5rVIzdI",
        "colab": {
          "base_uri": "https://localhost:8080/",
          "height": 472
        },
        "outputId": "23714fbd-cf5e-42eb-d3c7-c9d01deef976"
      },
      "outputs": [
        {
          "output_type": "display_data",
          "data": {
            "text/plain": [
              "<Figure size 640x480 with 1 Axes>"
            ],
            "image/png": "[encoded data removed]"
          },
          "metadata": {}
        }
      ],
      "execution_count": 38
    },
    {
      "cell_type": "code",
      "source": [
        "# Membuat model RNN untuk multi-kelas tanpa data dari Autoencoder\n",
        "# encoding_dim = 78\n",
        "# rnn_model = tf.keras.Sequential([\n",
        "#     layers.Input(shape=(encoding_dim,)),\n",
        "#     layers.Reshape((encoding_dim, 1)),\n",
        "#     layers.LSTM(256, return_sequences=True),\n",
        "#     layers.Dropout(0.4),\n",
        "#     layers.LSTM(128),\n",
        "#     layers.Dropout(0.4),\n",
        "#     layers.Dense(64, activation='relu'),\n",
        "#     layers.Dense(num_classes, activation='softmax')  # Output layer untuk multi-kelas\n",
        "# ])\n",
        "\n",
        "# # Compile RNN\n",
        "# rnn_model.compile(optimizer='adam',\n",
        "#                  loss='categorical_crossentropy',\n",
        "#                  metrics=['accuracy'])\n",
        "\n",
        "# # Training RNN dengan early stopping\n",
        "# early_stopping_rnn = tf.keras.callbacks.EarlyStopping(\n",
        "#     monitor='val_accuracy',\n",
        "#     patience=5,\n",
        "#     restore_best_weights=True\n",
        "# )\n",
        "\n",
        "# print(\"\\nTraining RNN...\")\n",
        "# history_rnn = rnn_model.fit(X_train, y_train,\n",
        "#                            epochs=50,\n",
        "#                            batch_size=512,\n",
        "#                            validation_split=0.2,\n",
        "#                            callbacks=[early_stopping_rnn])\n"
      ],
      "metadata": {
        "trusted": true,
        "execution": {
          "iopub.status.busy": "2025-06-03T22:45:48.043364Z",
          "iopub.status.idle": "2025-06-03T22:45:48.043632Z",
          "shell.execute_reply": "2025-06-03T22:45:48.043524Z"
        },
        "id": "6xitYOS3IzdJ"
      },
      "outputs": [],
      "execution_count": null
    },
    {
      "cell_type": "code",
      "source": [
        "rnn_model.summary()"
      ],
      "metadata": {
        "trusted": true,
        "execution": {
          "iopub.status.busy": "2025-06-03T22:45:48.044363Z",
          "iopub.status.idle": "2025-06-03T22:45:48.044679Z",
          "shell.execute_reply": "2025-06-03T22:45:48.04456Z"
        },
        "id": "NzipqXWEIzdJ"
      },
      "outputs": [],
      "execution_count": null
    },
    {
      "cell_type": "markdown",
      "source": [
        "## Evaluasi Model pada Data Test"
      ],
      "metadata": {
        "id": "ifYR8AEkIzdK"
      }
    },
    {
      "cell_type": "code",
      "source": [
        "# Evaluasi model\n",
        "y_pred_prob = rnn_model.predict(X_test_seq)\n",
        "y_pred_classes = (y_pred_prob > 0.5).astype(int)\n",
        "y_test_classes = y_test_seq\n",
        "\n",
        "# Tampilkan hasil evaluasi\n",
        "print(\"\\nClassification Report:\")\n",
        "print(classification_report(y_test_classes, y_pred_classes, target_names=le.classes_))"
      ],
      "metadata": {
        "trusted": true,
        "execution": {
          "iopub.status.busy": "2025-06-03T22:45:48.047023Z",
          "iopub.status.idle": "2025-06-03T22:45:48.04739Z",
          "shell.execute_reply": "2025-06-03T22:45:48.047227Z"
        },
        "id": "5o8NLaZ7IzdK",
        "colab": {
          "base_uri": "https://localhost:8080/"
        },
        "outputId": "f467d356-a358-4bd9-9e51-0e456c0304ae"
      },
      "outputs": [
        {
          "output_type": "stream",
          "name": "stdout",
          "text": [
            "\u001b[1m6940/6940\u001b[0m \u001b[32m━━━━━━━━━━━━━━━━━━━━\u001b[0m\u001b[37m\u001b[0m \u001b[1m13s\u001b[0m 2ms/step\n",
            "\n",
            "Classification Report:\n",
            "              precision    recall  f1-score   support\n",
            "\n",
            "      ATTACK       0.86      0.82      0.84    128162\n",
            "      BENIGN       0.77      0.82      0.80     93918\n",
            "\n",
            "    accuracy                           0.82    222080\n",
            "   macro avg       0.82      0.82      0.82    222080\n",
            "weighted avg       0.83      0.82      0.82    222080\n",
            "\n"
          ]
        }
      ],
      "execution_count": 41
    },
    {
      "cell_type": "code",
      "source": [
        "# Plot training history\n",
        "plt.figure(figsize=(12, 4))\n",
        "\n",
        "plt.subplot(1, 2, 1)\n",
        "plt.plot(history_autoencoder.history['loss'], label='Training Loss')\n",
        "plt.plot(history_autoencoder.history['val_loss'], label='Validation Loss')\n",
        "plt.title('Autoencoder Training History')\n",
        "plt.xlabel('Epoch')\n",
        "plt.ylabel('Loss')\n",
        "plt.legend()\n",
        "\n",
        "plt.subplot(1, 2, 2)\n",
        "plt.plot(history_rnn.history['accuracy'], label='Training Accuracy')\n",
        "plt.plot(history_rnn.history['val_accuracy'], label='Validation Accuracy')\n",
        "plt.title('RNN Training History')\n",
        "plt.xlabel('Epoch')\n",
        "plt.ylabel('Accuracy')\n",
        "plt.legend()\n",
        "\n",
        "plt.tight_layout()\n",
        "plt.show()\n"
      ],
      "metadata": {
        "trusted": true,
        "execution": {
          "iopub.status.busy": "2025-06-03T22:45:48.047999Z",
          "iopub.status.idle": "2025-06-03T22:45:48.048619Z",
          "shell.execute_reply": "2025-06-03T22:45:48.048443Z"
        },
        "id": "xfs6JCDrIzdL"
      },
      "outputs": [],
      "execution_count": null
    },
    {
      "cell_type": "code",
      "source": [
        "plt.plot(history_autoencoder.history['loss'], label='Training Loss')\n",
        "plt.plot(history_autoencoder.history['val_loss'], label='Validation Loss')\n",
        "plt.title('Autoencoder Training History')\n",
        "plt.xlabel('Epoch')\n",
        "plt.ylabel('Loss')\n",
        "plt.legend()\n",
        "plt.savefig(\"ae_plot_history\")"
      ],
      "metadata": {
        "trusted": true,
        "execution": {
          "iopub.status.busy": "2025-06-03T22:45:48.049506Z",
          "iopub.status.idle": "2025-06-03T22:45:48.049903Z",
          "shell.execute_reply": "2025-06-03T22:45:48.049725Z"
        },
        "id": "N5di1_KJIzdL"
      },
      "outputs": [],
      "execution_count": null
    },
    {
      "cell_type": "code",
      "source": [
        "plt.plot(history_rnn.history['accuracy'], label='Training Accuracy')\n",
        "plt.plot(history_rnn.history['val_accuracy'], label='Validation Accuracy')\n",
        "plt.title('LSTM Training History')\n",
        "plt.xlabel('Epoch')\n",
        "plt.ylabel('Accuracy')\n",
        "plt.legend()\n",
        "plt.savefig(\"lstm_training_history\")"
      ],
      "metadata": {
        "trusted": true,
        "execution": {
          "iopub.status.busy": "2025-06-03T22:45:48.050746Z",
          "iopub.status.idle": "2025-06-03T22:45:48.051093Z",
          "shell.execute_reply": "2025-06-03T22:45:48.050977Z"
        },
        "id": "u1NybXhNIzdM"
      },
      "outputs": [],
      "execution_count": null
    },
    {
      "cell_type": "code",
      "source": [
        "# # Plot confusion matrix\n",
        "# plt.figure(figsize=(12, 10))\n",
        "# cm = confusion_matrix(y_test_classes, y_pred_classes)\n",
        "# sns.heatmap(cm, annot=True, fmt='d', cmap='Blues',\n",
        "#             xticklabels=le.classes_,\n",
        "#             yticklabels=le.classes_)\n",
        "# plt.title('Confusion Matrix')\n",
        "# plt.ylabel('True Label')\n",
        "# plt.xlabel('Predicted Label')\n",
        "# plt.xticks(rotation=45)\n",
        "# plt.yticks(rotation=45)\n",
        "# plt.tight_layout()\n",
        "# plt.show()\n",
        "# plt.savefig(\"confusion_matrix\")\n"
      ],
      "metadata": {
        "trusted": true,
        "execution": {
          "iopub.status.busy": "2025-06-03T22:45:48.053034Z",
          "iopub.status.idle": "2025-06-03T22:45:48.053319Z",
          "shell.execute_reply": "2025-06-03T22:45:48.053204Z"
        },
        "id": "glRSAW2VIzdM"
      },
      "outputs": [],
      "execution_count": null
    },
    {
      "cell_type": "code",
      "source": [
        "# Simpan model\n",
        "print(\"\\nMenyimpan model...\")\n",
        "autoencoder.save('autoencoder_model.h5')\n",
        "encoder.save('encoder_model.h5')\n",
        "rnn_model.save('rnn_model.h5')"
      ],
      "metadata": {
        "trusted": true,
        "execution": {
          "iopub.status.busy": "2025-06-03T22:45:48.054188Z",
          "iopub.status.idle": "2025-06-03T22:45:48.054483Z",
          "shell.execute_reply": "2025-06-03T22:45:48.054352Z"
        },
        "id": "sTmzzW39IzdM"
      },
      "outputs": [],
      "execution_count": null
    },
    {
      "cell_type": "code",
      "source": [
        "# Simpan label encoder\n",
        "import joblib\n",
        "joblib.dump(le, 'label_encoder.joblib')\n",
        "joblib.dump(scaler, 'scaler.joblib')"
      ],
      "metadata": {
        "trusted": true,
        "execution": {
          "iopub.status.busy": "2025-06-03T22:45:48.055424Z",
          "iopub.status.idle": "2025-06-03T22:45:48.055714Z",
          "shell.execute_reply": "2025-06-03T22:45:48.055586Z"
        },
        "id": "S5h3e7YkIzdM"
      },
      "outputs": [],
      "execution_count": null
    },
    {
      "cell_type": "markdown",
      "source": [
        "---"
      ],
      "metadata": {
        "id": "hxwnosY8IzdN"
      }
    }
  ]
}