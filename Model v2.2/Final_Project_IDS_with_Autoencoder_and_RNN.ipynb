{
  "metadata": {
    "kernelspec": {
      "name": "python3",
      "display_name": "Python 3"
    },
    "language_info": {
      "name": "python",
      "version": "3.10.12",
      "mimetype": "text/x-python",
      "codemirror_mode": {
        "name": "ipython",
        "version": 3
      },
      "pygments_lexer": "ipython3",
      "nbconvert_exporter": "python",
      "file_extension": ".py"
    },
    "kaggle": {
      "accelerator": "nvidiaTeslaT4",
      "dataSources": [
        {
          "sourceId": 6376134,
          "sourceType": "datasetVersion",
          "datasetId": 3674161
        },
        {
          "sourceId": 10842433,
          "sourceType": "datasetVersion",
          "datasetId": 6733479
        },
        {
          "sourceId": 10842458,
          "sourceType": "datasetVersion",
          "datasetId": 6733495
        }
      ],
      "dockerImageVersionId": 30840,
      "isInternetEnabled": true,
      "language": "python",
      "sourceType": "notebook",
      "isGpuEnabled": true
    },
    "colab": {
      "name": "Final Project - IDS with Autoencoder and RNN",
      "provenance": [],
      "machine_shape": "hm",
      "gpuType": "T4"
    },
    "accelerator": "GPU",
    "widgets": {
      "application/vnd.jupyter.widget-state+json": {
        "d41a72be65364299944e4c52626007f3": {
          "model_module": "@jupyter-widgets/controls",
          "model_name": "VBoxModel",
          "model_module_version": "1.5.0",
          "state": {
            "_dom_classes": [],
            "_model_module": "@jupyter-widgets/controls",
            "_model_module_version": "1.5.0",
            "_model_name": "VBoxModel",
            "_view_count": null,
            "_view_module": "@jupyter-widgets/controls",
            "_view_module_version": "1.5.0",
            "_view_name": "VBoxView",
            "box_style": "",
            "children": [
              "IPY_MODEL_5a53cc72d16442ce8700bdd0f80f2aff"
            ],
            "layout": "IPY_MODEL_946d7f31a82e4965b5b6985aaaf686a6"
          }
        },
        "9bdf0921d3eb485ab66a821531b15a74": {
          "model_module": "@jupyter-widgets/controls",
          "model_name": "HTMLModel",
          "model_module_version": "1.5.0",
          "state": {
            "_dom_classes": [],
            "_model_module": "@jupyter-widgets/controls",
            "_model_module_version": "1.5.0",
            "_model_name": "HTMLModel",
            "_view_count": null,
            "_view_module": "@jupyter-widgets/controls",
            "_view_module_version": "1.5.0",
            "_view_name": "HTMLView",
            "description": "",
            "description_tooltip": null,
            "layout": "IPY_MODEL_49c6f72aa66a45a3a8e2ad52a320a035",
            "placeholder": "​",
            "style": "IPY_MODEL_63e592abcf234dc58484761649332270",
            "value": "<center> <img\nsrc=https://www.kaggle.com/static/images/site-logo.png\nalt='Kaggle'> <br> Create an API token from <a\nhref=\"https://www.kaggle.com/settings/account\" target=\"_blank\">your Kaggle\nsettings page</a> and paste it below along with your Kaggle username. <br> </center>"
          }
        },
        "277da2f6320444bba6d42cb2521a5a5b": {
          "model_module": "@jupyter-widgets/controls",
          "model_name": "TextModel",
          "model_module_version": "1.5.0",
          "state": {
            "_dom_classes": [],
            "_model_module": "@jupyter-widgets/controls",
            "_model_module_version": "1.5.0",
            "_model_name": "TextModel",
            "_view_count": null,
            "_view_module": "@jupyter-widgets/controls",
            "_view_module_version": "1.5.0",
            "_view_name": "TextView",
            "continuous_update": true,
            "description": "Username:",
            "description_tooltip": null,
            "disabled": false,
            "layout": "IPY_MODEL_0edfb08f6d44462788c438ffcd66f20c",
            "placeholder": "​",
            "style": "IPY_MODEL_27dcc15fb17a40fabd06077c4871a666",
            "value": "fikrimulyanasetiawan"
          }
        },
        "a195926ac8e24f1fb2229c4512847fc6": {
          "model_module": "@jupyter-widgets/controls",
          "model_name": "PasswordModel",
          "model_module_version": "1.5.0",
          "state": {
            "_dom_classes": [],
            "_model_module": "@jupyter-widgets/controls",
            "_model_module_version": "1.5.0",
            "_model_name": "PasswordModel",
            "_view_count": null,
            "_view_module": "@jupyter-widgets/controls",
            "_view_module_version": "1.5.0",
            "_view_name": "PasswordView",
            "continuous_update": true,
            "description": "Token:",
            "description_tooltip": null,
            "disabled": false,
            "layout": "IPY_MODEL_7ebd934fa88a4fffa960ea42f4317a83",
            "placeholder": "​",
            "style": "IPY_MODEL_17f40e70b47a41ffb2fac6f20149556b",
            "value": ""
          }
        },
        "c6a709b5a7794909b488c7cd6057bc21": {
          "model_module": "@jupyter-widgets/controls",
          "model_name": "ButtonModel",
          "model_module_version": "1.5.0",
          "state": {
            "_dom_classes": [],
            "_model_module": "@jupyter-widgets/controls",
            "_model_module_version": "1.5.0",
            "_model_name": "ButtonModel",
            "_view_count": null,
            "_view_module": "@jupyter-widgets/controls",
            "_view_module_version": "1.5.0",
            "_view_name": "ButtonView",
            "button_style": "",
            "description": "Login",
            "disabled": false,
            "icon": "",
            "layout": "IPY_MODEL_699eaf48c1a4416b82725fa95e8e9231",
            "style": "IPY_MODEL_46f56af0f3764796bd9f4a3a7beea410",
            "tooltip": ""
          }
        },
        "df21cb074e59431eb55367038257b1a4": {
          "model_module": "@jupyter-widgets/controls",
          "model_name": "HTMLModel",
          "model_module_version": "1.5.0",
          "state": {
            "_dom_classes": [],
            "_model_module": "@jupyter-widgets/controls",
            "_model_module_version": "1.5.0",
            "_model_name": "HTMLModel",
            "_view_count": null,
            "_view_module": "@jupyter-widgets/controls",
            "_view_module_version": "1.5.0",
            "_view_name": "HTMLView",
            "description": "",
            "description_tooltip": null,
            "layout": "IPY_MODEL_168de8ada9f446f0a8c9216dd13a5d2c",
            "placeholder": "​",
            "style": "IPY_MODEL_90cf2984b6c44fa08191880189698f61",
            "value": "\n<b>Thank You</b></center>"
          }
        },
        "946d7f31a82e4965b5b6985aaaf686a6": {
          "model_module": "@jupyter-widgets/base",
          "model_name": "LayoutModel",
          "model_module_version": "1.2.0",
          "state": {
            "_model_module": "@jupyter-widgets/base",
            "_model_module_version": "1.2.0",
            "_model_name": "LayoutModel",
            "_view_count": null,
            "_view_module": "@jupyter-widgets/base",
            "_view_module_version": "1.2.0",
            "_view_name": "LayoutView",
            "align_content": null,
            "align_items": "center",
            "align_self": null,
            "border": null,
            "bottom": null,
            "display": "flex",
            "flex": null,
            "flex_flow": "column",
            "grid_area": null,
            "grid_auto_columns": null,
            "grid_auto_flow": null,
            "grid_auto_rows": null,
            "grid_column": null,
            "grid_gap": null,
            "grid_row": null,
            "grid_template_areas": null,
            "grid_template_columns": null,
            "grid_template_rows": null,
            "height": null,
            "justify_content": null,
            "justify_items": null,
            "left": null,
            "margin": null,
            "max_height": null,
            "max_width": null,
            "min_height": null,
            "min_width": null,
            "object_fit": null,
            "object_position": null,
            "order": null,
            "overflow": null,
            "overflow_x": null,
            "overflow_y": null,
            "padding": null,
            "right": null,
            "top": null,
            "visibility": null,
            "width": "50%"
          }
        },
        "49c6f72aa66a45a3a8e2ad52a320a035": {
          "model_module": "@jupyter-widgets/base",
          "model_name": "LayoutModel",
          "model_module_version": "1.2.0",
          "state": {
            "_model_module": "@jupyter-widgets/base",
            "_model_module_version": "1.2.0",
            "_model_name": "LayoutModel",
            "_view_count": null,
            "_view_module": "@jupyter-widgets/base",
            "_view_module_version": "1.2.0",
            "_view_name": "LayoutView",
            "align_content": null,
            "align_items": null,
            "align_self": null,
            "border": null,
            "bottom": null,
            "display": null,
            "flex": null,
            "flex_flow": null,
            "grid_area": null,
            "grid_auto_columns": null,
            "grid_auto_flow": null,
            "grid_auto_rows": null,
            "grid_column": null,
            "grid_gap": null,
            "grid_row": null,
            "grid_template_areas": null,
            "grid_template_columns": null,
            "grid_template_rows": null,
            "height": null,
            "justify_content": null,
            "justify_items": null,
            "left": null,
            "margin": null,
            "max_height": null,
            "max_width": null,
            "min_height": null,
            "min_width": null,
            "object_fit": null,
            "object_position": null,
            "order": null,
            "overflow": null,
            "overflow_x": null,
            "overflow_y": null,
            "padding": null,
            "right": null,
            "top": null,
            "visibility": null,
            "width": null
          }
        },
        "63e592abcf234dc58484761649332270": {
          "model_module": "@jupyter-widgets/controls",
          "model_name": "DescriptionStyleModel",
          "model_module_version": "1.5.0",
          "state": {
            "_model_module": "@jupyter-widgets/controls",
            "_model_module_version": "1.5.0",
            "_model_name": "DescriptionStyleModel",
            "_view_count": null,
            "_view_module": "@jupyter-widgets/base",
            "_view_module_version": "1.2.0",
            "_view_name": "StyleView",
            "description_width": ""
          }
        },
        "0edfb08f6d44462788c438ffcd66f20c": {
          "model_module": "@jupyter-widgets/base",
          "model_name": "LayoutModel",
          "model_module_version": "1.2.0",
          "state": {
            "_model_module": "@jupyter-widgets/base",
            "_model_module_version": "1.2.0",
            "_model_name": "LayoutModel",
            "_view_count": null,
            "_view_module": "@jupyter-widgets/base",
            "_view_module_version": "1.2.0",
            "_view_name": "LayoutView",
            "align_content": null,
            "align_items": null,
            "align_self": null,
            "border": null,
            "bottom": null,
            "display": null,
            "flex": null,
            "flex_flow": null,
            "grid_area": null,
            "grid_auto_columns": null,
            "grid_auto_flow": null,
            "grid_auto_rows": null,
            "grid_column": null,
            "grid_gap": null,
            "grid_row": null,
            "grid_template_areas": null,
            "grid_template_columns": null,
            "grid_template_rows": null,
            "height": null,
            "justify_content": null,
            "justify_items": null,
            "left": null,
            "margin": null,
            "max_height": null,
            "max_width": null,
            "min_height": null,
            "min_width": null,
            "object_fit": null,
            "object_position": null,
            "order": null,
            "overflow": null,
            "overflow_x": null,
            "overflow_y": null,
            "padding": null,
            "right": null,
            "top": null,
            "visibility": null,
            "width": null
          }
        },
        "27dcc15fb17a40fabd06077c4871a666": {
          "model_module": "@jupyter-widgets/controls",
          "model_name": "DescriptionStyleModel",
          "model_module_version": "1.5.0",
          "state": {
            "_model_module": "@jupyter-widgets/controls",
            "_model_module_version": "1.5.0",
            "_model_name": "DescriptionStyleModel",
            "_view_count": null,
            "_view_module": "@jupyter-widgets/base",
            "_view_module_version": "1.2.0",
            "_view_name": "StyleView",
            "description_width": ""
          }
        },
        "7ebd934fa88a4fffa960ea42f4317a83": {
          "model_module": "@jupyter-widgets/base",
          "model_name": "LayoutModel",
          "model_module_version": "1.2.0",
          "state": {
            "_model_module": "@jupyter-widgets/base",
            "_model_module_version": "1.2.0",
            "_model_name": "LayoutModel",
            "_view_count": null,
            "_view_module": "@jupyter-widgets/base",
            "_view_module_version": "1.2.0",
            "_view_name": "LayoutView",
            "align_content": null,
            "align_items": null,
            "align_self": null,
            "border": null,
            "bottom": null,
            "display": null,
            "flex": null,
            "flex_flow": null,
            "grid_area": null,
            "grid_auto_columns": null,
            "grid_auto_flow": null,
            "grid_auto_rows": null,
            "grid_column": null,
            "grid_gap": null,
            "grid_row": null,
            "grid_template_areas": null,
            "grid_template_columns": null,
            "grid_template_rows": null,
            "height": null,
            "justify_content": null,
            "justify_items": null,
            "left": null,
            "margin": null,
            "max_height": null,
            "max_width": null,
            "min_height": null,
            "min_width": null,
            "object_fit": null,
            "object_position": null,
            "order": null,
            "overflow": null,
            "overflow_x": null,
            "overflow_y": null,
            "padding": null,
            "right": null,
            "top": null,
            "visibility": null,
            "width": null
          }
        },
        "17f40e70b47a41ffb2fac6f20149556b": {
          "model_module": "@jupyter-widgets/controls",
          "model_name": "DescriptionStyleModel",
          "model_module_version": "1.5.0",
          "state": {
            "_model_module": "@jupyter-widgets/controls",
            "_model_module_version": "1.5.0",
            "_model_name": "DescriptionStyleModel",
            "_view_count": null,
            "_view_module": "@jupyter-widgets/base",
            "_view_module_version": "1.2.0",
            "_view_name": "StyleView",
            "description_width": ""
          }
        },
        "699eaf48c1a4416b82725fa95e8e9231": {
          "model_module": "@jupyter-widgets/base",
          "model_name": "LayoutModel",
          "model_module_version": "1.2.0",
          "state": {
            "_model_module": "@jupyter-widgets/base",
            "_model_module_version": "1.2.0",
            "_model_name": "LayoutModel",
            "_view_count": null,
            "_view_module": "@jupyter-widgets/base",
            "_view_module_version": "1.2.0",
            "_view_name": "LayoutView",
            "align_content": null,
            "align_items": null,
            "align_self": null,
            "border": null,
            "bottom": null,
            "display": null,
            "flex": null,
            "flex_flow": null,
            "grid_area": null,
            "grid_auto_columns": null,
            "grid_auto_flow": null,
            "grid_auto_rows": null,
            "grid_column": null,
            "grid_gap": null,
            "grid_row": null,
            "grid_template_areas": null,
            "grid_template_columns": null,
            "grid_template_rows": null,
            "height": null,
            "justify_content": null,
            "justify_items": null,
            "left": null,
            "margin": null,
            "max_height": null,
            "max_width": null,
            "min_height": null,
            "min_width": null,
            "object_fit": null,
            "object_position": null,
            "order": null,
            "overflow": null,
            "overflow_x": null,
            "overflow_y": null,
            "padding": null,
            "right": null,
            "top": null,
            "visibility": null,
            "width": null
          }
        },
        "46f56af0f3764796bd9f4a3a7beea410": {
          "model_module": "@jupyter-widgets/controls",
          "model_name": "ButtonStyleModel",
          "model_module_version": "1.5.0",
          "state": {
            "_model_module": "@jupyter-widgets/controls",
            "_model_module_version": "1.5.0",
            "_model_name": "ButtonStyleModel",
            "_view_count": null,
            "_view_module": "@jupyter-widgets/base",
            "_view_module_version": "1.2.0",
            "_view_name": "StyleView",
            "button_color": null,
            "font_weight": ""
          }
        },
        "168de8ada9f446f0a8c9216dd13a5d2c": {
          "model_module": "@jupyter-widgets/base",
          "model_name": "LayoutModel",
          "model_module_version": "1.2.0",
          "state": {
            "_model_module": "@jupyter-widgets/base",
            "_model_module_version": "1.2.0",
            "_model_name": "LayoutModel",
            "_view_count": null,
            "_view_module": "@jupyter-widgets/base",
            "_view_module_version": "1.2.0",
            "_view_name": "LayoutView",
            "align_content": null,
            "align_items": null,
            "align_self": null,
            "border": null,
            "bottom": null,
            "display": null,
            "flex": null,
            "flex_flow": null,
            "grid_area": null,
            "grid_auto_columns": null,
            "grid_auto_flow": null,
            "grid_auto_rows": null,
            "grid_column": null,
            "grid_gap": null,
            "grid_row": null,
            "grid_template_areas": null,
            "grid_template_columns": null,
            "grid_template_rows": null,
            "height": null,
            "justify_content": null,
            "justify_items": null,
            "left": null,
            "margin": null,
            "max_height": null,
            "max_width": null,
            "min_height": null,
            "min_width": null,
            "object_fit": null,
            "object_position": null,
            "order": null,
            "overflow": null,
            "overflow_x": null,
            "overflow_y": null,
            "padding": null,
            "right": null,
            "top": null,
            "visibility": null,
            "width": null
          }
        },
        "90cf2984b6c44fa08191880189698f61": {
          "model_module": "@jupyter-widgets/controls",
          "model_name": "DescriptionStyleModel",
          "model_module_version": "1.5.0",
          "state": {
            "_model_module": "@jupyter-widgets/controls",
            "_model_module_version": "1.5.0",
            "_model_name": "DescriptionStyleModel",
            "_view_count": null,
            "_view_module": "@jupyter-widgets/base",
            "_view_module_version": "1.2.0",
            "_view_name": "StyleView",
            "description_width": ""
          }
        },
        "a863622057714c82b1bdaf4311b6c93d": {
          "model_module": "@jupyter-widgets/controls",
          "model_name": "LabelModel",
          "model_module_version": "1.5.0",
          "state": {
            "_dom_classes": [],
            "_model_module": "@jupyter-widgets/controls",
            "_model_module_version": "1.5.0",
            "_model_name": "LabelModel",
            "_view_count": null,
            "_view_module": "@jupyter-widgets/controls",
            "_view_module_version": "1.5.0",
            "_view_name": "LabelView",
            "description": "",
            "description_tooltip": null,
            "layout": "IPY_MODEL_60ea8a95f28e45d0ad49095a197e6051",
            "placeholder": "​",
            "style": "IPY_MODEL_80900ebf37c743108bd1da94e627f03d",
            "value": "Connecting..."
          }
        },
        "60ea8a95f28e45d0ad49095a197e6051": {
          "model_module": "@jupyter-widgets/base",
          "model_name": "LayoutModel",
          "model_module_version": "1.2.0",
          "state": {
            "_model_module": "@jupyter-widgets/base",
            "_model_module_version": "1.2.0",
            "_model_name": "LayoutModel",
            "_view_count": null,
            "_view_module": "@jupyter-widgets/base",
            "_view_module_version": "1.2.0",
            "_view_name": "LayoutView",
            "align_content": null,
            "align_items": null,
            "align_self": null,
            "border": null,
            "bottom": null,
            "display": null,
            "flex": null,
            "flex_flow": null,
            "grid_area": null,
            "grid_auto_columns": null,
            "grid_auto_flow": null,
            "grid_auto_rows": null,
            "grid_column": null,
            "grid_gap": null,
            "grid_row": null,
            "grid_template_areas": null,
            "grid_template_columns": null,
            "grid_template_rows": null,
            "height": null,
            "justify_content": null,
            "justify_items": null,
            "left": null,
            "margin": null,
            "max_height": null,
            "max_width": null,
            "min_height": null,
            "min_width": null,
            "object_fit": null,
            "object_position": null,
            "order": null,
            "overflow": null,
            "overflow_x": null,
            "overflow_y": null,
            "padding": null,
            "right": null,
            "top": null,
            "visibility": null,
            "width": null
          }
        },
        "80900ebf37c743108bd1da94e627f03d": {
          "model_module": "@jupyter-widgets/controls",
          "model_name": "DescriptionStyleModel",
          "model_module_version": "1.5.0",
          "state": {
            "_model_module": "@jupyter-widgets/controls",
            "_model_module_version": "1.5.0",
            "_model_name": "DescriptionStyleModel",
            "_view_count": null,
            "_view_module": "@jupyter-widgets/base",
            "_view_module_version": "1.2.0",
            "_view_name": "StyleView",
            "description_width": ""
          }
        },
        "f90d1bd3f0424b119090e8f2f2de40dd": {
          "model_module": "@jupyter-widgets/controls",
          "model_name": "LabelModel",
          "model_module_version": "1.5.0",
          "state": {
            "_dom_classes": [],
            "_model_module": "@jupyter-widgets/controls",
            "_model_module_version": "1.5.0",
            "_model_name": "LabelModel",
            "_view_count": null,
            "_view_module": "@jupyter-widgets/controls",
            "_view_module_version": "1.5.0",
            "_view_name": "LabelView",
            "description": "",
            "description_tooltip": null,
            "layout": "IPY_MODEL_087e32c32b834391ab0abe4fb6c2749b",
            "placeholder": "​",
            "style": "IPY_MODEL_fec9c4584a3547e29353728eeb9db2ec",
            "value": "Kaggle credentials successfully validated."
          }
        },
        "087e32c32b834391ab0abe4fb6c2749b": {
          "model_module": "@jupyter-widgets/base",
          "model_name": "LayoutModel",
          "model_module_version": "1.2.0",
          "state": {
            "_model_module": "@jupyter-widgets/base",
            "_model_module_version": "1.2.0",
            "_model_name": "LayoutModel",
            "_view_count": null,
            "_view_module": "@jupyter-widgets/base",
            "_view_module_version": "1.2.0",
            "_view_name": "LayoutView",
            "align_content": null,
            "align_items": null,
            "align_self": null,
            "border": null,
            "bottom": null,
            "display": null,
            "flex": null,
            "flex_flow": null,
            "grid_area": null,
            "grid_auto_columns": null,
            "grid_auto_flow": null,
            "grid_auto_rows": null,
            "grid_column": null,
            "grid_gap": null,
            "grid_row": null,
            "grid_template_areas": null,
            "grid_template_columns": null,
            "grid_template_rows": null,
            "height": null,
            "justify_content": null,
            "justify_items": null,
            "left": null,
            "margin": null,
            "max_height": null,
            "max_width": null,
            "min_height": null,
            "min_width": null,
            "object_fit": null,
            "object_position": null,
            "order": null,
            "overflow": null,
            "overflow_x": null,
            "overflow_y": null,
            "padding": null,
            "right": null,
            "top": null,
            "visibility": null,
            "width": null
          }
        },
        "fec9c4584a3547e29353728eeb9db2ec": {
          "model_module": "@jupyter-widgets/controls",
          "model_name": "DescriptionStyleModel",
          "model_module_version": "1.5.0",
          "state": {
            "_model_module": "@jupyter-widgets/controls",
            "_model_module_version": "1.5.0",
            "_model_name": "DescriptionStyleModel",
            "_view_count": null,
            "_view_module": "@jupyter-widgets/base",
            "_view_module_version": "1.2.0",
            "_view_name": "StyleView",
            "description_width": ""
          }
        },
        "83cd1dd85b184e97956cb10722802f35": {
          "model_module": "@jupyter-widgets/controls",
          "model_name": "LabelModel",
          "model_module_version": "1.5.0",
          "state": {
            "_dom_classes": [],
            "_model_module": "@jupyter-widgets/controls",
            "_model_module_version": "1.5.0",
            "_model_name": "LabelModel",
            "_view_count": null,
            "_view_module": "@jupyter-widgets/controls",
            "_view_module_version": "1.5.0",
            "_view_name": "LabelView",
            "description": "",
            "description_tooltip": null,
            "layout": "IPY_MODEL_4a8303959cc6492995e9d0c2a5980fb9",
            "placeholder": "​",
            "style": "IPY_MODEL_5cff24fc9cd3483ab4830a84938515c8",
            "value": "Connecting..."
          }
        },
        "4a8303959cc6492995e9d0c2a5980fb9": {
          "model_module": "@jupyter-widgets/base",
          "model_name": "LayoutModel",
          "model_module_version": "1.2.0",
          "state": {
            "_model_module": "@jupyter-widgets/base",
            "_model_module_version": "1.2.0",
            "_model_name": "LayoutModel",
            "_view_count": null,
            "_view_module": "@jupyter-widgets/base",
            "_view_module_version": "1.2.0",
            "_view_name": "LayoutView",
            "align_content": null,
            "align_items": null,
            "align_self": null,
            "border": null,
            "bottom": null,
            "display": null,
            "flex": null,
            "flex_flow": null,
            "grid_area": null,
            "grid_auto_columns": null,
            "grid_auto_flow": null,
            "grid_auto_rows": null,
            "grid_column": null,
            "grid_gap": null,
            "grid_row": null,
            "grid_template_areas": null,
            "grid_template_columns": null,
            "grid_template_rows": null,
            "height": null,
            "justify_content": null,
            "justify_items": null,
            "left": null,
            "margin": null,
            "max_height": null,
            "max_width": null,
            "min_height": null,
            "min_width": null,
            "object_fit": null,
            "object_position": null,
            "order": null,
            "overflow": null,
            "overflow_x": null,
            "overflow_y": null,
            "padding": null,
            "right": null,
            "top": null,
            "visibility": null,
            "width": null
          }
        },
        "5cff24fc9cd3483ab4830a84938515c8": {
          "model_module": "@jupyter-widgets/controls",
          "model_name": "DescriptionStyleModel",
          "model_module_version": "1.5.0",
          "state": {
            "_model_module": "@jupyter-widgets/controls",
            "_model_module_version": "1.5.0",
            "_model_name": "DescriptionStyleModel",
            "_view_count": null,
            "_view_module": "@jupyter-widgets/base",
            "_view_module_version": "1.2.0",
            "_view_name": "StyleView",
            "description_width": ""
          }
        },
        "5a53cc72d16442ce8700bdd0f80f2aff": {
          "model_module": "@jupyter-widgets/controls",
          "model_name": "LabelModel",
          "model_module_version": "1.5.0",
          "state": {
            "_dom_classes": [],
            "_model_module": "@jupyter-widgets/controls",
            "_model_module_version": "1.5.0",
            "_model_name": "LabelModel",
            "_view_count": null,
            "_view_module": "@jupyter-widgets/controls",
            "_view_module_version": "1.5.0",
            "_view_name": "LabelView",
            "description": "",
            "description_tooltip": null,
            "layout": "IPY_MODEL_74771816238449068ae322f242105f54",
            "placeholder": "​",
            "style": "IPY_MODEL_75bf424ca0d8460e965646fa232b5636",
            "value": "Both username and API key cannot be empty or whitespace"
          }
        },
        "74771816238449068ae322f242105f54": {
          "model_module": "@jupyter-widgets/base",
          "model_name": "LayoutModel",
          "model_module_version": "1.2.0",
          "state": {
            "_model_module": "@jupyter-widgets/base",
            "_model_module_version": "1.2.0",
            "_model_name": "LayoutModel",
            "_view_count": null,
            "_view_module": "@jupyter-widgets/base",
            "_view_module_version": "1.2.0",
            "_view_name": "LayoutView",
            "align_content": null,
            "align_items": null,
            "align_self": null,
            "border": null,
            "bottom": null,
            "display": null,
            "flex": null,
            "flex_flow": null,
            "grid_area": null,
            "grid_auto_columns": null,
            "grid_auto_flow": null,
            "grid_auto_rows": null,
            "grid_column": null,
            "grid_gap": null,
            "grid_row": null,
            "grid_template_areas": null,
            "grid_template_columns": null,
            "grid_template_rows": null,
            "height": null,
            "justify_content": null,
            "justify_items": null,
            "left": null,
            "margin": null,
            "max_height": null,
            "max_width": null,
            "min_height": null,
            "min_width": null,
            "object_fit": null,
            "object_position": null,
            "order": null,
            "overflow": null,
            "overflow_x": null,
            "overflow_y": null,
            "padding": null,
            "right": null,
            "top": null,
            "visibility": null,
            "width": null
          }
        },
        "75bf424ca0d8460e965646fa232b5636": {
          "model_module": "@jupyter-widgets/controls",
          "model_name": "DescriptionStyleModel",
          "model_module_version": "1.5.0",
          "state": {
            "_model_module": "@jupyter-widgets/controls",
            "_model_module_version": "1.5.0",
            "_model_name": "DescriptionStyleModel",
            "_view_count": null,
            "_view_module": "@jupyter-widgets/base",
            "_view_module_version": "1.2.0",
            "_view_name": "StyleView",
            "description_width": ""
          }
        }
      }
    }
  },
  "nbformat_minor": 0,
  "nbformat": 4,
  "cells": [
    {
      "source": [
        "# IMPORTANT: SOME KAGGLE DATA SOURCES ARE PRIVATE\n",
        "# RUN THIS CELL IN ORDER TO IMPORT YOUR KAGGLE DATA SOURCES.\n",
        "import kagglehub\n",
        "kagglehub.login()\n"
      ],
      "metadata": {
        "id": "9XCMNofFIzcm",
        "colab": {
          "base_uri": "https://localhost:8080/",
          "height": 84,
          "referenced_widgets": [
            "d41a72be65364299944e4c52626007f3",
            "9bdf0921d3eb485ab66a821531b15a74",
            "277da2f6320444bba6d42cb2521a5a5b",
            "a195926ac8e24f1fb2229c4512847fc6",
            "c6a709b5a7794909b488c7cd6057bc21",
            "df21cb074e59431eb55367038257b1a4",
            "946d7f31a82e4965b5b6985aaaf686a6",
            "49c6f72aa66a45a3a8e2ad52a320a035",
            "63e592abcf234dc58484761649332270",
            "0edfb08f6d44462788c438ffcd66f20c",
            "27dcc15fb17a40fabd06077c4871a666",
            "7ebd934fa88a4fffa960ea42f4317a83",
            "17f40e70b47a41ffb2fac6f20149556b",
            "699eaf48c1a4416b82725fa95e8e9231",
            "46f56af0f3764796bd9f4a3a7beea410",
            "168de8ada9f446f0a8c9216dd13a5d2c",
            "90cf2984b6c44fa08191880189698f61",
            "a863622057714c82b1bdaf4311b6c93d",
            "60ea8a95f28e45d0ad49095a197e6051",
            "80900ebf37c743108bd1da94e627f03d",
            "f90d1bd3f0424b119090e8f2f2de40dd",
            "087e32c32b834391ab0abe4fb6c2749b",
            "fec9c4584a3547e29353728eeb9db2ec",
            "83cd1dd85b184e97956cb10722802f35",
            "4a8303959cc6492995e9d0c2a5980fb9",
            "5cff24fc9cd3483ab4830a84938515c8",
            "5a53cc72d16442ce8700bdd0f80f2aff",
            "74771816238449068ae322f242105f54",
            "75bf424ca0d8460e965646fa232b5636"
          ]
        },
        "outputId": "633cc348-ae1a-40c3-e2cf-f3d139a84549"
      },
      "cell_type": "code",
      "outputs": [
        {
          "output_type": "display_data",
          "data": {
            "text/plain": [
              "VBox(children=(HTML(value='<center> <img\\nsrc=https://www.kaggle.com/static/images/site-logo.png\\nalt=\\'Kaggle…"
            ],
            "application/vnd.jupyter.widget-view+json": {
              "version_major": 2,
              "version_minor": 0,
              "model_id": "d41a72be65364299944e4c52626007f3"
            }
          },
          "metadata": {}
        },
        {
          "output_type": "stream",
          "name": "stdout",
          "text": [
            "Kaggle credentials set.\n",
            "Kaggle credentials successfully validated.\n"
          ]
        }
      ],
      "execution_count": 42
    },
    {
      "source": [
        "# IMPORTANT: RUN THIS CELL IN ORDER TO IMPORT YOUR KAGGLE DATA SOURCES,\n",
        "# THEN FEEL FREE TO DELETE THIS CELL.\n",
        "# NOTE: THIS NOTEBOOK ENVIRONMENT DIFFERS FROM KAGGLE'S PYTHON\n",
        "# ENVIRONMENT SO THERE MAY BE MISSING LIBRARIES USED BY YOUR\n",
        "# NOTEBOOK.\n",
        "\n",
        "dataset_path = kagglehub.dataset_download('chethuhn/network-intrusion-dataset')\n",
        "model_path = kagglehub.dataset_download('fikrimulyanasetiawan/rnn-model')\n",
        "encoder_path = kagglehub.dataset_download('fikrimulyanasetiawan/encoder')\n",
        "\n",
        "print('Data source import complete. \\n')\n",
        "print(\"Information about your data sources:\")\n",
        "print(f\"Dataset path: {dataset_path}\")\n",
        "print(f\"Model path: {model_path}\")\n",
        "print(f\"Encoder path: {encoder_path}\")\n"
      ],
      "metadata": {
        "id": "rb6aowwhIzcp",
        "colab": {
          "base_uri": "https://localhost:8080/"
        },
        "outputId": "307718e4-c070-4309-96e9-9f890dc160e2"
      },
      "cell_type": "code",
      "outputs": [
        {
          "output_type": "stream",
          "name": "stdout",
          "text": [
            "Data source import complete. \n",
            "\n",
            "Information about your data sources:\n",
            "Dataset path: /kaggle/input/network-intrusion-dataset\n",
            "Model path: /root/.cache/kagglehub/datasets/fikrimulyanasetiawan/rnn-model/versions/1\n",
            "Encoder path: /root/.cache/kagglehub/datasets/fikrimulyanasetiawan/encoder/versions/1\n"
          ]
        }
      ],
      "execution_count": 43
    },
    {
      "cell_type": "markdown",
      "source": [
        "# Intrusion Detection System"
      ],
      "metadata": {
        "id": "SbXVED8lIzcq"
      }
    },
    {
      "cell_type": "markdown",
      "source": [
        "## Import Library"
      ],
      "metadata": {
        "id": "A31FOKywIzcs"
      }
    },
    {
      "cell_type": "code",
      "source": [
        "# Import library yang diperlukan\n",
        "import pandas as pd\n",
        "import numpy as np\n",
        "import os\n",
        "from sklearn.model_selection import train_test_split, TimeSeriesSplit\n",
        "from sklearn.preprocessing import StandardScaler, LabelEncoder, MinMaxScaler\n",
        "from sklearn.impute import SimpleImputer\n",
        "import tensorflow as tf\n",
        "from tensorflow.keras import layers, Model\n",
        "import matplotlib.pyplot as plt\n",
        "from sklearn.metrics import classification_report, confusion_matrix\n",
        "import seaborn as sns\n"
      ],
      "metadata": {
        "trusted": true,
        "id": "-AdAG5TOIzct"
      },
      "outputs": [],
      "execution_count": 44
    },
    {
      "cell_type": "markdown",
      "source": [
        "## Preprocessing Data"
      ],
      "metadata": {
        "execution": {
          "iopub.status.busy": "2025-03-15T08:03:57.690893Z",
          "iopub.execute_input": "2025-03-15T08:03:57.691434Z",
          "iopub.status.idle": "2025-03-15T08:03:57.694929Z",
          "shell.execute_reply.started": "2025-03-15T08:03:57.691406Z",
          "shell.execute_reply": "2025-03-15T08:03:57.69418Z"
        },
        "id": "HJhHWwfYIzcu"
      }
    },
    {
      "cell_type": "markdown",
      "source": [
        "### Load Data"
      ],
      "metadata": {
        "id": "XGxuqkVPSlWf"
      }
    },
    {
      "cell_type": "code",
      "source": [
        "# Fungsi untuk membaca dan preprocessing setiap file\n",
        "def read_and_clean_file(file_path):\n",
        "    print(f\"Membaca file: {file_path}\")\n",
        "    df = pd.read_csv(file_path, low_memory=False, sep=\",\")\n",
        "\n",
        "    # Bersihkan nama kolom dari whitespace\n",
        "    df.columns = df.columns.str.strip()\n",
        "\n",
        "    # Hapus kolom yang tidak diperlukan\n",
        "    redundant_column = ['Flow ID', 'Source IP', 'Source Port', 'Destination IP',\n",
        "                 'Destination Port', 'Protocol', 'Timestamp']\n",
        "    df = df.drop(redundant_column, axis=1, errors='ignore')\n",
        "\n",
        "    # drop baris yang tidak punya label\n",
        "    df.dropna(subset = ['Label'], inplace=True)\n",
        "\n",
        "    # Handling missing values dan infinite values\n",
        "    df = df.replace([np.inf, -np.inf], np.nan)\n",
        "\n",
        "    return df\n",
        "\n",
        "\n",
        "# Baca semua file CSV dari folder\n",
        "data1 = dataset_path + \"/Monday-WorkingHours.pcap_ISCX.csv\"\n",
        "data2 = dataset_path + \"/Tuesday-WorkingHours.pcap_ISCX.csv\"\n",
        "data3 = dataset_path + \"/Wednesday-workingHours.pcap_ISCX.csv\"\n",
        "data4 = dataset_path + \"/Thursday-WorkingHours-Morning-WebAttacks.pcap_ISCX.csv\"\n",
        "data5 = dataset_path + \"/Thursday-WorkingHours-Afternoon-Infilteration.pcap_ISCX.csv\"\n",
        "data6 = dataset_path + \"/Friday-WorkingHours-Morning.pcap_ISCX.csv\"\n",
        "data7 = dataset_path + \"/Friday-WorkingHours-Afternoon-PortScan.pcap_ISCX.csv\"\n",
        "data8 = dataset_path + \"/Friday-WorkingHours-Afternoon-DDos.pcap_ISCX.csv\"\n",
        "\n",
        "\n",
        "# Buat list semua dataset yang tersedia\n",
        "all_files = [data2, data3, data4, data5, data6, data7, data8]\n",
        "\n",
        "# Membaca file dan mengkonversi semua data file dari list \"all_files\" menjadi dataframe\n",
        "dataframes = []\n",
        "for file in all_files:\n",
        "    df = read_and_clean_file(file)\n",
        "    dataframes.append(df)\n",
        "    del df"
      ],
      "metadata": {
        "trusted": true,
        "execution": {
          "iopub.status.busy": "2025-06-05T12:31:25.991512Z",
          "iopub.execute_input": "2025-06-05T12:31:25.991777Z",
          "iopub.status.idle": "2025-06-05T12:31:32.443529Z",
          "shell.execute_reply.started": "2025-06-05T12:31:25.991754Z",
          "shell.execute_reply": "2025-06-05T12:31:32.44218Z"
        },
        "id": "G-P9CFSGIzcu",
        "colab": {
          "base_uri": "https://localhost:8080/"
        },
        "outputId": "ee172c37-3bd1-4b96-bf6c-e0454b04d33b"
      },
      "outputs": [
        {
          "output_type": "stream",
          "name": "stdout",
          "text": [
            "Membaca file: /kaggle/input/network-intrusion-dataset/Tuesday-WorkingHours.pcap_ISCX.csv\n",
            "Membaca file: /kaggle/input/network-intrusion-dataset/Wednesday-workingHours.pcap_ISCX.csv\n",
            "Membaca file: /kaggle/input/network-intrusion-dataset/Thursday-WorkingHours-Morning-WebAttacks.pcap_ISCX.csv\n",
            "Membaca file: /kaggle/input/network-intrusion-dataset/Thursday-WorkingHours-Afternoon-Infilteration.pcap_ISCX.csv\n",
            "Membaca file: /kaggle/input/network-intrusion-dataset/Friday-WorkingHours-Morning.pcap_ISCX.csv\n",
            "Membaca file: /kaggle/input/network-intrusion-dataset/Friday-WorkingHours-Afternoon-PortScan.pcap_ISCX.csv\n",
            "Membaca file: /kaggle/input/network-intrusion-dataset/Friday-WorkingHours-Afternoon-DDos.pcap_ISCX.csv\n"
          ]
        }
      ],
      "execution_count": 45
    },
    {
      "cell_type": "code",
      "source": [
        "# Menggabungkan semua dataframe\n",
        "print(\"Menggabungkan semua file...\")\n",
        "df = pd.concat(dataframes, ignore_index=True)\n",
        "try:\n",
        "    print(\"Semua file dataset berhasil digabungkan!\")\n",
        "except:\n",
        "    print(\"Error! file dataset tidak berhasil digabungkan\")"
      ],
      "metadata": {
        "trusted": true,
        "execution": {
          "iopub.status.busy": "2025-06-05T12:31:32.444096Z",
          "iopub.status.idle": "2025-06-05T12:31:32.444401Z",
          "shell.execute_reply": "2025-06-05T12:31:32.444288Z"
        },
        "id": "2dR4LqgxIzcw",
        "colab": {
          "base_uri": "https://localhost:8080/"
        },
        "outputId": "9b0e8c58-30b3-4654-ae4a-15f12d82703a"
      },
      "outputs": [
        {
          "output_type": "stream",
          "name": "stdout",
          "text": [
            "Menggabungkan semua file...\n",
            "Semua file dataset berhasil digabungkan!\n"
          ]
        }
      ],
      "execution_count": 46
    },
    {
      "cell_type": "markdown",
      "source": [
        "### Pembersihan Data Duplikat"
      ],
      "metadata": {
        "id": "2Tjydl0FIzc0"
      }
    },
    {
      "cell_type": "code",
      "source": [
        "# ganti nama kolom dengan cara hapus whitespaces\n",
        "col_names = {col: col.strip() for col in df.columns}\n",
        "df.rename(columns = col_names, inplace = True)\n",
        "\n",
        "# informasi data duplikat\n",
        "dups = df[df.duplicated()]\n",
        "print(f'Banyak data duplikat : {len(dups)}')\n",
        "print(f'Banyak data sebelum duplikat : {df.shape[0]}')\n",
        "\n",
        "print(\"menghapus data duplikat...\")\n",
        "\n",
        "# Hapus data duplikat\n",
        "df.drop_duplicates(inplace = True)\n",
        "print(\"data duplikat selesai dihapus!\")\n",
        "df.shape\n",
        "print(f\"banyak data setelah data duplikat dihapus : {df.shape[0]}\")"
      ],
      "metadata": {
        "trusted": true,
        "id": "aTc5KAeHIzc1",
        "colab": {
          "base_uri": "https://localhost:8080/"
        },
        "outputId": "a2869f70-8604-497b-e1c3-0045e25c15a6"
      },
      "outputs": [
        {
          "output_type": "stream",
          "name": "stdout",
          "text": [
            "Banyak data duplikat : 524101\n",
            "Banyak data sebelum duplikat : 2300825\n",
            "menghapus data duplikat...\n",
            "data duplikat selesai dihapus!\n",
            "banyak data setelah data duplikat dihapus : 1776724\n"
          ]
        }
      ],
      "execution_count": 47
    },
    {
      "cell_type": "markdown",
      "source": [
        "### Persiapan Label Kelas untuk Klasifikasi Biner"
      ],
      "metadata": {
        "id": "QXrQ-lRWUAan"
      }
    },
    {
      "cell_type": "code",
      "source": [
        "# konversi semua label selain BENIGN jadi ATTACK\n",
        "df[\"Label\"] = df[\"Label\"].where(df[\"Label\"] == \"BENIGN\", \"ATTACK\")\n",
        "print(\"Informasi Kelas : \")\n",
        "df[\"Label\"].unique()"
      ],
      "metadata": {
        "trusted": true,
        "id": "2BQYHVp6Izc2",
        "colab": {
          "base_uri": "https://localhost:8080/"
        },
        "outputId": "22f1248b-bfcf-45f8-975c-8da1f7dcdadb"
      },
      "outputs": [
        {
          "output_type": "stream",
          "name": "stdout",
          "text": [
            "Informasi Kelas : \n"
          ]
        },
        {
          "output_type": "execute_result",
          "data": {
            "text/plain": [
              "array(['BENIGN', 'ATTACK'], dtype=object)"
            ]
          },
          "metadata": {},
          "execution_count": 48
        }
      ],
      "execution_count": 48
    },
    {
      "cell_type": "markdown",
      "source": [
        "## Informasi Umum Dataset"
      ],
      "metadata": {
        "id": "0OLQFu6TIzc1"
      }
    },
    {
      "cell_type": "code",
      "source": [
        "# Menampilkan informasi dataset\n",
        "print(\"\\nInformasi Dataset:\")\n",
        "print(f\"\\nJumlah total data: {len(df)}\")\n",
        "print(f\"Jumlah fitur : {len(df.columns)}\")\n",
        "print(\"\\nDistribusi Label sebelum preprocessing:\")\n",
        "\n",
        "# tabel distribusi label\n",
        "def create_distribution_table(df):\n",
        "    label_dist = pd.DataFrame(df['Label'].value_counts())\n",
        "    label_dist['percentage'] = df['Label'].value_counts()/len(df)\n",
        "    return label_dist\n",
        "\n",
        "create_distribution_table(df)"
      ],
      "metadata": {
        "trusted": true,
        "id": "zlc3i5stIzc2",
        "colab": {
          "base_uri": "https://localhost:8080/",
          "height": 265
        },
        "outputId": "4a1c8bac-f954-4114-f58b-316fbf3b2ada"
      },
      "outputs": [
        {
          "output_type": "stream",
          "name": "stdout",
          "text": [
            "\n",
            "Informasi Dataset:\n",
            "\n",
            "Jumlah total data: 1776724\n",
            "Jumlah fitur : 78\n",
            "\n",
            "Distribusi Label sebelum preprocessing:\n"
          ]
        },
        {
          "output_type": "execute_result",
          "data": {
            "text/plain": [
              "          count  percentage\n",
              "Label                      \n",
              "BENIGN  1440219    0.810604\n",
              "ATTACK   336505    0.189396"
            ],
            "text/html": [
              "\n",
              "  <div id=\"df-79bc86ec-a778-44fd-bbfe-6e579f6948ab\" class=\"colab-df-container\">\n",
              "    <div>\n",
              "<style scoped>\n",
              "    .dataframe tbody tr th:only-of-type {\n",
              "        vertical-align: middle;\n",
              "    }\n",
              "\n",
              "    .dataframe tbody tr th {\n",
              "        vertical-align: top;\n",
              "    }\n",
              "\n",
              "    .dataframe thead th {\n",
              "        text-align: right;\n",
              "    }\n",
              "</style>\n",
              "<table border=\"1\" class=\"dataframe\">\n",
              "  <thead>\n",
              "    <tr style=\"text-align: right;\">\n",
              "      <th></th>\n",
              "      <th>count</th>\n",
              "      <th>percentage</th>\n",
              "    </tr>\n",
              "    <tr>\n",
              "      <th>Label</th>\n",
              "      <th></th>\n",
              "      <th></th>\n",
              "    </tr>\n",
              "  </thead>\n",
              "  <tbody>\n",
              "    <tr>\n",
              "      <th>BENIGN</th>\n",
              "      <td>1440219</td>\n",
              "      <td>0.810604</td>\n",
              "    </tr>\n",
              "    <tr>\n",
              "      <th>ATTACK</th>\n",
              "      <td>336505</td>\n",
              "      <td>0.189396</td>\n",
              "    </tr>\n",
              "  </tbody>\n",
              "</table>\n",
              "</div>\n",
              "    <div class=\"colab-df-buttons\">\n",
              "\n",
              "  <div class=\"colab-df-container\">\n",
              "    <button class=\"colab-df-convert\" onclick=\"convertToInteractive('df-79bc86ec-a778-44fd-bbfe-6e579f6948ab')\"\n",
              "            title=\"Convert this dataframe to an interactive table.\"\n",
              "            style=\"display:none;\">\n",
              "\n",
              "  <svg xmlns=\"http://www.w3.org/2000/svg\" height=\"24px\" viewBox=\"0 -960 960 960\">\n",
              "    <path d=\"M120-120v-720h720v720H120Zm60-500h600v-160H180v160Zm220 220h160v-160H400v160Zm0 220h160v-160H400v160ZM180-400h160v-160H180v160Zm440 0h160v-160H620v160ZM180-180h160v-160H180v160Zm440 0h160v-160H620v160Z\"/>\n",
              "  </svg>\n",
              "    </button>\n",
              "\n",
              "  <style>\n",
              "    .colab-df-container {\n",
              "      display:flex;\n",
              "      gap: 12px;\n",
              "    }\n",
              "\n",
              "    .colab-df-convert {\n",
              "      background-color: #E8F0FE;\n",
              "      border: none;\n",
              "      border-radius: 50%;\n",
              "      cursor: pointer;\n",
              "      display: none;\n",
              "      fill: #1967D2;\n",
              "      height: 32px;\n",
              "      padding: 0 0 0 0;\n",
              "      width: 32px;\n",
              "    }\n",
              "\n",
              "    .colab-df-convert:hover {\n",
              "      background-color: #E2EBFA;\n",
              "      box-shadow: 0px 1px 2px rgba(60, 64, 67, 0.3), 0px 1px 3px 1px rgba(60, 64, 67, 0.15);\n",
              "      fill: #174EA6;\n",
              "    }\n",
              "\n",
              "    .colab-df-buttons div {\n",
              "      margin-bottom: 4px;\n",
              "    }\n",
              "\n",
              "    [theme=dark] .colab-df-convert {\n",
              "      background-color: #3B4455;\n",
              "      fill: #D2E3FC;\n",
              "    }\n",
              "\n",
              "    [theme=dark] .colab-df-convert:hover {\n",
              "      background-color: #434B5C;\n",
              "      box-shadow: 0px 1px 3px 1px rgba(0, 0, 0, 0.15);\n",
              "      filter: drop-shadow(0px 1px 2px rgba(0, 0, 0, 0.3));\n",
              "      fill: #FFFFFF;\n",
              "    }\n",
              "  </style>\n",
              "\n",
              "    <script>\n",
              "      const buttonEl =\n",
              "        document.querySelector('#df-79bc86ec-a778-44fd-bbfe-6e579f6948ab button.colab-df-convert');\n",
              "      buttonEl.style.display =\n",
              "        google.colab.kernel.accessAllowed ? 'block' : 'none';\n",
              "\n",
              "      async function convertToInteractive(key) {\n",
              "        const element = document.querySelector('#df-79bc86ec-a778-44fd-bbfe-6e579f6948ab');\n",
              "        const dataTable =\n",
              "          await google.colab.kernel.invokeFunction('convertToInteractive',\n",
              "                                                    [key], {});\n",
              "        if (!dataTable) return;\n",
              "\n",
              "        const docLinkHtml = 'Like what you see? Visit the ' +\n",
              "          '<a target=\"_blank\" href=https://colab.research.google.com/notebooks/data_table.ipynb>data table notebook</a>'\n",
              "          + ' to learn more about interactive tables.';\n",
              "        element.innerHTML = '';\n",
              "        dataTable['output_type'] = 'display_data';\n",
              "        await google.colab.output.renderOutput(dataTable, element);\n",
              "        const docLink = document.createElement('div');\n",
              "        docLink.innerHTML = docLinkHtml;\n",
              "        element.appendChild(docLink);\n",
              "      }\n",
              "    </script>\n",
              "  </div>\n",
              "\n",
              "\n",
              "    <div id=\"df-db17e917-f5c5-4249-bf41-fdc87446117a\">\n",
              "      <button class=\"colab-df-quickchart\" onclick=\"quickchart('df-db17e917-f5c5-4249-bf41-fdc87446117a')\"\n",
              "                title=\"Suggest charts\"\n",
              "                style=\"display:none;\">\n",
              "\n",
              "<svg xmlns=\"http://www.w3.org/2000/svg\" height=\"24px\"viewBox=\"0 0 24 24\"\n",
              "     width=\"24px\">\n",
              "    <g>\n",
              "        <path d=\"M19 3H5c-1.1 0-2 .9-2 2v14c0 1.1.9 2 2 2h14c1.1 0 2-.9 2-2V5c0-1.1-.9-2-2-2zM9 17H7v-7h2v7zm4 0h-2V7h2v10zm4 0h-2v-4h2v4z\"/>\n",
              "    </g>\n",
              "</svg>\n",
              "      </button>\n",
              "\n",
              "<style>\n",
              "  .colab-df-quickchart {\n",
              "      --bg-color: #E8F0FE;\n",
              "      --fill-color: #1967D2;\n",
              "      --hover-bg-color: #E2EBFA;\n",
              "      --hover-fill-color: #174EA6;\n",
              "      --disabled-fill-color: #AAA;\n",
              "      --disabled-bg-color: #DDD;\n",
              "  }\n",
              "\n",
              "  [theme=dark] .colab-df-quickchart {\n",
              "      --bg-color: #3B4455;\n",
              "      --fill-color: #D2E3FC;\n",
              "      --hover-bg-color: #434B5C;\n",
              "      --hover-fill-color: #FFFFFF;\n",
              "      --disabled-bg-color: #3B4455;\n",
              "      --disabled-fill-color: #666;\n",
              "  }\n",
              "\n",
              "  .colab-df-quickchart {\n",
              "    background-color: var(--bg-color);\n",
              "    border: none;\n",
              "    border-radius: 50%;\n",
              "    cursor: pointer;\n",
              "    display: none;\n",
              "    fill: var(--fill-color);\n",
              "    height: 32px;\n",
              "    padding: 0;\n",
              "    width: 32px;\n",
              "  }\n",
              "\n",
              "  .colab-df-quickchart:hover {\n",
              "    background-color: var(--hover-bg-color);\n",
              "    box-shadow: 0 1px 2px rgba(60, 64, 67, 0.3), 0 1px 3px 1px rgba(60, 64, 67, 0.15);\n",
              "    fill: var(--button-hover-fill-color);\n",
              "  }\n",
              "\n",
              "  .colab-df-quickchart-complete:disabled,\n",
              "  .colab-df-quickchart-complete:disabled:hover {\n",
              "    background-color: var(--disabled-bg-color);\n",
              "    fill: var(--disabled-fill-color);\n",
              "    box-shadow: none;\n",
              "  }\n",
              "\n",
              "  .colab-df-spinner {\n",
              "    border: 2px solid var(--fill-color);\n",
              "    border-color: transparent;\n",
              "    border-bottom-color: var(--fill-color);\n",
              "    animation:\n",
              "      spin 1s steps(1) infinite;\n",
              "  }\n",
              "\n",
              "  @keyframes spin {\n",
              "    0% {\n",
              "      border-color: transparent;\n",
              "      border-bottom-color: var(--fill-color);\n",
              "      border-left-color: var(--fill-color);\n",
              "    }\n",
              "    20% {\n",
              "      border-color: transparent;\n",
              "      border-left-color: var(--fill-color);\n",
              "      border-top-color: var(--fill-color);\n",
              "    }\n",
              "    30% {\n",
              "      border-color: transparent;\n",
              "      border-left-color: var(--fill-color);\n",
              "      border-top-color: var(--fill-color);\n",
              "      border-right-color: var(--fill-color);\n",
              "    }\n",
              "    40% {\n",
              "      border-color: transparent;\n",
              "      border-right-color: var(--fill-color);\n",
              "      border-top-color: var(--fill-color);\n",
              "    }\n",
              "    60% {\n",
              "      border-color: transparent;\n",
              "      border-right-color: var(--fill-color);\n",
              "    }\n",
              "    80% {\n",
              "      border-color: transparent;\n",
              "      border-right-color: var(--fill-color);\n",
              "      border-bottom-color: var(--fill-color);\n",
              "    }\n",
              "    90% {\n",
              "      border-color: transparent;\n",
              "      border-bottom-color: var(--fill-color);\n",
              "    }\n",
              "  }\n",
              "</style>\n",
              "\n",
              "      <script>\n",
              "        async function quickchart(key) {\n",
              "          const quickchartButtonEl =\n",
              "            document.querySelector('#' + key + ' button');\n",
              "          quickchartButtonEl.disabled = true;  // To prevent multiple clicks.\n",
              "          quickchartButtonEl.classList.add('colab-df-spinner');\n",
              "          try {\n",
              "            const charts = await google.colab.kernel.invokeFunction(\n",
              "                'suggestCharts', [key], {});\n",
              "          } catch (error) {\n",
              "            console.error('Error during call to suggestCharts:', error);\n",
              "          }\n",
              "          quickchartButtonEl.classList.remove('colab-df-spinner');\n",
              "          quickchartButtonEl.classList.add('colab-df-quickchart-complete');\n",
              "        }\n",
              "        (() => {\n",
              "          let quickchartButtonEl =\n",
              "            document.querySelector('#df-db17e917-f5c5-4249-bf41-fdc87446117a button');\n",
              "          quickchartButtonEl.style.display =\n",
              "            google.colab.kernel.accessAllowed ? 'block' : 'none';\n",
              "        })();\n",
              "      </script>\n",
              "    </div>\n",
              "\n",
              "    </div>\n",
              "  </div>\n"
            ],
            "application/vnd.google.colaboratory.intrinsic+json": {
              "type": "dataframe",
              "summary": "{\n  \"name\": \"create_distribution_table(df)\",\n  \"rows\": 2,\n  \"fields\": [\n    {\n      \"column\": \"Label\",\n      \"properties\": {\n        \"dtype\": \"string\",\n        \"num_unique_values\": 2,\n        \"samples\": [\n          \"ATTACK\",\n          \"BENIGN\"\n        ],\n        \"semantic_type\": \"\",\n        \"description\": \"\"\n      }\n    },\n    {\n      \"column\": \"count\",\n      \"properties\": {\n        \"dtype\": \"number\",\n        \"std\": 780443,\n        \"min\": 336505,\n        \"max\": 1440219,\n        \"num_unique_values\": 2,\n        \"samples\": [\n          336505,\n          1440219\n        ],\n        \"semantic_type\": \"\",\n        \"description\": \"\"\n      }\n    },\n    {\n      \"column\": \"percentage\",\n      \"properties\": {\n        \"dtype\": \"number\",\n        \"std\": 0.43925992663493546,\n        \"min\": 0.18939632717293176,\n        \"max\": 0.8106036728270682,\n        \"num_unique_values\": 2,\n        \"samples\": [\n          0.18939632717293176,\n          0.8106036728270682\n        ],\n        \"semantic_type\": \"\",\n        \"description\": \"\"\n      }\n    }\n  ]\n}"
            }
          },
          "metadata": {},
          "execution_count": 49
        }
      ],
      "execution_count": 49
    },
    {
      "cell_type": "code",
      "source": [
        "df"
      ],
      "metadata": {
        "trusted": true,
        "id": "iOSrfGf2Izc2",
        "colab": {
          "base_uri": "https://localhost:8080/",
          "height": 495
        },
        "outputId": "1fd98d82-a97b-4690-db62-be15f4e9ab30"
      },
      "outputs": [
        {
          "output_type": "execute_result",
          "data": {
            "text/plain": [
              "         Flow Duration  Total Fwd Packets  Total Backward Packets  \\\n",
              "0                  640                  7                       4   \n",
              "1                  900                  9                       4   \n",
              "2                 1205                  7                       4   \n",
              "3                  511                  7                       4   \n",
              "4                  773                  9                       4   \n",
              "...                ...                ...                     ...   \n",
              "2300812              4                  2                       0   \n",
              "2300814             22                  1                       1   \n",
              "2300816             45                  1                       1   \n",
              "2300823             48                  2                       0   \n",
              "2300824             68                  1                       1   \n",
              "\n",
              "         Total Length of Fwd Packets  Total Length of Bwd Packets  \\\n",
              "0                                440                          358   \n",
              "1                                600                         2944   \n",
              "2                               2776                         2830   \n",
              "3                                452                          370   \n",
              "4                                612                         2944   \n",
              "...                              ...                          ...   \n",
              "2300812                            0                            0   \n",
              "2300814                            0                            0   \n",
              "2300816                            0                            0   \n",
              "2300823                           12                            0   \n",
              "2300824                            6                            6   \n",
              "\n",
              "         Fwd Packet Length Max  Fwd Packet Length Min  Fwd Packet Length Mean  \\\n",
              "0                          220                      0               62.857143   \n",
              "1                          300                      0               66.666667   \n",
              "2                         1388                      0              396.571429   \n",
              "3                          226                      0               64.571429   \n",
              "4                          306                      0               68.000000   \n",
              "...                        ...                    ...                     ...   \n",
              "2300812                      0                      0                0.000000   \n",
              "2300814                      0                      0                0.000000   \n",
              "2300816                      0                      0                0.000000   \n",
              "2300823                      6                      6                6.000000   \n",
              "2300824                      6                      6                6.000000   \n",
              "\n",
              "         Fwd Packet Length Std  Bwd Packet Length Max  ...  \\\n",
              "0                   107.349008                    179  ...   \n",
              "1                   132.287566                   1472  ...   \n",
              "2                   677.274651                   1415  ...   \n",
              "3                   110.276708                    185  ...   \n",
              "4                   134.933317                   1472  ...   \n",
              "...                        ...                    ...  ...   \n",
              "2300812               0.000000                      0  ...   \n",
              "2300814               0.000000                      0  ...   \n",
              "2300816               0.000000                      0  ...   \n",
              "2300823               0.000000                      0  ...   \n",
              "2300824               0.000000                      6  ...   \n",
              "\n",
              "         min_seg_size_forward  Active Mean  Active Std  Active Max  \\\n",
              "0                          20          0.0         0.0           0   \n",
              "1                          20          0.0         0.0           0   \n",
              "2                          20          0.0         0.0           0   \n",
              "3                          20          0.0         0.0           0   \n",
              "4                          20          0.0         0.0           0   \n",
              "...                       ...          ...         ...         ...   \n",
              "2300812                    32          0.0         0.0           0   \n",
              "2300814                    32          0.0         0.0           0   \n",
              "2300816                    32          0.0         0.0           0   \n",
              "2300823                    20          0.0         0.0           0   \n",
              "2300824                    20          0.0         0.0           0   \n",
              "\n",
              "         Active Min  Idle Mean  Idle Std  Idle Max  Idle Min   Label  \n",
              "0                 0        0.0       0.0         0         0  BENIGN  \n",
              "1                 0        0.0       0.0         0         0  BENIGN  \n",
              "2                 0        0.0       0.0         0         0  BENIGN  \n",
              "3                 0        0.0       0.0         0         0  BENIGN  \n",
              "4                 0        0.0       0.0         0         0  BENIGN  \n",
              "...             ...        ...       ...       ...       ...     ...  \n",
              "2300812           0        0.0       0.0         0         0  BENIGN  \n",
              "2300814           0        0.0       0.0         0         0  BENIGN  \n",
              "2300816           0        0.0       0.0         0         0  BENIGN  \n",
              "2300823           0        0.0       0.0         0         0  BENIGN  \n",
              "2300824           0        0.0       0.0         0         0  BENIGN  \n",
              "\n",
              "[1776724 rows x 78 columns]"
            ],
            "text/html": [
              "\n",
              "  <div id=\"df-ff4a35bb-deca-4cf3-a944-bb8b644625a2\" class=\"colab-df-container\">\n",
              "    <div>\n",
              "<style scoped>\n",
              "    .dataframe tbody tr th:only-of-type {\n",
              "        vertical-align: middle;\n",
              "    }\n",
              "\n",
              "    .dataframe tbody tr th {\n",
              "        vertical-align: top;\n",
              "    }\n",
              "\n",
              "    .dataframe thead th {\n",
              "        text-align: right;\n",
              "    }\n",
              "</style>\n",
              "<table border=\"1\" class=\"dataframe\">\n",
              "  <thead>\n",
              "    <tr style=\"text-align: right;\">\n",
              "      <th></th>\n",
              "      <th>Flow Duration</th>\n",
              "      <th>Total Fwd Packets</th>\n",
              "      <th>Total Backward Packets</th>\n",
              "      <th>Total Length of Fwd Packets</th>\n",
              "      <th>Total Length of Bwd Packets</th>\n",
              "      <th>Fwd Packet Length Max</th>\n",
              "      <th>Fwd Packet Length Min</th>\n",
              "      <th>Fwd Packet Length Mean</th>\n",
              "      <th>Fwd Packet Length Std</th>\n",
              "      <th>Bwd Packet Length Max</th>\n",
              "      <th>...</th>\n",
              "      <th>min_seg_size_forward</th>\n",
              "      <th>Active Mean</th>\n",
              "      <th>Active Std</th>\n",
              "      <th>Active Max</th>\n",
              "      <th>Active Min</th>\n",
              "      <th>Idle Mean</th>\n",
              "      <th>Idle Std</th>\n",
              "      <th>Idle Max</th>\n",
              "      <th>Idle Min</th>\n",
              "      <th>Label</th>\n",
              "    </tr>\n",
              "  </thead>\n",
              "  <tbody>\n",
              "    <tr>\n",
              "      <th>0</th>\n",
              "      <td>640</td>\n",
              "      <td>7</td>\n",
              "      <td>4</td>\n",
              "      <td>440</td>\n",
              "      <td>358</td>\n",
              "      <td>220</td>\n",
              "      <td>0</td>\n",
              "      <td>62.857143</td>\n",
              "      <td>107.349008</td>\n",
              "      <td>179</td>\n",
              "      <td>...</td>\n",
              "      <td>20</td>\n",
              "      <td>0.0</td>\n",
              "      <td>0.0</td>\n",
              "      <td>0</td>\n",
              "      <td>0</td>\n",
              "      <td>0.0</td>\n",
              "      <td>0.0</td>\n",
              "      <td>0</td>\n",
              "      <td>0</td>\n",
              "      <td>BENIGN</td>\n",
              "    </tr>\n",
              "    <tr>\n",
              "      <th>1</th>\n",
              "      <td>900</td>\n",
              "      <td>9</td>\n",
              "      <td>4</td>\n",
              "      <td>600</td>\n",
              "      <td>2944</td>\n",
              "      <td>300</td>\n",
              "      <td>0</td>\n",
              "      <td>66.666667</td>\n",
              "      <td>132.287566</td>\n",
              "      <td>1472</td>\n",
              "      <td>...</td>\n",
              "      <td>20</td>\n",
              "      <td>0.0</td>\n",
              "      <td>0.0</td>\n",
              "      <td>0</td>\n",
              "      <td>0</td>\n",
              "      <td>0.0</td>\n",
              "      <td>0.0</td>\n",
              "      <td>0</td>\n",
              "      <td>0</td>\n",
              "      <td>BENIGN</td>\n",
              "    </tr>\n",
              "    <tr>\n",
              "      <th>2</th>\n",
              "      <td>1205</td>\n",
              "      <td>7</td>\n",
              "      <td>4</td>\n",
              "      <td>2776</td>\n",
              "      <td>2830</td>\n",
              "      <td>1388</td>\n",
              "      <td>0</td>\n",
              "      <td>396.571429</td>\n",
              "      <td>677.274651</td>\n",
              "      <td>1415</td>\n",
              "      <td>...</td>\n",
              "      <td>20</td>\n",
              "      <td>0.0</td>\n",
              "      <td>0.0</td>\n",
              "      <td>0</td>\n",
              "      <td>0</td>\n",
              "      <td>0.0</td>\n",
              "      <td>0.0</td>\n",
              "      <td>0</td>\n",
              "      <td>0</td>\n",
              "      <td>BENIGN</td>\n",
              "    </tr>\n",
              "    <tr>\n",
              "      <th>3</th>\n",
              "      <td>511</td>\n",
              "      <td>7</td>\n",
              "      <td>4</td>\n",
              "      <td>452</td>\n",
              "      <td>370</td>\n",
              "      <td>226</td>\n",
              "      <td>0</td>\n",
              "      <td>64.571429</td>\n",
              "      <td>110.276708</td>\n",
              "      <td>185</td>\n",
              "      <td>...</td>\n",
              "      <td>20</td>\n",
              "      <td>0.0</td>\n",
              "      <td>0.0</td>\n",
              "      <td>0</td>\n",
              "      <td>0</td>\n",
              "      <td>0.0</td>\n",
              "      <td>0.0</td>\n",
              "      <td>0</td>\n",
              "      <td>0</td>\n",
              "      <td>BENIGN</td>\n",
              "    </tr>\n",
              "    <tr>\n",
              "      <th>4</th>\n",
              "      <td>773</td>\n",
              "      <td>9</td>\n",
              "      <td>4</td>\n",
              "      <td>612</td>\n",
              "      <td>2944</td>\n",
              "      <td>306</td>\n",
              "      <td>0</td>\n",
              "      <td>68.000000</td>\n",
              "      <td>134.933317</td>\n",
              "      <td>1472</td>\n",
              "      <td>...</td>\n",
              "      <td>20</td>\n",
              "      <td>0.0</td>\n",
              "      <td>0.0</td>\n",
              "      <td>0</td>\n",
              "      <td>0</td>\n",
              "      <td>0.0</td>\n",
              "      <td>0.0</td>\n",
              "      <td>0</td>\n",
              "      <td>0</td>\n",
              "      <td>BENIGN</td>\n",
              "    </tr>\n",
              "    <tr>\n",
              "      <th>...</th>\n",
              "      <td>...</td>\n",
              "      <td>...</td>\n",
              "      <td>...</td>\n",
              "      <td>...</td>\n",
              "      <td>...</td>\n",
              "      <td>...</td>\n",
              "      <td>...</td>\n",
              "      <td>...</td>\n",
              "      <td>...</td>\n",
              "      <td>...</td>\n",
              "      <td>...</td>\n",
              "      <td>...</td>\n",
              "      <td>...</td>\n",
              "      <td>...</td>\n",
              "      <td>...</td>\n",
              "      <td>...</td>\n",
              "      <td>...</td>\n",
              "      <td>...</td>\n",
              "      <td>...</td>\n",
              "      <td>...</td>\n",
              "      <td>...</td>\n",
              "    </tr>\n",
              "    <tr>\n",
              "      <th>2300812</th>\n",
              "      <td>4</td>\n",
              "      <td>2</td>\n",
              "      <td>0</td>\n",
              "      <td>0</td>\n",
              "      <td>0</td>\n",
              "      <td>0</td>\n",
              "      <td>0</td>\n",
              "      <td>0.000000</td>\n",
              "      <td>0.000000</td>\n",
              "      <td>0</td>\n",
              "      <td>...</td>\n",
              "      <td>32</td>\n",
              "      <td>0.0</td>\n",
              "      <td>0.0</td>\n",
              "      <td>0</td>\n",
              "      <td>0</td>\n",
              "      <td>0.0</td>\n",
              "      <td>0.0</td>\n",
              "      <td>0</td>\n",
              "      <td>0</td>\n",
              "      <td>BENIGN</td>\n",
              "    </tr>\n",
              "    <tr>\n",
              "      <th>2300814</th>\n",
              "      <td>22</td>\n",
              "      <td>1</td>\n",
              "      <td>1</td>\n",
              "      <td>0</td>\n",
              "      <td>0</td>\n",
              "      <td>0</td>\n",
              "      <td>0</td>\n",
              "      <td>0.000000</td>\n",
              "      <td>0.000000</td>\n",
              "      <td>0</td>\n",
              "      <td>...</td>\n",
              "      <td>32</td>\n",
              "      <td>0.0</td>\n",
              "      <td>0.0</td>\n",
              "      <td>0</td>\n",
              "      <td>0</td>\n",
              "      <td>0.0</td>\n",
              "      <td>0.0</td>\n",
              "      <td>0</td>\n",
              "      <td>0</td>\n",
              "      <td>BENIGN</td>\n",
              "    </tr>\n",
              "    <tr>\n",
              "      <th>2300816</th>\n",
              "      <td>45</td>\n",
              "      <td>1</td>\n",
              "      <td>1</td>\n",
              "      <td>0</td>\n",
              "      <td>0</td>\n",
              "      <td>0</td>\n",
              "      <td>0</td>\n",
              "      <td>0.000000</td>\n",
              "      <td>0.000000</td>\n",
              "      <td>0</td>\n",
              "      <td>...</td>\n",
              "      <td>32</td>\n",
              "      <td>0.0</td>\n",
              "      <td>0.0</td>\n",
              "      <td>0</td>\n",
              "      <td>0</td>\n",
              "      <td>0.0</td>\n",
              "      <td>0.0</td>\n",
              "      <td>0</td>\n",
              "      <td>0</td>\n",
              "      <td>BENIGN</td>\n",
              "    </tr>\n",
              "    <tr>\n",
              "      <th>2300823</th>\n",
              "      <td>48</td>\n",
              "      <td>2</td>\n",
              "      <td>0</td>\n",
              "      <td>12</td>\n",
              "      <td>0</td>\n",
              "      <td>6</td>\n",
              "      <td>6</td>\n",
              "      <td>6.000000</td>\n",
              "      <td>0.000000</td>\n",
              "      <td>0</td>\n",
              "      <td>...</td>\n",
              "      <td>20</td>\n",
              "      <td>0.0</td>\n",
              "      <td>0.0</td>\n",
              "      <td>0</td>\n",
              "      <td>0</td>\n",
              "      <td>0.0</td>\n",
              "      <td>0.0</td>\n",
              "      <td>0</td>\n",
              "      <td>0</td>\n",
              "      <td>BENIGN</td>\n",
              "    </tr>\n",
              "    <tr>\n",
              "      <th>2300824</th>\n",
              "      <td>68</td>\n",
              "      <td>1</td>\n",
              "      <td>1</td>\n",
              "      <td>6</td>\n",
              "      <td>6</td>\n",
              "      <td>6</td>\n",
              "      <td>6</td>\n",
              "      <td>6.000000</td>\n",
              "      <td>0.000000</td>\n",
              "      <td>6</td>\n",
              "      <td>...</td>\n",
              "      <td>20</td>\n",
              "      <td>0.0</td>\n",
              "      <td>0.0</td>\n",
              "      <td>0</td>\n",
              "      <td>0</td>\n",
              "      <td>0.0</td>\n",
              "      <td>0.0</td>\n",
              "      <td>0</td>\n",
              "      <td>0</td>\n",
              "      <td>BENIGN</td>\n",
              "    </tr>\n",
              "  </tbody>\n",
              "</table>\n",
              "<p>1776724 rows × 78 columns</p>\n",
              "</div>\n",
              "    <div class=\"colab-df-buttons\">\n",
              "\n",
              "  <div class=\"colab-df-container\">\n",
              "    <button class=\"colab-df-convert\" onclick=\"convertToInteractive('df-ff4a35bb-deca-4cf3-a944-bb8b644625a2')\"\n",
              "            title=\"Convert this dataframe to an interactive table.\"\n",
              "            style=\"display:none;\">\n",
              "\n",
              "  <svg xmlns=\"http://www.w3.org/2000/svg\" height=\"24px\" viewBox=\"0 -960 960 960\">\n",
              "    <path d=\"M120-120v-720h720v720H120Zm60-500h600v-160H180v160Zm220 220h160v-160H400v160Zm0 220h160v-160H400v160ZM180-400h160v-160H180v160Zm440 0h160v-160H620v160ZM180-180h160v-160H180v160Zm440 0h160v-160H620v160Z\"/>\n",
              "  </svg>\n",
              "    </button>\n",
              "\n",
              "  <style>\n",
              "    .colab-df-container {\n",
              "      display:flex;\n",
              "      gap: 12px;\n",
              "    }\n",
              "\n",
              "    .colab-df-convert {\n",
              "      background-color: #E8F0FE;\n",
              "      border: none;\n",
              "      border-radius: 50%;\n",
              "      cursor: pointer;\n",
              "      display: none;\n",
              "      fill: #1967D2;\n",
              "      height: 32px;\n",
              "      padding: 0 0 0 0;\n",
              "      width: 32px;\n",
              "    }\n",
              "\n",
              "    .colab-df-convert:hover {\n",
              "      background-color: #E2EBFA;\n",
              "      box-shadow: 0px 1px 2px rgba(60, 64, 67, 0.3), 0px 1px 3px 1px rgba(60, 64, 67, 0.15);\n",
              "      fill: #174EA6;\n",
              "    }\n",
              "\n",
              "    .colab-df-buttons div {\n",
              "      margin-bottom: 4px;\n",
              "    }\n",
              "\n",
              "    [theme=dark] .colab-df-convert {\n",
              "      background-color: #3B4455;\n",
              "      fill: #D2E3FC;\n",
              "    }\n",
              "\n",
              "    [theme=dark] .colab-df-convert:hover {\n",
              "      background-color: #434B5C;\n",
              "      box-shadow: 0px 1px 3px 1px rgba(0, 0, 0, 0.15);\n",
              "      filter: drop-shadow(0px 1px 2px rgba(0, 0, 0, 0.3));\n",
              "      fill: #FFFFFF;\n",
              "    }\n",
              "  </style>\n",
              "\n",
              "    <script>\n",
              "      const buttonEl =\n",
              "        document.querySelector('#df-ff4a35bb-deca-4cf3-a944-bb8b644625a2 button.colab-df-convert');\n",
              "      buttonEl.style.display =\n",
              "        google.colab.kernel.accessAllowed ? 'block' : 'none';\n",
              "\n",
              "      async function convertToInteractive(key) {\n",
              "        const element = document.querySelector('#df-ff4a35bb-deca-4cf3-a944-bb8b644625a2');\n",
              "        const dataTable =\n",
              "          await google.colab.kernel.invokeFunction('convertToInteractive',\n",
              "                                                    [key], {});\n",
              "        if (!dataTable) return;\n",
              "\n",
              "        const docLinkHtml = 'Like what you see? Visit the ' +\n",
              "          '<a target=\"_blank\" href=https://colab.research.google.com/notebooks/data_table.ipynb>data table notebook</a>'\n",
              "          + ' to learn more about interactive tables.';\n",
              "        element.innerHTML = '';\n",
              "        dataTable['output_type'] = 'display_data';\n",
              "        await google.colab.output.renderOutput(dataTable, element);\n",
              "        const docLink = document.createElement('div');\n",
              "        docLink.innerHTML = docLinkHtml;\n",
              "        element.appendChild(docLink);\n",
              "      }\n",
              "    </script>\n",
              "  </div>\n",
              "\n",
              "\n",
              "    <div id=\"df-7f4e6c0c-02c1-480b-ade5-b094b3e491ba\">\n",
              "      <button class=\"colab-df-quickchart\" onclick=\"quickchart('df-7f4e6c0c-02c1-480b-ade5-b094b3e491ba')\"\n",
              "                title=\"Suggest charts\"\n",
              "                style=\"display:none;\">\n",
              "\n",
              "<svg xmlns=\"http://www.w3.org/2000/svg\" height=\"24px\"viewBox=\"0 0 24 24\"\n",
              "     width=\"24px\">\n",
              "    <g>\n",
              "        <path d=\"M19 3H5c-1.1 0-2 .9-2 2v14c0 1.1.9 2 2 2h14c1.1 0 2-.9 2-2V5c0-1.1-.9-2-2-2zM9 17H7v-7h2v7zm4 0h-2V7h2v10zm4 0h-2v-4h2v4z\"/>\n",
              "    </g>\n",
              "</svg>\n",
              "      </button>\n",
              "\n",
              "<style>\n",
              "  .colab-df-quickchart {\n",
              "      --bg-color: #E8F0FE;\n",
              "      --fill-color: #1967D2;\n",
              "      --hover-bg-color: #E2EBFA;\n",
              "      --hover-fill-color: #174EA6;\n",
              "      --disabled-fill-color: #AAA;\n",
              "      --disabled-bg-color: #DDD;\n",
              "  }\n",
              "\n",
              "  [theme=dark] .colab-df-quickchart {\n",
              "      --bg-color: #3B4455;\n",
              "      --fill-color: #D2E3FC;\n",
              "      --hover-bg-color: #434B5C;\n",
              "      --hover-fill-color: #FFFFFF;\n",
              "      --disabled-bg-color: #3B4455;\n",
              "      --disabled-fill-color: #666;\n",
              "  }\n",
              "\n",
              "  .colab-df-quickchart {\n",
              "    background-color: var(--bg-color);\n",
              "    border: none;\n",
              "    border-radius: 50%;\n",
              "    cursor: pointer;\n",
              "    display: none;\n",
              "    fill: var(--fill-color);\n",
              "    height: 32px;\n",
              "    padding: 0;\n",
              "    width: 32px;\n",
              "  }\n",
              "\n",
              "  .colab-df-quickchart:hover {\n",
              "    background-color: var(--hover-bg-color);\n",
              "    box-shadow: 0 1px 2px rgba(60, 64, 67, 0.3), 0 1px 3px 1px rgba(60, 64, 67, 0.15);\n",
              "    fill: var(--button-hover-fill-color);\n",
              "  }\n",
              "\n",
              "  .colab-df-quickchart-complete:disabled,\n",
              "  .colab-df-quickchart-complete:disabled:hover {\n",
              "    background-color: var(--disabled-bg-color);\n",
              "    fill: var(--disabled-fill-color);\n",
              "    box-shadow: none;\n",
              "  }\n",
              "\n",
              "  .colab-df-spinner {\n",
              "    border: 2px solid var(--fill-color);\n",
              "    border-color: transparent;\n",
              "    border-bottom-color: var(--fill-color);\n",
              "    animation:\n",
              "      spin 1s steps(1) infinite;\n",
              "  }\n",
              "\n",
              "  @keyframes spin {\n",
              "    0% {\n",
              "      border-color: transparent;\n",
              "      border-bottom-color: var(--fill-color);\n",
              "      border-left-color: var(--fill-color);\n",
              "    }\n",
              "    20% {\n",
              "      border-color: transparent;\n",
              "      border-left-color: var(--fill-color);\n",
              "      border-top-color: var(--fill-color);\n",
              "    }\n",
              "    30% {\n",
              "      border-color: transparent;\n",
              "      border-left-color: var(--fill-color);\n",
              "      border-top-color: var(--fill-color);\n",
              "      border-right-color: var(--fill-color);\n",
              "    }\n",
              "    40% {\n",
              "      border-color: transparent;\n",
              "      border-right-color: var(--fill-color);\n",
              "      border-top-color: var(--fill-color);\n",
              "    }\n",
              "    60% {\n",
              "      border-color: transparent;\n",
              "      border-right-color: var(--fill-color);\n",
              "    }\n",
              "    80% {\n",
              "      border-color: transparent;\n",
              "      border-right-color: var(--fill-color);\n",
              "      border-bottom-color: var(--fill-color);\n",
              "    }\n",
              "    90% {\n",
              "      border-color: transparent;\n",
              "      border-bottom-color: var(--fill-color);\n",
              "    }\n",
              "  }\n",
              "</style>\n",
              "\n",
              "      <script>\n",
              "        async function quickchart(key) {\n",
              "          const quickchartButtonEl =\n",
              "            document.querySelector('#' + key + ' button');\n",
              "          quickchartButtonEl.disabled = true;  // To prevent multiple clicks.\n",
              "          quickchartButtonEl.classList.add('colab-df-spinner');\n",
              "          try {\n",
              "            const charts = await google.colab.kernel.invokeFunction(\n",
              "                'suggestCharts', [key], {});\n",
              "          } catch (error) {\n",
              "            console.error('Error during call to suggestCharts:', error);\n",
              "          }\n",
              "          quickchartButtonEl.classList.remove('colab-df-spinner');\n",
              "          quickchartButtonEl.classList.add('colab-df-quickchart-complete');\n",
              "        }\n",
              "        (() => {\n",
              "          let quickchartButtonEl =\n",
              "            document.querySelector('#df-7f4e6c0c-02c1-480b-ade5-b094b3e491ba button');\n",
              "          quickchartButtonEl.style.display =\n",
              "            google.colab.kernel.accessAllowed ? 'block' : 'none';\n",
              "        })();\n",
              "      </script>\n",
              "    </div>\n",
              "\n",
              "  <div id=\"id_90ee1466-3989-40cb-bec6-4e39027bca5e\">\n",
              "    <style>\n",
              "      .colab-df-generate {\n",
              "        background-color: #E8F0FE;\n",
              "        border: none;\n",
              "        border-radius: 50%;\n",
              "        cursor: pointer;\n",
              "        display: none;\n",
              "        fill: #1967D2;\n",
              "        height: 32px;\n",
              "        padding: 0 0 0 0;\n",
              "        width: 32px;\n",
              "      }\n",
              "\n",
              "      .colab-df-generate:hover {\n",
              "        background-color: #E2EBFA;\n",
              "        box-shadow: 0px 1px 2px rgba(60, 64, 67, 0.3), 0px 1px 3px 1px rgba(60, 64, 67, 0.15);\n",
              "        fill: #174EA6;\n",
              "      }\n",
              "\n",
              "      [theme=dark] .colab-df-generate {\n",
              "        background-color: #3B4455;\n",
              "        fill: #D2E3FC;\n",
              "      }\n",
              "\n",
              "      [theme=dark] .colab-df-generate:hover {\n",
              "        background-color: #434B5C;\n",
              "        box-shadow: 0px 1px 3px 1px rgba(0, 0, 0, 0.15);\n",
              "        filter: drop-shadow(0px 1px 2px rgba(0, 0, 0, 0.3));\n",
              "        fill: #FFFFFF;\n",
              "      }\n",
              "    </style>\n",
              "    <button class=\"colab-df-generate\" onclick=\"generateWithVariable('df')\"\n",
              "            title=\"Generate code using this dataframe.\"\n",
              "            style=\"display:none;\">\n",
              "\n",
              "  <svg xmlns=\"http://www.w3.org/2000/svg\" height=\"24px\"viewBox=\"0 0 24 24\"\n",
              "       width=\"24px\">\n",
              "    <path d=\"M7,19H8.4L18.45,9,17,7.55,7,17.6ZM5,21V16.75L18.45,3.32a2,2,0,0,1,2.83,0l1.4,1.43a1.91,1.91,0,0,1,.58,1.4,1.91,1.91,0,0,1-.58,1.4L9.25,21ZM18.45,9,17,7.55Zm-12,3A5.31,5.31,0,0,0,4.9,8.1,5.31,5.31,0,0,0,1,6.5,5.31,5.31,0,0,0,4.9,4.9,5.31,5.31,0,0,0,6.5,1,5.31,5.31,0,0,0,8.1,4.9,5.31,5.31,0,0,0,12,6.5,5.46,5.46,0,0,0,6.5,12Z\"/>\n",
              "  </svg>\n",
              "    </button>\n",
              "    <script>\n",
              "      (() => {\n",
              "      const buttonEl =\n",
              "        document.querySelector('#id_90ee1466-3989-40cb-bec6-4e39027bca5e button.colab-df-generate');\n",
              "      buttonEl.style.display =\n",
              "        google.colab.kernel.accessAllowed ? 'block' : 'none';\n",
              "\n",
              "      buttonEl.onclick = () => {\n",
              "        google.colab.notebook.generateWithVariable('df');\n",
              "      }\n",
              "      })();\n",
              "    </script>\n",
              "  </div>\n",
              "\n",
              "    </div>\n",
              "  </div>\n"
            ],
            "application/vnd.google.colaboratory.intrinsic+json": {
              "type": "dataframe",
              "variable_name": "df"
            }
          },
          "metadata": {},
          "execution_count": 50
        }
      ],
      "execution_count": 50
    },
    {
      "cell_type": "code",
      "source": [
        "# Menampilkan informasi dataset\n",
        "print(\"\\nInformasi Dataset:\")\n",
        "print(f\"\\nJumlah total data: {len(df)}\")\n",
        "print(f\"Jumlah fitur : {len(df.columns)}\")\n",
        "print(\"\\nDistribusi Label setelah preprocessing:\")\n",
        "\n",
        "create_distribution_table(df)"
      ],
      "metadata": {
        "trusted": true,
        "id": "n2dcuIXQIzc2",
        "colab": {
          "base_uri": "https://localhost:8080/",
          "height": 265
        },
        "outputId": "71e05a26-07d8-40c3-9393-e4d5f66978ce"
      },
      "outputs": [
        {
          "output_type": "stream",
          "name": "stdout",
          "text": [
            "\n",
            "Informasi Dataset:\n",
            "\n",
            "Jumlah total data: 1776724\n",
            "Jumlah fitur : 78\n",
            "\n",
            "Distribusi Label setelah preprocessing:\n"
          ]
        },
        {
          "output_type": "execute_result",
          "data": {
            "text/plain": [
              "          count  percentage\n",
              "Label                      \n",
              "BENIGN  1440219    0.810604\n",
              "ATTACK   336505    0.189396"
            ],
            "text/html": [
              "\n",
              "  <div id=\"df-a0f3fa6e-a767-466d-a2cf-db53d1a78034\" class=\"colab-df-container\">\n",
              "    <div>\n",
              "<style scoped>\n",
              "    .dataframe tbody tr th:only-of-type {\n",
              "        vertical-align: middle;\n",
              "    }\n",
              "\n",
              "    .dataframe tbody tr th {\n",
              "        vertical-align: top;\n",
              "    }\n",
              "\n",
              "    .dataframe thead th {\n",
              "        text-align: right;\n",
              "    }\n",
              "</style>\n",
              "<table border=\"1\" class=\"dataframe\">\n",
              "  <thead>\n",
              "    <tr style=\"text-align: right;\">\n",
              "      <th></th>\n",
              "      <th>count</th>\n",
              "      <th>percentage</th>\n",
              "    </tr>\n",
              "    <tr>\n",
              "      <th>Label</th>\n",
              "      <th></th>\n",
              "      <th></th>\n",
              "    </tr>\n",
              "  </thead>\n",
              "  <tbody>\n",
              "    <tr>\n",
              "      <th>BENIGN</th>\n",
              "      <td>1440219</td>\n",
              "      <td>0.810604</td>\n",
              "    </tr>\n",
              "    <tr>\n",
              "      <th>ATTACK</th>\n",
              "      <td>336505</td>\n",
              "      <td>0.189396</td>\n",
              "    </tr>\n",
              "  </tbody>\n",
              "</table>\n",
              "</div>\n",
              "    <div class=\"colab-df-buttons\">\n",
              "\n",
              "  <div class=\"colab-df-container\">\n",
              "    <button class=\"colab-df-convert\" onclick=\"convertToInteractive('df-a0f3fa6e-a767-466d-a2cf-db53d1a78034')\"\n",
              "            title=\"Convert this dataframe to an interactive table.\"\n",
              "            style=\"display:none;\">\n",
              "\n",
              "  <svg xmlns=\"http://www.w3.org/2000/svg\" height=\"24px\" viewBox=\"0 -960 960 960\">\n",
              "    <path d=\"M120-120v-720h720v720H120Zm60-500h600v-160H180v160Zm220 220h160v-160H400v160Zm0 220h160v-160H400v160ZM180-400h160v-160H180v160Zm440 0h160v-160H620v160ZM180-180h160v-160H180v160Zm440 0h160v-160H620v160Z\"/>\n",
              "  </svg>\n",
              "    </button>\n",
              "\n",
              "  <style>\n",
              "    .colab-df-container {\n",
              "      display:flex;\n",
              "      gap: 12px;\n",
              "    }\n",
              "\n",
              "    .colab-df-convert {\n",
              "      background-color: #E8F0FE;\n",
              "      border: none;\n",
              "      border-radius: 50%;\n",
              "      cursor: pointer;\n",
              "      display: none;\n",
              "      fill: #1967D2;\n",
              "      height: 32px;\n",
              "      padding: 0 0 0 0;\n",
              "      width: 32px;\n",
              "    }\n",
              "\n",
              "    .colab-df-convert:hover {\n",
              "      background-color: #E2EBFA;\n",
              "      box-shadow: 0px 1px 2px rgba(60, 64, 67, 0.3), 0px 1px 3px 1px rgba(60, 64, 67, 0.15);\n",
              "      fill: #174EA6;\n",
              "    }\n",
              "\n",
              "    .colab-df-buttons div {\n",
              "      margin-bottom: 4px;\n",
              "    }\n",
              "\n",
              "    [theme=dark] .colab-df-convert {\n",
              "      background-color: #3B4455;\n",
              "      fill: #D2E3FC;\n",
              "    }\n",
              "\n",
              "    [theme=dark] .colab-df-convert:hover {\n",
              "      background-color: #434B5C;\n",
              "      box-shadow: 0px 1px 3px 1px rgba(0, 0, 0, 0.15);\n",
              "      filter: drop-shadow(0px 1px 2px rgba(0, 0, 0, 0.3));\n",
              "      fill: #FFFFFF;\n",
              "    }\n",
              "  </style>\n",
              "\n",
              "    <script>\n",
              "      const buttonEl =\n",
              "        document.querySelector('#df-a0f3fa6e-a767-466d-a2cf-db53d1a78034 button.colab-df-convert');\n",
              "      buttonEl.style.display =\n",
              "        google.colab.kernel.accessAllowed ? 'block' : 'none';\n",
              "\n",
              "      async function convertToInteractive(key) {\n",
              "        const element = document.querySelector('#df-a0f3fa6e-a767-466d-a2cf-db53d1a78034');\n",
              "        const dataTable =\n",
              "          await google.colab.kernel.invokeFunction('convertToInteractive',\n",
              "                                                    [key], {});\n",
              "        if (!dataTable) return;\n",
              "\n",
              "        const docLinkHtml = 'Like what you see? Visit the ' +\n",
              "          '<a target=\"_blank\" href=https://colab.research.google.com/notebooks/data_table.ipynb>data table notebook</a>'\n",
              "          + ' to learn more about interactive tables.';\n",
              "        element.innerHTML = '';\n",
              "        dataTable['output_type'] = 'display_data';\n",
              "        await google.colab.output.renderOutput(dataTable, element);\n",
              "        const docLink = document.createElement('div');\n",
              "        docLink.innerHTML = docLinkHtml;\n",
              "        element.appendChild(docLink);\n",
              "      }\n",
              "    </script>\n",
              "  </div>\n",
              "\n",
              "\n",
              "    <div id=\"df-9dd919fe-521d-422a-8a3d-fb32fd7bb024\">\n",
              "      <button class=\"colab-df-quickchart\" onclick=\"quickchart('df-9dd919fe-521d-422a-8a3d-fb32fd7bb024')\"\n",
              "                title=\"Suggest charts\"\n",
              "                style=\"display:none;\">\n",
              "\n",
              "<svg xmlns=\"http://www.w3.org/2000/svg\" height=\"24px\"viewBox=\"0 0 24 24\"\n",
              "     width=\"24px\">\n",
              "    <g>\n",
              "        <path d=\"M19 3H5c-1.1 0-2 .9-2 2v14c0 1.1.9 2 2 2h14c1.1 0 2-.9 2-2V5c0-1.1-.9-2-2-2zM9 17H7v-7h2v7zm4 0h-2V7h2v10zm4 0h-2v-4h2v4z\"/>\n",
              "    </g>\n",
              "</svg>\n",
              "      </button>\n",
              "\n",
              "<style>\n",
              "  .colab-df-quickchart {\n",
              "      --bg-color: #E8F0FE;\n",
              "      --fill-color: #1967D2;\n",
              "      --hover-bg-color: #E2EBFA;\n",
              "      --hover-fill-color: #174EA6;\n",
              "      --disabled-fill-color: #AAA;\n",
              "      --disabled-bg-color: #DDD;\n",
              "  }\n",
              "\n",
              "  [theme=dark] .colab-df-quickchart {\n",
              "      --bg-color: #3B4455;\n",
              "      --fill-color: #D2E3FC;\n",
              "      --hover-bg-color: #434B5C;\n",
              "      --hover-fill-color: #FFFFFF;\n",
              "      --disabled-bg-color: #3B4455;\n",
              "      --disabled-fill-color: #666;\n",
              "  }\n",
              "\n",
              "  .colab-df-quickchart {\n",
              "    background-color: var(--bg-color);\n",
              "    border: none;\n",
              "    border-radius: 50%;\n",
              "    cursor: pointer;\n",
              "    display: none;\n",
              "    fill: var(--fill-color);\n",
              "    height: 32px;\n",
              "    padding: 0;\n",
              "    width: 32px;\n",
              "  }\n",
              "\n",
              "  .colab-df-quickchart:hover {\n",
              "    background-color: var(--hover-bg-color);\n",
              "    box-shadow: 0 1px 2px rgba(60, 64, 67, 0.3), 0 1px 3px 1px rgba(60, 64, 67, 0.15);\n",
              "    fill: var(--button-hover-fill-color);\n",
              "  }\n",
              "\n",
              "  .colab-df-quickchart-complete:disabled,\n",
              "  .colab-df-quickchart-complete:disabled:hover {\n",
              "    background-color: var(--disabled-bg-color);\n",
              "    fill: var(--disabled-fill-color);\n",
              "    box-shadow: none;\n",
              "  }\n",
              "\n",
              "  .colab-df-spinner {\n",
              "    border: 2px solid var(--fill-color);\n",
              "    border-color: transparent;\n",
              "    border-bottom-color: var(--fill-color);\n",
              "    animation:\n",
              "      spin 1s steps(1) infinite;\n",
              "  }\n",
              "\n",
              "  @keyframes spin {\n",
              "    0% {\n",
              "      border-color: transparent;\n",
              "      border-bottom-color: var(--fill-color);\n",
              "      border-left-color: var(--fill-color);\n",
              "    }\n",
              "    20% {\n",
              "      border-color: transparent;\n",
              "      border-left-color: var(--fill-color);\n",
              "      border-top-color: var(--fill-color);\n",
              "    }\n",
              "    30% {\n",
              "      border-color: transparent;\n",
              "      border-left-color: var(--fill-color);\n",
              "      border-top-color: var(--fill-color);\n",
              "      border-right-color: var(--fill-color);\n",
              "    }\n",
              "    40% {\n",
              "      border-color: transparent;\n",
              "      border-right-color: var(--fill-color);\n",
              "      border-top-color: var(--fill-color);\n",
              "    }\n",
              "    60% {\n",
              "      border-color: transparent;\n",
              "      border-right-color: var(--fill-color);\n",
              "    }\n",
              "    80% {\n",
              "      border-color: transparent;\n",
              "      border-right-color: var(--fill-color);\n",
              "      border-bottom-color: var(--fill-color);\n",
              "    }\n",
              "    90% {\n",
              "      border-color: transparent;\n",
              "      border-bottom-color: var(--fill-color);\n",
              "    }\n",
              "  }\n",
              "</style>\n",
              "\n",
              "      <script>\n",
              "        async function quickchart(key) {\n",
              "          const quickchartButtonEl =\n",
              "            document.querySelector('#' + key + ' button');\n",
              "          quickchartButtonEl.disabled = true;  // To prevent multiple clicks.\n",
              "          quickchartButtonEl.classList.add('colab-df-spinner');\n",
              "          try {\n",
              "            const charts = await google.colab.kernel.invokeFunction(\n",
              "                'suggestCharts', [key], {});\n",
              "          } catch (error) {\n",
              "            console.error('Error during call to suggestCharts:', error);\n",
              "          }\n",
              "          quickchartButtonEl.classList.remove('colab-df-spinner');\n",
              "          quickchartButtonEl.classList.add('colab-df-quickchart-complete');\n",
              "        }\n",
              "        (() => {\n",
              "          let quickchartButtonEl =\n",
              "            document.querySelector('#df-9dd919fe-521d-422a-8a3d-fb32fd7bb024 button');\n",
              "          quickchartButtonEl.style.display =\n",
              "            google.colab.kernel.accessAllowed ? 'block' : 'none';\n",
              "        })();\n",
              "      </script>\n",
              "    </div>\n",
              "\n",
              "    </div>\n",
              "  </div>\n"
            ],
            "application/vnd.google.colaboratory.intrinsic+json": {
              "type": "dataframe",
              "summary": "{\n  \"name\": \"create_distribution_table(df)\",\n  \"rows\": 2,\n  \"fields\": [\n    {\n      \"column\": \"Label\",\n      \"properties\": {\n        \"dtype\": \"string\",\n        \"num_unique_values\": 2,\n        \"samples\": [\n          \"ATTACK\",\n          \"BENIGN\"\n        ],\n        \"semantic_type\": \"\",\n        \"description\": \"\"\n      }\n    },\n    {\n      \"column\": \"count\",\n      \"properties\": {\n        \"dtype\": \"number\",\n        \"std\": 780443,\n        \"min\": 336505,\n        \"max\": 1440219,\n        \"num_unique_values\": 2,\n        \"samples\": [\n          336505,\n          1440219\n        ],\n        \"semantic_type\": \"\",\n        \"description\": \"\"\n      }\n    },\n    {\n      \"column\": \"percentage\",\n      \"properties\": {\n        \"dtype\": \"number\",\n        \"std\": 0.43925992663493546,\n        \"min\": 0.18939632717293176,\n        \"max\": 0.8106036728270682,\n        \"num_unique_values\": 2,\n        \"samples\": [\n          0.18939632717293176,\n          0.8106036728270682\n        ],\n        \"semantic_type\": \"\",\n        \"description\": \"\"\n      }\n    }\n  ]\n}"
            }
          },
          "metadata": {},
          "execution_count": 51
        }
      ],
      "execution_count": 51
    },
    {
      "cell_type": "markdown",
      "source": [
        "## Pemisahan Data Fitur (X) dan Ouput (y)"
      ],
      "metadata": {
        "id": "FiWBz4KAIzc3"
      }
    },
    {
      "cell_type": "code",
      "source": [
        "numerical_columns = df.select_dtypes(include=[np.number]).columns\n",
        "X = df[numerical_columns]\n",
        "y = df[\"Label\"]\n",
        "print(f\"jumlah fitur : {len(X.columns)}\")\n",
        "print(f\"jumlah label : {len(y.unique())}\")"
      ],
      "metadata": {
        "trusted": true,
        "id": "y7NMjQlhIzc3",
        "colab": {
          "base_uri": "https://localhost:8080/"
        },
        "outputId": "bf92f04e-d919-4d7e-e240-3f8492b19fe3"
      },
      "outputs": [
        {
          "output_type": "stream",
          "name": "stdout",
          "text": [
            "jumlah fitur : 77\n",
            "jumlah label : 2\n"
          ]
        }
      ],
      "execution_count": 52
    },
    {
      "cell_type": "markdown",
      "source": [
        "## Training-Test Split"
      ],
      "metadata": {
        "id": "mKsCxhm6Izc3"
      }
    },
    {
      "cell_type": "code",
      "source": [
        "tss = TimeSeriesSplit(n_splits=7)\n",
        "print(tss)"
      ],
      "metadata": {
        "trusted": true,
        "id": "AID6zrKGIzc4",
        "colab": {
          "base_uri": "https://localhost:8080/"
        },
        "outputId": "eda21602-a788-4164-d354-467ba32d51a8"
      },
      "outputs": [
        {
          "output_type": "stream",
          "name": "stdout",
          "text": [
            "TimeSeriesSplit(gap=0, max_train_size=None, n_splits=7, test_size=None)\n"
          ]
        }
      ],
      "execution_count": 53
    },
    {
      "cell_type": "code",
      "source": [
        "#X = np.array([[1, 2], [3, 4], [1, 2], [3, 4], [1, 2], [3, 4]])\n",
        "train_index, test_index = [], []\n",
        "for i, (train_interval, test_interval) in enumerate(tss.split(X)):\n",
        "    print(f\"fold {i}:\")\n",
        "    print(f\"  Train: index : from {train_interval.min()} up to {train_interval.max()}\")\n",
        "    print(f\"  Test:  index=from {test_interval.min()} up to {test_interval.max()}\")\n",
        "    print(f\"  Jumlah kelas pada training set : {y.iloc[train_interval].nunique()}\")\n",
        "    print(f\"  Jumlah kelas pada testing set : {y.iloc[test_interval].nunique()}\")\n",
        "    train_index, test_index = train_interval, test_interval\n"
      ],
      "metadata": {
        "trusted": true,
        "id": "JZNJJldeIzc4",
        "colab": {
          "base_uri": "https://localhost:8080/"
        },
        "outputId": "efb8732a-a997-4fff-f70d-201fd596f279"
      },
      "outputs": [
        {
          "output_type": "stream",
          "name": "stdout",
          "text": [
            "fold 0:\n",
            "  Train: index : from 0 up to 222093\n",
            "  Test:  index=from 222094 up to 444183\n",
            "  Jumlah kelas pada training set : 2\n",
            "  Jumlah kelas pada testing set : 2\n",
            "fold 1:\n",
            "  Train: index : from 0 up to 444183\n",
            "  Test:  index=from 444184 up to 666273\n",
            "  Jumlah kelas pada training set : 2\n",
            "  Jumlah kelas pada testing set : 2\n",
            "fold 2:\n",
            "  Train: index : from 0 up to 666273\n",
            "  Test:  index=from 666274 up to 888363\n",
            "  Jumlah kelas pada training set : 2\n",
            "  Jumlah kelas pada testing set : 2\n",
            "fold 3:\n",
            "  Train: index : from 0 up to 888363\n",
            "  Test:  index=from 888364 up to 1110453\n",
            "  Jumlah kelas pada training set : 2\n",
            "  Jumlah kelas pada testing set : 2\n",
            "fold 4:\n",
            "  Train: index : from 0 up to 1110453\n",
            "  Test:  index=from 1110454 up to 1332543\n",
            "  Jumlah kelas pada training set : 2\n",
            "  Jumlah kelas pada testing set : 2\n",
            "fold 5:\n",
            "  Train: index : from 0 up to 1332543\n",
            "  Test:  index=from 1332544 up to 1554633\n",
            "  Jumlah kelas pada training set : 2\n",
            "  Jumlah kelas pada testing set : 2\n",
            "fold 6:\n",
            "  Train: index : from 0 up to 1554633\n",
            "  Test:  index=from 1554634 up to 1776723\n",
            "  Jumlah kelas pada training set : 2\n",
            "  Jumlah kelas pada testing set : 2\n"
          ]
        }
      ],
      "execution_count": 54
    },
    {
      "cell_type": "code",
      "source": [
        "# Split dataset dengan stratifikasi\n",
        "X_train, X_test = X.iloc[train_index], X.iloc[test_index]\n",
        "y_train, y_test  = y.iloc[train_index], y.iloc[test_index]"
      ],
      "metadata": {
        "trusted": true,
        "id": "J8PDNvSgIzc5"
      },
      "outputs": [],
      "execution_count": 55
    },
    {
      "cell_type": "code",
      "source": [
        "y_test.value_counts()"
      ],
      "metadata": {
        "trusted": true,
        "id": "7yNX5DojIzc5",
        "colab": {
          "base_uri": "https://localhost:8080/",
          "height": 178
        },
        "outputId": "bfff752f-d7d4-42bd-e384-ac43b06d4b7a"
      },
      "outputs": [
        {
          "output_type": "execute_result",
          "data": {
            "text/plain": [
              "Label\n",
              "ATTACK    128162\n",
              "BENIGN     93928\n",
              "Name: count, dtype: int64"
            ],
            "text/html": [
              "<div>\n",
              "<style scoped>\n",
              "    .dataframe tbody tr th:only-of-type {\n",
              "        vertical-align: middle;\n",
              "    }\n",
              "\n",
              "    .dataframe tbody tr th {\n",
              "        vertical-align: top;\n",
              "    }\n",
              "\n",
              "    .dataframe thead th {\n",
              "        text-align: right;\n",
              "    }\n",
              "</style>\n",
              "<table border=\"1\" class=\"dataframe\">\n",
              "  <thead>\n",
              "    <tr style=\"text-align: right;\">\n",
              "      <th></th>\n",
              "      <th>count</th>\n",
              "    </tr>\n",
              "    <tr>\n",
              "      <th>Label</th>\n",
              "      <th></th>\n",
              "    </tr>\n",
              "  </thead>\n",
              "  <tbody>\n",
              "    <tr>\n",
              "      <th>ATTACK</th>\n",
              "      <td>128162</td>\n",
              "    </tr>\n",
              "    <tr>\n",
              "      <th>BENIGN</th>\n",
              "      <td>93928</td>\n",
              "    </tr>\n",
              "  </tbody>\n",
              "</table>\n",
              "</div><br><label><b>dtype:</b> int64</label>"
            ]
          },
          "metadata": {},
          "execution_count": 56
        }
      ],
      "execution_count": 56
    },
    {
      "cell_type": "code",
      "source": [
        "y_train.value_counts()"
      ],
      "metadata": {
        "trusted": true,
        "id": "UfQ_8WIjIzc5",
        "colab": {
          "base_uri": "https://localhost:8080/",
          "height": 178
        },
        "outputId": "8bd4ad4a-5f64-4972-9100-29636df090e2"
      },
      "outputs": [
        {
          "output_type": "execute_result",
          "data": {
            "text/plain": [
              "Label\n",
              "BENIGN    1346291\n",
              "ATTACK     208343\n",
              "Name: count, dtype: int64"
            ],
            "text/html": [
              "<div>\n",
              "<style scoped>\n",
              "    .dataframe tbody tr th:only-of-type {\n",
              "        vertical-align: middle;\n",
              "    }\n",
              "\n",
              "    .dataframe tbody tr th {\n",
              "        vertical-align: top;\n",
              "    }\n",
              "\n",
              "    .dataframe thead th {\n",
              "        text-align: right;\n",
              "    }\n",
              "</style>\n",
              "<table border=\"1\" class=\"dataframe\">\n",
              "  <thead>\n",
              "    <tr style=\"text-align: right;\">\n",
              "      <th></th>\n",
              "      <th>count</th>\n",
              "    </tr>\n",
              "    <tr>\n",
              "      <th>Label</th>\n",
              "      <th></th>\n",
              "    </tr>\n",
              "  </thead>\n",
              "  <tbody>\n",
              "    <tr>\n",
              "      <th>BENIGN</th>\n",
              "      <td>1346291</td>\n",
              "    </tr>\n",
              "    <tr>\n",
              "      <th>ATTACK</th>\n",
              "      <td>208343</td>\n",
              "    </tr>\n",
              "  </tbody>\n",
              "</table>\n",
              "</div><br><label><b>dtype:</b> int64</label>"
            ]
          },
          "metadata": {},
          "execution_count": 57
        }
      ],
      "execution_count": 57
    },
    {
      "cell_type": "markdown",
      "source": [
        "## Transformasi Data"
      ],
      "metadata": {
        "id": "LHnJZdvkIzc6"
      }
    },
    {
      "cell_type": "code",
      "source": [
        "# imputer\n",
        "imputer = SimpleImputer(missing_values=np.nan, strategy='mean', copy=False)\n",
        "print(\"fitting imputer...\")\n",
        "imputer.fit(X_train)\n",
        "print(\"selesai!\")\n",
        "\n",
        "# scaler\n",
        "scaler = StandardScaler(copy=False)\n",
        "print(\"\\nfitting scaler...\")\n",
        "scaler.fit(X_train)\n",
        "print(\"selesai!\")\n",
        "\n",
        "# label encoder (le)\n",
        "le = LabelEncoder()\n",
        "print(\"\\nfitting label encoder...\")\n",
        "le.fit(y_train.astype(str))\n",
        "print(\"selesai!\")"
      ],
      "metadata": {
        "trusted": true,
        "id": "f5DM-4KaIzdC",
        "colab": {
          "base_uri": "https://localhost:8080/"
        },
        "outputId": "8c108064-bdaa-4973-ce77-c73bc9603d78"
      },
      "outputs": [
        {
          "output_type": "stream",
          "name": "stdout",
          "text": [
            "fitting imputer...\n",
            "selesai!\n",
            "\n",
            "fitting scaler...\n",
            "selesai!\n",
            "\n",
            "fitting label encoder...\n",
            "selesai!\n"
          ]
        }
      ],
      "execution_count": 58
    },
    {
      "cell_type": "code",
      "source": [
        "for i, label in enumerate(le.classes_):\n",
        "    print(f\"i : {i} , label : {label}\")"
      ],
      "metadata": {
        "trusted": true,
        "id": "O_cGSTHLIzdE",
        "colab": {
          "base_uri": "https://localhost:8080/"
        },
        "outputId": "c943f20b-f2d5-418f-a5cd-2c65398fe069"
      },
      "outputs": [
        {
          "output_type": "stream",
          "name": "stdout",
          "text": [
            "i : 0 , label : ATTACK\n",
            "i : 1 , label : BENIGN\n"
          ]
        }
      ],
      "execution_count": 59
    },
    {
      "cell_type": "code",
      "source": [
        "# Menampilkan informasi kelas\n",
        "print(\"\\nKelas yang terdeteksi:\")\n",
        "for i, label in enumerate(le.classes_):\n",
        "    count = (df[\"Label\"] == i).sum()\n",
        "    print(f\"{label}: {count} samples (encoded as {i})\")\n"
      ],
      "metadata": {
        "trusted": true,
        "id": "EKtJFw_WIzdE",
        "colab": {
          "base_uri": "https://localhost:8080/"
        },
        "outputId": "c4d5a281-86d2-42d2-d5c2-c8b6f88926c4"
      },
      "outputs": [
        {
          "output_type": "stream",
          "name": "stdout",
          "text": [
            "\n",
            "Kelas yang terdeteksi:\n",
            "ATTACK: 0 samples (encoded as 0)\n",
            "BENIGN: 0 samples (encoded as 1)\n"
          ]
        }
      ],
      "execution_count": 60
    },
    {
      "cell_type": "code",
      "source": [
        "df[\"Label\"].value_counts()"
      ],
      "metadata": {
        "trusted": true,
        "id": "vTnZdm1XIzdC",
        "colab": {
          "base_uri": "https://localhost:8080/",
          "height": 178
        },
        "outputId": "9a721a73-eb39-4baa-c7d3-717cc659c125"
      },
      "outputs": [
        {
          "output_type": "execute_result",
          "data": {
            "text/plain": [
              "Label\n",
              "BENIGN    1440219\n",
              "ATTACK     336505\n",
              "Name: count, dtype: int64"
            ],
            "text/html": [
              "<div>\n",
              "<style scoped>\n",
              "    .dataframe tbody tr th:only-of-type {\n",
              "        vertical-align: middle;\n",
              "    }\n",
              "\n",
              "    .dataframe tbody tr th {\n",
              "        vertical-align: top;\n",
              "    }\n",
              "\n",
              "    .dataframe thead th {\n",
              "        text-align: right;\n",
              "    }\n",
              "</style>\n",
              "<table border=\"1\" class=\"dataframe\">\n",
              "  <thead>\n",
              "    <tr style=\"text-align: right;\">\n",
              "      <th></th>\n",
              "      <th>count</th>\n",
              "    </tr>\n",
              "    <tr>\n",
              "      <th>Label</th>\n",
              "      <th></th>\n",
              "    </tr>\n",
              "  </thead>\n",
              "  <tbody>\n",
              "    <tr>\n",
              "      <th>BENIGN</th>\n",
              "      <td>1440219</td>\n",
              "    </tr>\n",
              "    <tr>\n",
              "      <th>ATTACK</th>\n",
              "      <td>336505</td>\n",
              "    </tr>\n",
              "  </tbody>\n",
              "</table>\n",
              "</div><br><label><b>dtype:</b> int64</label>"
            ]
          },
          "metadata": {},
          "execution_count": 61
        }
      ],
      "execution_count": 61
    },
    {
      "cell_type": "code",
      "source": [
        "def transform_data(X, y, scaler, imputer, le):\n",
        "    # Handling missing values untuk dataset training\n",
        "    print(\"\\nMenangani missing values...\")\n",
        "    X = imputer.transform(X)\n",
        "    print(\"selesai!\")\n",
        "\n",
        "    # Normalisasi Data\n",
        "    print(\"\\nMelakukan normalisasi data...\")\n",
        "    X = scaler.transform(X)\n",
        "    print(\"selesai!\")\n",
        "\n",
        "    # Pelabelan Kelas\n",
        "    num_classes = len(le.classes_)\n",
        "    print(\"\\nMelakukan one-hot encoding...\")\n",
        "    y = le.transform(y)\n",
        "    print(\"selesai!\")\n",
        "\n",
        "    return X, y"
      ],
      "metadata": {
        "trusted": true,
        "id": "A6vQ_vQbIzdC"
      },
      "outputs": [],
      "execution_count": 62
    },
    {
      "cell_type": "code",
      "source": [
        "## Transformasi Data Training\n",
        "X_train, y_train = transform_data(X_train, y_train, scaler, imputer, le)\n",
        "\n",
        "# Transformmasi data testing\n",
        "X_test, y_test = transform_data(X_test, y_test, scaler, imputer, le)"
      ],
      "metadata": {
        "trusted": true,
        "id": "8BwGxLuvIzdD",
        "colab": {
          "base_uri": "https://localhost:8080/"
        },
        "outputId": "ad6a640e-ce9b-4985-f198-75409fe115a2"
      },
      "outputs": [
        {
          "output_type": "stream",
          "name": "stdout",
          "text": [
            "\n",
            "Menangani missing values...\n",
            "selesai!\n",
            "\n",
            "Melakukan normalisasi data...\n"
          ]
        },
        {
          "output_type": "stream",
          "name": "stderr",
          "text": [
            "/usr/local/lib/python3.11/dist-packages/sklearn/utils/validation.py:2739: UserWarning: X does not have valid feature names, but StandardScaler was fitted with feature names\n",
            "  warnings.warn(\n"
          ]
        },
        {
          "output_type": "stream",
          "name": "stdout",
          "text": [
            "selesai!\n",
            "\n",
            "Melakukan one-hot encoding...\n",
            "selesai!\n",
            "\n",
            "Menangani missing values...\n",
            "selesai!\n",
            "\n",
            "Melakukan normalisasi data...\n",
            "selesai!\n",
            "\n",
            "Melakukan one-hot encoding...\n",
            "selesai!\n"
          ]
        },
        {
          "output_type": "stream",
          "name": "stderr",
          "text": [
            "/usr/local/lib/python3.11/dist-packages/sklearn/utils/validation.py:2739: UserWarning: X does not have valid feature names, but StandardScaler was fitted with feature names\n",
            "  warnings.warn(\n"
          ]
        }
      ],
      "execution_count": 63
    },
    {
      "cell_type": "markdown",
      "source": [
        "## Feature Selection"
      ],
      "metadata": {
        "id": "GHDtns0BVSHD"
      }
    },
    {
      "cell_type": "code",
      "source": [
        "# prompt: lakukan feature selection menggunakan anova f-test\n",
        "\n",
        "from sklearn.feature_selection import SelectKBest, f_classif\n",
        "\n",
        "# Lakukan feature selection menggunakan ANOVA F-test\n",
        "# Pilih k fitur terbaik, misalnya k=15\n",
        "k = 20\n",
        "selector = SelectKBest(score_func=f_classif, k=k)\n",
        "X_train_selected = selector.fit_transform(X_train, y_train)\n",
        "\n",
        "# Dapatkan nama fitur yang terpilih\n",
        "selected_features_indices = selector.get_support(indices=True)\n",
        "selected_feature_names = X.columns[selected_features_indices]\n",
        "\n",
        "print(f\"\\nFitur yang terpilih menggunakan ANOVA F-test (k={k}):\")\n",
        "selected_feature_names"
      ],
      "metadata": {
        "id": "Ap1AxZuQVW-7",
        "colab": {
          "base_uri": "https://localhost:8080/"
        },
        "outputId": "90514ef2-b946-4d30-afa3-8e9496da2b3a"
      },
      "execution_count": 64,
      "outputs": [
        {
          "output_type": "stream",
          "name": "stdout",
          "text": [
            "\n",
            "Fitur yang terpilih menggunakan ANOVA F-test (k=20):\n"
          ]
        },
        {
          "output_type": "stream",
          "name": "stderr",
          "text": [
            "/usr/local/lib/python3.11/dist-packages/sklearn/feature_selection/_univariate_selection.py:111: UserWarning: Features [30 32 55 56 57 58 59 60] are constant.\n",
            "  warnings.warn(\"Features %s are constant.\" % constant_features_idx, UserWarning)\n",
            "/usr/local/lib/python3.11/dist-packages/sklearn/feature_selection/_univariate_selection.py:112: RuntimeWarning: invalid value encountered in divide\n",
            "  f = msb / msw\n"
          ]
        },
        {
          "output_type": "execute_result",
          "data": {
            "text/plain": [
              "Index(['Flow Duration', 'Bwd Packet Length Max', 'Bwd Packet Length Mean',\n",
              "       'Bwd Packet Length Std', 'Flow IAT Mean', 'Flow IAT Std',\n",
              "       'Flow IAT Max', 'Fwd IAT Total', 'Fwd IAT Std', 'Fwd IAT Max',\n",
              "       'Max Packet Length', 'Packet Length Mean', 'Packet Length Std',\n",
              "       'Packet Length Variance', 'FIN Flag Count', 'Average Packet Size',\n",
              "       'Avg Bwd Segment Size', 'Idle Mean', 'Idle Max', 'Idle Min'],\n",
              "      dtype='object')"
            ]
          },
          "metadata": {},
          "execution_count": 64
        }
      ]
    },
    {
      "cell_type": "code",
      "source": [
        "# Select feature untuk data testing juga\n",
        "X_test_selected = selector.transform(X_test)"
      ],
      "metadata": {
        "id": "5S3u7iMg_hz4"
      },
      "execution_count": 65,
      "outputs": []
    },
    {
      "cell_type": "code",
      "source": [
        "# prompt: tampilkan score untuk tiap fitur yang terpilih beserta dengan nama fiturnya\n",
        "\n",
        "# Dapatkan skor untuk setiap fitur\n",
        "scores = selector.scores_[selected_features_indices]\n",
        "\n",
        "# Tampilkan nama fitur dan skornya\n",
        "print(\"\\nSkor untuk fitur yang terpilih:\")\n",
        "for feature, score in zip(selected_feature_names, scores):\n",
        "    print(f\"{feature}: {score}\")"
      ],
      "metadata": {
        "id": "VFeI3yIE5HoT",
        "colab": {
          "base_uri": "https://localhost:8080/"
        },
        "outputId": "562f8278-325a-401b-c792-0f37c6865a79"
      },
      "execution_count": 66,
      "outputs": [
        {
          "output_type": "stream",
          "name": "stdout",
          "text": [
            "\n",
            "Skor untuk fitur yang terpilih:\n",
            "Flow Duration: 457427.6008338356\n",
            "Bwd Packet Length Max: 1761175.4972738484\n",
            "Bwd Packet Length Mean: 1735354.9920597197\n",
            "Bwd Packet Length Std: 1976028.1682858812\n",
            "Flow IAT Mean: 253685.77210712072\n",
            "Flow IAT Std: 987253.7795688587\n",
            "Flow IAT Max: 1577415.6437056165\n",
            "Fwd IAT Total: 458491.33073158405\n",
            "Fwd IAT Std: 1883984.23412622\n",
            "Fwd IAT Max: 1582076.920558621\n",
            "Max Packet Length: 1547831.489991558\n",
            "Packet Length Mean: 1163940.9231078513\n",
            "Packet Length Std: 1794888.1549119018\n",
            "Packet Length Variance: 1631759.4492495165\n",
            "FIN Flag Count: 407530.09737891\n",
            "Average Packet Size: 1209754.7832188904\n",
            "Avg Bwd Segment Size: 1735354.9920593018\n",
            "Idle Mean: 1579524.1314715715\n",
            "Idle Max: 1605594.3039154029\n",
            "Idle Min: 1526352.6921555093\n"
          ]
        }
      ]
    },
    {
      "cell_type": "markdown",
      "source": [
        "## Konstruksi Model Autoencoder (*Batal*)"
      ],
      "metadata": {
        "id": "9JC-Y5RFIzdF"
      }
    },
    {
      "cell_type": "code",
      "source": [
        "# # Membuat Autoencoder\n",
        "# input_dim = X_train.shape[1]\n",
        "# encoding_dim = 40  # Meningkatkan dimensi encoding karena data lebih kompleks. saran : 64\n",
        "\n",
        "# # Encoder\n",
        "# input_layer = layers.Input(shape=(input_dim,))\n",
        "\n",
        "# encoded = layers.Dense(256, activation='relu')(input_layer)\n",
        "# encoded = layers.BatchNormalization()(encoded)\n",
        "# encoded = layers.Dropout(0.2)(encoded)\n",
        "\n",
        "# encoded = layers.Dense(128, activation='relu')(encoded)\n",
        "# encoded = layers.BatchNormalization()(encoded)\n",
        "# encoded = layers.Dropout(0.2)(encoded)\n",
        "\n",
        "# encoded = layers.Dense(64, activation='relu')(encoded)\n",
        "# encoded = layers.BatchNormalization()(encoded)\n",
        "# encoded = layers.Dropout(0.2)(encoded)\n",
        "\n",
        "# # Bottleneck\n",
        "# encoded = layers.Dense(encoding_dim, activation='linear')(encoded)\n",
        "\n",
        "# # Decoder\n",
        "# decoded = layers.Dense(64, activation='leaky_relu')(encoded) # coba leaky_relu\n",
        "# decoded = layers.BatchNormalization()(decoded)\n",
        "# decoded = layers.Dropout(0.2)(decoded)\n",
        "\n",
        "# decoded = layers.Dense(128, activation='leaky_relu')(decoded)\n",
        "# decoded = layers.BatchNormalization()(decoded)\n",
        "# decoded = layers.Dropout(0.2)(decoded)\n",
        "\n",
        "# decoded = layers.Dense(256, activation='leaky_relu')(decoded)\n",
        "# decoded = layers.BatchNormalization()(decoded)\n",
        "# decoded = layers.Dropout(0.2)(decoded)\n",
        "\n",
        "# decoded = layers.Dense(input_dim, activation='linear')(decoded)\n",
        "\n",
        "# # Model Autoencoder\n",
        "# autoencoder = Model(input_layer, decoded)\n",
        "# encoder = Model(input_layer, encoded)\n",
        "\n",
        "# # Compile dengan learning rate yang sesuai\n",
        "# optimizer = tf.keras.optimizers.Adam(learning_rate=0.0001)\n",
        "# autoencoder.compile(optimizer=optimizer, loss='mse')"
      ],
      "metadata": {
        "trusted": true,
        "id": "L4_fw-SiIzdG"
      },
      "outputs": [],
      "execution_count": 67
    },
    {
      "cell_type": "code",
      "source": [
        "\n",
        "# # Training Autoencoder dengan early stopping\n",
        "# early_stopping = tf.keras.callbacks.EarlyStopping(\n",
        "#     monitor='val_loss',\n",
        "#     patience=5,\n",
        "#     restore_best_weights=True\n",
        "# )\n",
        "\n",
        "# print(\"\\nTraining Autoencoder...\")\n",
        "# # history_autoencoder = autoencoder.fit(X_train, X_train,\n",
        "# #                                     epochs=50,\n",
        "# #                                     batch_size=512,  # Meningkatkan batch size\n",
        "# #                                     shuffle=True,\n",
        "# #                                     validation_split=0.2,\n",
        "# #                                     callbacks=[early_stopping])\n",
        "# history_autoencoder = autoencoder.fit(X_train, X_train,\n",
        "#                                     epochs=200,\n",
        "#                                     batch_size=256,\n",
        "#                                     validation_data=(X_test, X_test))\n"
      ],
      "metadata": {
        "trusted": true,
        "id": "jj9OJJW0IzdG"
      },
      "outputs": [],
      "execution_count": 68
    },
    {
      "cell_type": "code",
      "source": [
        "# # Mendapatkan encoded features\n",
        "# X_train_encoded = encoder.predict(X_train)"
      ],
      "metadata": {
        "trusted": true,
        "id": "mR3ldNNnIzdG"
      },
      "outputs": [],
      "execution_count": 69
    },
    {
      "cell_type": "code",
      "source": [
        "# plt.plot(history_autoencoder.history['loss'], label='Training Loss')\n",
        "# plt.plot(history_autoencoder.history['val_loss'], label='Validation Loss')\n",
        "# plt.title('Autoencoder Training History')\n",
        "# plt.xlabel('Epoch')\n",
        "# plt.ylabel('Loss')\n",
        "# plt.legend()\n",
        "# plt.savefig(\"ae_plot_history\")"
      ],
      "metadata": {
        "trusted": true,
        "id": "KwqMf5PfIzdH"
      },
      "outputs": [],
      "execution_count": 70
    },
    {
      "cell_type": "code",
      "source": [
        "# from tensorflow.keras.utils import plot_model\n",
        "# plot_model(autoencoder, to_file='model.png')"
      ],
      "metadata": {
        "trusted": true,
        "id": "vl3Hoo6VIzdH"
      },
      "outputs": [],
      "execution_count": 71
    },
    {
      "cell_type": "code",
      "source": [
        "# autoencoder.summary()"
      ],
      "metadata": {
        "trusted": true,
        "id": "qwwwczs7IzdH"
      },
      "outputs": [],
      "execution_count": 72
    },
    {
      "cell_type": "markdown",
      "source": [
        "## Konstruksi Model LSTM"
      ],
      "metadata": {
        "id": "tb98GUScIzdH"
      }
    },
    {
      "cell_type": "code",
      "source": [
        "num_features = X_train_selected.shape[1]\n",
        "num_classes = len(le.classes_)"
      ],
      "metadata": {
        "id": "fYhN7RkHL2hJ"
      },
      "execution_count": 73,
      "outputs": []
    },
    {
      "cell_type": "code",
      "source": [
        "def create_sequences(data, targets, timesteps):\n",
        "    X, y = [], []\n",
        "    for i in range(len(data) - timesteps):\n",
        "        X.append(data[i:i+timesteps])  # Ambil blok sekuensial\n",
        "        y.append(targets[i+timesteps]) # Target berikutnya\n",
        "    return np.array(X), np.array(y)\n",
        "\n",
        "# Pilih jumlah timestep (contoh: 10 langkah waktu)\n",
        "timesteps = 10\n",
        "\n",
        "# Buat sequence untuk training dan testing\n",
        "X_train_seq, y_train_seq = create_sequences(X_train_selected, y_train, timesteps)\n",
        "X_test_seq, y_test_seq = create_sequences(X_test_selected, y_test, timesteps)"
      ],
      "metadata": {
        "id": "XiXRFuf5K6vB"
      },
      "execution_count": 74,
      "outputs": []
    },
    {
      "cell_type": "code",
      "source": [
        "print(\"Shape Training Data:\")\n",
        "print(\"X_train_seq:\", X_train_seq.shape)  # (samples, timesteps, 15)\n",
        "print(\"y_train_seq:\", y_train_seq.shape)  # (samples,)\n",
        "\n",
        "print(\"\\nShape Testing Data:\")\n",
        "print(\"X_test_seq:\", X_test_seq.shape)    # (samples, timesteps, 15)\n",
        "print(\"y_test_seq:\", y_test_seq.shape)    # (samples,)"
      ],
      "metadata": {
        "id": "q5TPOQOuLJsJ",
        "colab": {
          "base_uri": "https://localhost:8080/"
        },
        "outputId": "d159adff-83f9-4ee5-e91e-5369eb36a5e4"
      },
      "execution_count": 75,
      "outputs": [
        {
          "output_type": "stream",
          "name": "stdout",
          "text": [
            "Shape Training Data:\n",
            "X_train_seq: (1554624, 10, 20)\n",
            "y_train_seq: (1554624,)\n",
            "\n",
            "Shape Testing Data:\n",
            "X_test_seq: (222080, 10, 20)\n",
            "y_test_seq: (222080,)\n"
          ]
        }
      ]
    },
    {
      "cell_type": "code",
      "source": [
        "import numpy as np\n",
        "# set seed\n",
        "seed = 42\n",
        "np.random.seed(seed)\n",
        "tf.random.set_seed(seed)"
      ],
      "metadata": {
        "id": "x4-XjDyN0YbD"
      },
      "execution_count": 77,
      "outputs": []
    },
    {
      "cell_type": "code",
      "source": [
        "# Membuat model LSTM untuk multi-kelas dengan data dari Autoencoder\n",
        "rnn_model = tf.keras.Sequential([\n",
        "    layers.Input(shape=(timesteps, num_features)),\n",
        "\n",
        "    layers.LSTM(128, return_sequences=True),\n",
        "    layers.BatchNormalization(),\n",
        "    layers.Dropout(0.35),\n",
        "\n",
        "    layers.LSTM(64),\n",
        "    layers.BatchNormalization(),\n",
        "    layers.Dropout(0.35),\n",
        "\n",
        "    layers.Dense(32, activation='relu'),\n",
        "    layers.Dense(1, activation='sigmoid')\n",
        "])\n",
        "\n",
        "# Compile RNN\n",
        "optimizer = tf.keras.optimizers.Adam(learning_rate=0.001)\n",
        "rnn_model.compile(optimizer=optimizer,\n",
        "                 loss='binary_crossentropy',\n",
        "                 metrics=['accuracy', 'precision', 'recall'])\n",
        "\n",
        "# Training RNN dengan early stopping\n",
        "early_stopping_rnn = tf.keras.callbacks.EarlyStopping(\n",
        "    monitor='val_accuracy',\n",
        "    patience=5,\n",
        "    restore_best_weights=True\n",
        ")\n",
        "\n",
        "print(\"\\nTraining RNN...\")\n",
        "# history_rnn = rnn_model.fit(X_train, y_train,\n",
        "#                            epochs=100,\n",
        "#                            batch_size=512,\n",
        "#                            validation_data=(X_test, y_test),\n",
        "#                            callbacks=[early_stopping_rnn])\n",
        "history_rnn = rnn_model.fit(X_train_seq, y_train_seq,\n",
        "                           epochs=100,\n",
        "                           batch_size=128,\n",
        "                           validation_data=(X_test_seq, y_test_seq),\n",
        "                           callbacks=[early_stopping_rnn]\n",
        "                           )\n"
      ],
      "metadata": {
        "trusted": true,
        "execution": {
          "iopub.status.busy": "2025-06-05T08:44:35.146128Z",
          "iopub.execute_input": "2025-06-05T08:44:35.146564Z",
          "iopub.status.idle": "2025-06-05T10:45:07.856767Z",
          "shell.execute_reply.started": "2025-06-05T08:44:35.146527Z",
          "shell.execute_reply": "2025-06-05T10:45:07.852644Z"
        },
        "id": "KLeFkMWlIzdI",
        "colab": {
          "base_uri": "https://localhost:8080/"
        },
        "outputId": "6aa2f96e-31fe-43d3-b889-2990db77c6a7"
      },
      "outputs": [
        {
          "output_type": "stream",
          "name": "stdout",
          "text": [
            "\n",
            "Training RNN...\n",
            "Epoch 1/100\n",
            "\u001b[1m12146/12146\u001b[0m \u001b[32m━━━━━━━━━━━━━━━━━━━━\u001b[0m\u001b[37m\u001b[0m \u001b[1m111s\u001b[0m 9ms/step - accuracy: 0.9705 - loss: 0.1177 - precision: 0.9752 - recall: 0.9912 - val_accuracy: 0.7785 - val_loss: 0.5070 - val_precision: 0.6903 - val_recall: 0.8639\n",
            "Epoch 2/100\n",
            "\u001b[1m12146/12146\u001b[0m \u001b[32m━━━━━━━━━━━━━━━━━━━━\u001b[0m\u001b[37m\u001b[0m \u001b[1m105s\u001b[0m 9ms/step - accuracy: 0.9744 - loss: 0.0993 - precision: 0.9778 - recall: 0.9930 - val_accuracy: 0.6693 - val_loss: 0.7735 - val_precision: 0.5713 - val_recall: 0.8733\n",
            "Epoch 3/100\n",
            "\u001b[1m12146/12146\u001b[0m \u001b[32m━━━━━━━━━━━━━━━━━━━━\u001b[0m\u001b[37m\u001b[0m \u001b[1m105s\u001b[0m 9ms/step - accuracy: 0.9751 - loss: 0.0958 - precision: 0.9789 - recall: 0.9927 - val_accuracy: 0.8019 - val_loss: 0.4961 - val_precision: 0.7001 - val_recall: 0.9299\n",
            "Epoch 4/100\n",
            "\u001b[1m12146/12146\u001b[0m \u001b[32m━━━━━━━━━━━━━━━━━━━━\u001b[0m\u001b[37m\u001b[0m \u001b[1m106s\u001b[0m 9ms/step - accuracy: 0.9754 - loss: 0.0941 - precision: 0.9793 - recall: 0.9925 - val_accuracy: 0.8322 - val_loss: 0.5603 - val_precision: 0.7641 - val_recall: 0.8725\n",
            "Epoch 5/100\n",
            "\u001b[1m12146/12146\u001b[0m \u001b[32m━━━━━━━━━━━━━━━━━━━━\u001b[0m\u001b[37m\u001b[0m \u001b[1m105s\u001b[0m 9ms/step - accuracy: 0.9758 - loss: 0.0927 - precision: 0.9798 - recall: 0.9925 - val_accuracy: 0.7108 - val_loss: 0.7485 - val_precision: 0.6134 - val_recall: 0.8557\n",
            "Epoch 6/100\n",
            "\u001b[1m12146/12146\u001b[0m \u001b[32m━━━━━━━━━━━━━━━━━━━━\u001b[0m\u001b[37m\u001b[0m \u001b[1m105s\u001b[0m 9ms/step - accuracy: 0.9758 - loss: 0.0922 - precision: 0.9801 - recall: 0.9923 - val_accuracy: 0.7524 - val_loss: 0.7038 - val_precision: 0.6711 - val_recall: 0.8130\n",
            "Epoch 7/100\n",
            "\u001b[1m12146/12146\u001b[0m \u001b[32m━━━━━━━━━━━━━━━━━━━━\u001b[0m\u001b[37m\u001b[0m \u001b[1m103s\u001b[0m 9ms/step - accuracy: 0.9762 - loss: 0.0913 - precision: 0.9804 - recall: 0.9923 - val_accuracy: 0.7996 - val_loss: 0.6889 - val_precision: 0.7146 - val_recall: 0.8761\n",
            "Epoch 8/100\n",
            "\u001b[1m12146/12146\u001b[0m \u001b[32m━━━━━━━━━━━━━━━━━━━━\u001b[0m\u001b[37m\u001b[0m \u001b[1m103s\u001b[0m 8ms/step - accuracy: 0.9763 - loss: 0.0909 - precision: 0.9807 - recall: 0.9921 - val_accuracy: 0.8216 - val_loss: 0.6678 - val_precision: 0.7418 - val_recall: 0.8870\n",
            "Epoch 9/100\n",
            "\u001b[1m12146/12146\u001b[0m \u001b[32m━━━━━━━━━━━━━━━━━━━━\u001b[0m\u001b[37m\u001b[0m \u001b[1m102s\u001b[0m 8ms/step - accuracy: 0.9766 - loss: 0.0900 - precision: 0.9810 - recall: 0.9922 - val_accuracy: 0.8362 - val_loss: 0.5561 - val_precision: 0.7515 - val_recall: 0.9156\n",
            "Epoch 10/100\n",
            "\u001b[1m12146/12146\u001b[0m \u001b[32m━━━━━━━━━━━━━━━━━━━━\u001b[0m\u001b[37m\u001b[0m \u001b[1m102s\u001b[0m 8ms/step - accuracy: 0.9766 - loss: 0.0898 - precision: 0.9811 - recall: 0.9921 - val_accuracy: 0.8018 - val_loss: 0.7164 - val_precision: 0.7176 - val_recall: 0.8764\n",
            "Epoch 11/100\n",
            "\u001b[1m12146/12146\u001b[0m \u001b[32m━━━━━━━━━━━━━━━━━━━━\u001b[0m\u001b[37m\u001b[0m \u001b[1m102s\u001b[0m 8ms/step - accuracy: 0.9768 - loss: 0.0894 - precision: 0.9813 - recall: 0.9921 - val_accuracy: 0.8342 - val_loss: 0.6237 - val_precision: 0.7666 - val_recall: 0.8739\n",
            "Epoch 12/100\n",
            "\u001b[1m12146/12146\u001b[0m \u001b[32m━━━━━━━━━━━━━━━━━━━━\u001b[0m\u001b[37m\u001b[0m \u001b[1m102s\u001b[0m 8ms/step - accuracy: 0.9768 - loss: 0.0891 - precision: 0.9813 - recall: 0.9922 - val_accuracy: 0.8518 - val_loss: 0.5956 - val_precision: 0.7822 - val_recall: 0.9004\n",
            "Epoch 13/100\n",
            "\u001b[1m12146/12146\u001b[0m \u001b[32m━━━━━━━━━━━━━━━━━━━━\u001b[0m\u001b[37m\u001b[0m \u001b[1m102s\u001b[0m 8ms/step - accuracy: 0.9769 - loss: 0.0889 - precision: 0.9814 - recall: 0.9921 - val_accuracy: 0.8337 - val_loss: 0.6313 - val_precision: 0.7696 - val_recall: 0.8662\n",
            "Epoch 14/100\n",
            "\u001b[1m12146/12146\u001b[0m \u001b[32m━━━━━━━━━━━━━━━━━━━━\u001b[0m\u001b[37m\u001b[0m \u001b[1m103s\u001b[0m 8ms/step - accuracy: 0.9770 - loss: 0.0886 - precision: 0.9815 - recall: 0.9922 - val_accuracy: 0.8382 - val_loss: 0.6628 - val_precision: 0.7682 - val_recall: 0.8842\n",
            "Epoch 15/100\n",
            "\u001b[1m12146/12146\u001b[0m \u001b[32m━━━━━━━━━━━━━━━━━━━━\u001b[0m\u001b[37m\u001b[0m \u001b[1m102s\u001b[0m 8ms/step - accuracy: 0.9771 - loss: 0.0883 - precision: 0.9815 - recall: 0.9923 - val_accuracy: 0.8531 - val_loss: 0.6233 - val_precision: 0.7778 - val_recall: 0.9137\n",
            "Epoch 16/100\n",
            "\u001b[1m12146/12146\u001b[0m \u001b[32m━━━━━━━━━━━━━━━━━━━━\u001b[0m\u001b[37m\u001b[0m \u001b[1m102s\u001b[0m 8ms/step - accuracy: 0.9771 - loss: 0.0882 - precision: 0.9816 - recall: 0.9922 - val_accuracy: 0.8069 - val_loss: 0.6716 - val_precision: 0.7170 - val_recall: 0.8976\n",
            "Epoch 17/100\n",
            "\u001b[1m12146/12146\u001b[0m \u001b[32m━━━━━━━━━━━━━━━━━━━━\u001b[0m\u001b[37m\u001b[0m \u001b[1m103s\u001b[0m 8ms/step - accuracy: 0.9772 - loss: 0.0880 - precision: 0.9816 - recall: 0.9923 - val_accuracy: 0.8280 - val_loss: 0.6473 - val_precision: 0.7668 - val_recall: 0.8525\n",
            "Epoch 18/100\n",
            "\u001b[1m12146/12146\u001b[0m \u001b[32m━━━━━━━━━━━━━━━━━━━━\u001b[0m\u001b[37m\u001b[0m \u001b[1m103s\u001b[0m 8ms/step - accuracy: 0.9772 - loss: 0.0877 - precision: 0.9817 - recall: 0.9922 - val_accuracy: 0.8141 - val_loss: 0.6744 - val_precision: 0.7333 - val_recall: 0.8806\n",
            "Epoch 19/100\n",
            "\u001b[1m12146/12146\u001b[0m \u001b[32m━━━━━━━━━━━━━━━━━━━━\u001b[0m\u001b[37m\u001b[0m \u001b[1m105s\u001b[0m 9ms/step - accuracy: 0.9773 - loss: 0.0876 - precision: 0.9818 - recall: 0.9922 - val_accuracy: 0.8357 - val_loss: 0.6263 - val_precision: 0.7695 - val_recall: 0.8730\n",
            "Epoch 20/100\n",
            "\u001b[1m12146/12146\u001b[0m \u001b[32m━━━━━━━━━━━━━━━━━━━━\u001b[0m\u001b[37m\u001b[0m \u001b[1m103s\u001b[0m 9ms/step - accuracy: 0.9772 - loss: 0.0876 - precision: 0.9817 - recall: 0.9921 - val_accuracy: 0.8411 - val_loss: 0.6278 - val_precision: 0.7717 - val_recall: 0.8865\n"
          ]
        }
      ],
      "execution_count": 78
    },
    {
      "cell_type": "code",
      "source": [
        "plt.plot(history_rnn.history['accuracy'], label='Training Accuracy')\n",
        "plt.plot(history_rnn.history['val_accuracy'], label='Validation Accuracy')\n",
        "plt.title('LSTM Training History')\n",
        "plt.xlabel('Epoch')\n",
        "plt.ylabel('Accuracy')\n",
        "plt.legend()\n",
        "plt.savefig(\"lstm_training_history\")"
      ],
      "metadata": {
        "trusted": true,
        "execution": {
          "iopub.status.busy": "2025-06-05T10:57:59.170654Z",
          "iopub.execute_input": "2025-06-05T10:57:59.170947Z",
          "iopub.status.idle": "2025-06-05T10:57:59.555481Z",
          "shell.execute_reply.started": "2025-06-05T10:57:59.170915Z",
          "shell.execute_reply": "2025-06-05T10:57:59.554555Z"
        },
        "id": "jyY2a5rVIzdI",
        "colab": {
          "base_uri": "https://localhost:8080/",
          "height": 472
        },
        "outputId": "971b9ed3-363f-43fc-8b2b-83d083ff1a2f"
      },
      "outputs": [
        {
          "output_type": "display_data",
          "data": {
            "text/plain": [
              "<Figure size 640x480 with 1 Axes>"
            ],
            "image/png": "[encoded data removed]"
          },
          "metadata": {}
        }
      ],
      "execution_count": 79
    },
    {
      "cell_type": "code",
      "source": [
        "# Membuat model RNN untuk multi-kelas tanpa data dari Autoencoder\n",
        "# encoding_dim = 78\n",
        "# rnn_model = tf.keras.Sequential([\n",
        "#     layers.Input(shape=(encoding_dim,)),\n",
        "#     layers.Reshape((encoding_dim, 1)),\n",
        "#     layers.LSTM(256, return_sequences=True),\n",
        "#     layers.Dropout(0.4),\n",
        "#     layers.LSTM(128),\n",
        "#     layers.Dropout(0.4),\n",
        "#     layers.Dense(64, activation='relu'),\n",
        "#     layers.Dense(num_classes, activation='softmax')  # Output layer untuk multi-kelas\n",
        "# ])\n",
        "\n",
        "# # Compile RNN\n",
        "# rnn_model.compile(optimizer='adam',\n",
        "#                  loss='categorical_crossentropy',\n",
        "#                  metrics=['accuracy'])\n",
        "\n",
        "# # Training RNN dengan early stopping\n",
        "# early_stopping_rnn = tf.keras.callbacks.EarlyStopping(\n",
        "#     monitor='val_accuracy',\n",
        "#     patience=5,\n",
        "#     restore_best_weights=True\n",
        "# )\n",
        "\n",
        "# print(\"\\nTraining RNN...\")\n",
        "# history_rnn = rnn_model.fit(X_train, y_train,\n",
        "#                            epochs=50,\n",
        "#                            batch_size=512,\n",
        "#                            validation_split=0.2,\n",
        "#                            callbacks=[early_stopping_rnn])\n"
      ],
      "metadata": {
        "trusted": true,
        "execution": {
          "iopub.status.busy": "2025-06-03T22:45:48.043364Z",
          "iopub.status.idle": "2025-06-03T22:45:48.043632Z",
          "shell.execute_reply": "2025-06-03T22:45:48.043524Z"
        },
        "id": "6xitYOS3IzdJ"
      },
      "outputs": [],
      "execution_count": null
    },
    {
      "cell_type": "code",
      "source": [
        "rnn_model.summary()"
      ],
      "metadata": {
        "trusted": true,
        "execution": {
          "iopub.status.busy": "2025-06-03T22:45:48.044363Z",
          "iopub.status.idle": "2025-06-03T22:45:48.044679Z",
          "shell.execute_reply": "2025-06-03T22:45:48.04456Z"
        },
        "id": "NzipqXWEIzdJ"
      },
      "outputs": [],
      "execution_count": null
    },
    {
      "cell_type": "markdown",
      "source": [
        "## Evaluasi Model pada Data Test"
      ],
      "metadata": {
        "id": "ifYR8AEkIzdK"
      }
    },
    {
      "cell_type": "code",
      "source": [
        "# Evaluasi model\n",
        "y_pred_prob = rnn_model.predict(X_test_seq)\n",
        "y_pred_classes = (y_pred_prob > 0.5).astype(int)\n",
        "y_test_classes = y_test_seq\n",
        "\n",
        "# Tampilkan hasil evaluasi\n",
        "print(\"\\nClassification Report:\")\n",
        "print(classification_report(y_test_classes, y_pred_classes, target_names=le.classes_))"
      ],
      "metadata": {
        "trusted": true,
        "execution": {
          "iopub.status.busy": "2025-06-03T22:45:48.047023Z",
          "iopub.status.idle": "2025-06-03T22:45:48.04739Z",
          "shell.execute_reply": "2025-06-03T22:45:48.047227Z"
        },
        "id": "5o8NLaZ7IzdK",
        "colab": {
          "base_uri": "https://localhost:8080/"
        },
        "outputId": "21ce3b0d-9824-42d2-a794-72b02a5c8258"
      },
      "outputs": [
        {
          "output_type": "stream",
          "name": "stdout",
          "text": [
            "\u001b[1m6940/6940\u001b[0m \u001b[32m━━━━━━━━━━━━━━━━━━━━\u001b[0m\u001b[37m\u001b[0m \u001b[1m13s\u001b[0m 2ms/step\n",
            "\n",
            "Classification Report:\n",
            "              precision    recall  f1-score   support\n",
            "\n",
            "      ATTACK       0.93      0.81      0.86    128162\n",
            "      BENIGN       0.78      0.91      0.84     93918\n",
            "\n",
            "    accuracy                           0.85    222080\n",
            "   macro avg       0.85      0.86      0.85    222080\n",
            "weighted avg       0.86      0.85      0.85    222080\n",
            "\n"
          ]
        }
      ],
      "execution_count": 80
    },
    {
      "cell_type": "code",
      "source": [
        "plt.plot(history_rnn.history['accuracy'], label='Training Accuracy')\n",
        "plt.plot(history_rnn.history['val_accuracy'], label='Validation Accuracy')\n",
        "plt.title('LSTM Training History')\n",
        "plt.xlabel('Epoch')\n",
        "plt.ylabel('Accuracy')\n",
        "plt.legend()\n",
        "plt.savefig(\"lstm_training_history\")"
      ],
      "metadata": {
        "trusted": true,
        "execution": {
          "iopub.status.busy": "2025-06-03T22:45:48.050746Z",
          "iopub.status.idle": "2025-06-03T22:45:48.051093Z",
          "shell.execute_reply": "2025-06-03T22:45:48.050977Z"
        },
        "id": "u1NybXhNIzdM",
        "colab": {
          "base_uri": "https://localhost:8080/",
          "height": 472
        },
        "outputId": "93ddc55f-a478-4fa5-a823-60d4db9e524e"
      },
      "outputs": [
        {
          "output_type": "display_data",
          "data": {
            "text/plain": [
              "<Figure size 640x480 with 1 Axes>"
            ],
            "image/png": "[encoded data removed]"
          },
          "metadata": {}
        }
      ],
      "execution_count": 81
    },
    {
      "cell_type": "code",
      "source": [
        "# Simpan model\n",
        "print(\"\\nMenyimpan model...\")\n",
        "# autoencoder.save('autoencoder_model.h5')\n",
        "# encoder.save('encoder_model.h5')\n",
        "rnn_model.save('rnn_model.keras')"
      ],
      "metadata": {
        "trusted": true,
        "execution": {
          "iopub.status.busy": "2025-06-03T22:45:48.054188Z",
          "iopub.status.idle": "2025-06-03T22:45:48.054483Z",
          "shell.execute_reply": "2025-06-03T22:45:48.054352Z"
        },
        "id": "sTmzzW39IzdM",
        "colab": {
          "base_uri": "https://localhost:8080/"
        },
        "outputId": "06f451ae-5329-475d-befb-681ddfcacb31"
      },
      "outputs": [
        {
          "output_type": "stream",
          "name": "stdout",
          "text": [
            "\n",
            "Menyimpan model...\n"
          ]
        }
      ],
      "execution_count": 82
    },
    {
      "cell_type": "code",
      "source": [
        "# Simpan label encoder\n",
        "import joblib\n",
        "joblib.dump(le, 'label_encoder.joblib')\n",
        "joblib.dump(scaler, 'scaler.joblib')\n",
        "joblib.dump(imputer, 'imputer.joblib')\n",
        "joblib.dump(selector, 'selector.joblib')"
      ],
      "metadata": {
        "trusted": true,
        "execution": {
          "iopub.status.busy": "2025-06-03T22:45:48.055424Z",
          "iopub.status.idle": "2025-06-03T22:45:48.055714Z",
          "shell.execute_reply": "2025-06-03T22:45:48.055586Z"
        },
        "id": "S5h3e7YkIzdM",
        "colab": {
          "base_uri": "https://localhost:8080/"
        },
        "outputId": "3c70094c-763a-4382-8867-4a90e40c7de5"
      },
      "outputs": [
        {
          "output_type": "execute_result",
          "data": {
            "text/plain": [
              "['selector.joblib']"
            ]
          },
          "metadata": {},
          "execution_count": 83
        }
      ],
      "execution_count": 83
    },
    {
      "cell_type": "markdown",
      "source": [
        "---"
      ],
      "metadata": {
        "id": "hxwnosY8IzdN"
      }
    }
  ]
}